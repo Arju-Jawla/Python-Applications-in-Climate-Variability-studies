{
  "nbformat": 4,
  "nbformat_minor": 0,
  "metadata": {
    "colab": {
      "provenance": [],
      "authorship_tag": "ABX9TyMTodm40HREv6WJ8wa3z2R9",
      "include_colab_link": true
    },
    "kernelspec": {
      "name": "python3",
      "display_name": "Python 3"
    },
    "language_info": {
      "name": "python"
    },
    "widgets": {
      "application/vnd.jupyter.widget-state+json": {
        "a00a04bdc7bd44f1899a4693b4236d17": {
          "model_module": "@jupyter-widgets/controls",
          "model_name": "HBoxModel",
          "model_module_version": "1.5.0",
          "state": {
            "_dom_classes": [],
            "_model_module": "@jupyter-widgets/controls",
            "_model_module_version": "1.5.0",
            "_model_name": "HBoxModel",
            "_view_count": null,
            "_view_module": "@jupyter-widgets/controls",
            "_view_module_version": "1.5.0",
            "_view_name": "HBoxView",
            "box_style": "",
            "children": [
              "IPY_MODEL_5555c7a89cd1408b8d4a86831de55cd3",
              "IPY_MODEL_b40b01efe9c7423a9fff4fed76ef12bf",
              "IPY_MODEL_d3ad0197dfed451a8a7d28d77bb007dc"
            ],
            "layout": "IPY_MODEL_97be0be2f6c448c18f85347322c59a5d"
          }
        },
        "5555c7a89cd1408b8d4a86831de55cd3": {
          "model_module": "@jupyter-widgets/controls",
          "model_name": "HTMLModel",
          "model_module_version": "1.5.0",
          "state": {
            "_dom_classes": [],
            "_model_module": "@jupyter-widgets/controls",
            "_model_module_version": "1.5.0",
            "_model_name": "HTMLModel",
            "_view_count": null,
            "_view_module": "@jupyter-widgets/controls",
            "_view_module_version": "1.5.0",
            "_view_name": "HTMLView",
            "description": "",
            "description_tooltip": null,
            "layout": "IPY_MODEL_086d61bdca5d4c2ba103b6ca24e5c0ad",
            "placeholder": "​",
            "style": "IPY_MODEL_820fdbae6f0c44238f286876cd0fdf43",
            "value": "100%"
          }
        },
        "b40b01efe9c7423a9fff4fed76ef12bf": {
          "model_module": "@jupyter-widgets/controls",
          "model_name": "FloatProgressModel",
          "model_module_version": "1.5.0",
          "state": {
            "_dom_classes": [],
            "_model_module": "@jupyter-widgets/controls",
            "_model_module_version": "1.5.0",
            "_model_name": "FloatProgressModel",
            "_view_count": null,
            "_view_module": "@jupyter-widgets/controls",
            "_view_module_version": "1.5.0",
            "_view_name": "ProgressView",
            "bar_style": "success",
            "description": "",
            "description_tooltip": null,
            "layout": "IPY_MODEL_9cd02138f9d44804b8f87340251b786d",
            "max": 358,
            "min": 0,
            "orientation": "horizontal",
            "style": "IPY_MODEL_2f23c7cf61ba4e01a7563f42a5efb043",
            "value": 358
          }
        },
        "d3ad0197dfed451a8a7d28d77bb007dc": {
          "model_module": "@jupyter-widgets/controls",
          "model_name": "HTMLModel",
          "model_module_version": "1.5.0",
          "state": {
            "_dom_classes": [],
            "_model_module": "@jupyter-widgets/controls",
            "_model_module_version": "1.5.0",
            "_model_name": "HTMLModel",
            "_view_count": null,
            "_view_module": "@jupyter-widgets/controls",
            "_view_module_version": "1.5.0",
            "_view_name": "HTMLView",
            "description": "",
            "description_tooltip": null,
            "layout": "IPY_MODEL_57843aef259d4748839d89b8a6fed51c",
            "placeholder": "​",
            "style": "IPY_MODEL_db287286469442d2bf2d2a3853731e19",
            "value": " 358/358 [00:10&lt;00:00, 35.56it/s]"
          }
        },
        "97be0be2f6c448c18f85347322c59a5d": {
          "model_module": "@jupyter-widgets/base",
          "model_name": "LayoutModel",
          "model_module_version": "1.2.0",
          "state": {
            "_model_module": "@jupyter-widgets/base",
            "_model_module_version": "1.2.0",
            "_model_name": "LayoutModel",
            "_view_count": null,
            "_view_module": "@jupyter-widgets/base",
            "_view_module_version": "1.2.0",
            "_view_name": "LayoutView",
            "align_content": null,
            "align_items": null,
            "align_self": null,
            "border": null,
            "bottom": null,
            "display": null,
            "flex": null,
            "flex_flow": null,
            "grid_area": null,
            "grid_auto_columns": null,
            "grid_auto_flow": null,
            "grid_auto_rows": null,
            "grid_column": null,
            "grid_gap": null,
            "grid_row": null,
            "grid_template_areas": null,
            "grid_template_columns": null,
            "grid_template_rows": null,
            "height": null,
            "justify_content": null,
            "justify_items": null,
            "left": null,
            "margin": null,
            "max_height": null,
            "max_width": null,
            "min_height": null,
            "min_width": null,
            "object_fit": null,
            "object_position": null,
            "order": null,
            "overflow": null,
            "overflow_x": null,
            "overflow_y": null,
            "padding": null,
            "right": null,
            "top": null,
            "visibility": null,
            "width": null
          }
        },
        "086d61bdca5d4c2ba103b6ca24e5c0ad": {
          "model_module": "@jupyter-widgets/base",
          "model_name": "LayoutModel",
          "model_module_version": "1.2.0",
          "state": {
            "_model_module": "@jupyter-widgets/base",
            "_model_module_version": "1.2.0",
            "_model_name": "LayoutModel",
            "_view_count": null,
            "_view_module": "@jupyter-widgets/base",
            "_view_module_version": "1.2.0",
            "_view_name": "LayoutView",
            "align_content": null,
            "align_items": null,
            "align_self": null,
            "border": null,
            "bottom": null,
            "display": null,
            "flex": null,
            "flex_flow": null,
            "grid_area": null,
            "grid_auto_columns": null,
            "grid_auto_flow": null,
            "grid_auto_rows": null,
            "grid_column": null,
            "grid_gap": null,
            "grid_row": null,
            "grid_template_areas": null,
            "grid_template_columns": null,
            "grid_template_rows": null,
            "height": null,
            "justify_content": null,
            "justify_items": null,
            "left": null,
            "margin": null,
            "max_height": null,
            "max_width": null,
            "min_height": null,
            "min_width": null,
            "object_fit": null,
            "object_position": null,
            "order": null,
            "overflow": null,
            "overflow_x": null,
            "overflow_y": null,
            "padding": null,
            "right": null,
            "top": null,
            "visibility": null,
            "width": null
          }
        },
        "820fdbae6f0c44238f286876cd0fdf43": {
          "model_module": "@jupyter-widgets/controls",
          "model_name": "DescriptionStyleModel",
          "model_module_version": "1.5.0",
          "state": {
            "_model_module": "@jupyter-widgets/controls",
            "_model_module_version": "1.5.0",
            "_model_name": "DescriptionStyleModel",
            "_view_count": null,
            "_view_module": "@jupyter-widgets/base",
            "_view_module_version": "1.2.0",
            "_view_name": "StyleView",
            "description_width": ""
          }
        },
        "9cd02138f9d44804b8f87340251b786d": {
          "model_module": "@jupyter-widgets/base",
          "model_name": "LayoutModel",
          "model_module_version": "1.2.0",
          "state": {
            "_model_module": "@jupyter-widgets/base",
            "_model_module_version": "1.2.0",
            "_model_name": "LayoutModel",
            "_view_count": null,
            "_view_module": "@jupyter-widgets/base",
            "_view_module_version": "1.2.0",
            "_view_name": "LayoutView",
            "align_content": null,
            "align_items": null,
            "align_self": null,
            "border": null,
            "bottom": null,
            "display": null,
            "flex": null,
            "flex_flow": null,
            "grid_area": null,
            "grid_auto_columns": null,
            "grid_auto_flow": null,
            "grid_auto_rows": null,
            "grid_column": null,
            "grid_gap": null,
            "grid_row": null,
            "grid_template_areas": null,
            "grid_template_columns": null,
            "grid_template_rows": null,
            "height": null,
            "justify_content": null,
            "justify_items": null,
            "left": null,
            "margin": null,
            "max_height": null,
            "max_width": null,
            "min_height": null,
            "min_width": null,
            "object_fit": null,
            "object_position": null,
            "order": null,
            "overflow": null,
            "overflow_x": null,
            "overflow_y": null,
            "padding": null,
            "right": null,
            "top": null,
            "visibility": null,
            "width": null
          }
        },
        "2f23c7cf61ba4e01a7563f42a5efb043": {
          "model_module": "@jupyter-widgets/controls",
          "model_name": "ProgressStyleModel",
          "model_module_version": "1.5.0",
          "state": {
            "_model_module": "@jupyter-widgets/controls",
            "_model_module_version": "1.5.0",
            "_model_name": "ProgressStyleModel",
            "_view_count": null,
            "_view_module": "@jupyter-widgets/base",
            "_view_module_version": "1.2.0",
            "_view_name": "StyleView",
            "bar_color": null,
            "description_width": ""
          }
        },
        "57843aef259d4748839d89b8a6fed51c": {
          "model_module": "@jupyter-widgets/base",
          "model_name": "LayoutModel",
          "model_module_version": "1.2.0",
          "state": {
            "_model_module": "@jupyter-widgets/base",
            "_model_module_version": "1.2.0",
            "_model_name": "LayoutModel",
            "_view_count": null,
            "_view_module": "@jupyter-widgets/base",
            "_view_module_version": "1.2.0",
            "_view_name": "LayoutView",
            "align_content": null,
            "align_items": null,
            "align_self": null,
            "border": null,
            "bottom": null,
            "display": null,
            "flex": null,
            "flex_flow": null,
            "grid_area": null,
            "grid_auto_columns": null,
            "grid_auto_flow": null,
            "grid_auto_rows": null,
            "grid_column": null,
            "grid_gap": null,
            "grid_row": null,
            "grid_template_areas": null,
            "grid_template_columns": null,
            "grid_template_rows": null,
            "height": null,
            "justify_content": null,
            "justify_items": null,
            "left": null,
            "margin": null,
            "max_height": null,
            "max_width": null,
            "min_height": null,
            "min_width": null,
            "object_fit": null,
            "object_position": null,
            "order": null,
            "overflow": null,
            "overflow_x": null,
            "overflow_y": null,
            "padding": null,
            "right": null,
            "top": null,
            "visibility": null,
            "width": null
          }
        },
        "db287286469442d2bf2d2a3853731e19": {
          "model_module": "@jupyter-widgets/controls",
          "model_name": "DescriptionStyleModel",
          "model_module_version": "1.5.0",
          "state": {
            "_model_module": "@jupyter-widgets/controls",
            "_model_module_version": "1.5.0",
            "_model_name": "DescriptionStyleModel",
            "_view_count": null,
            "_view_module": "@jupyter-widgets/base",
            "_view_module_version": "1.2.0",
            "_view_name": "StyleView",
            "description_width": ""
          }
        }
      }
    }
  },
  "cells": [
    {
      "cell_type": "markdown",
      "metadata": {
        "id": "view-in-github",
        "colab_type": "text"
      },
      "source": [
        "<a href=\"https://colab.research.google.com/github/Arju-Jawla/Python-Applications-in-Climate-Variability-studies/blob/main/copernicusmarine_API_dataset_fetching_code_example.ipynb\" target=\"_parent\"><img src=\"https://colab.research.google.com/assets/colab-badge.svg\" alt=\"Open In Colab\"/></a>"
      ]
    },
    {
      "cell_type": "code",
      "source": [
        "!pip install copernicusmarine"
      ],
      "metadata": {
        "colab": {
          "base_uri": "https://localhost:8080/"
        },
        "id": "QRv8-u2472aH",
        "outputId": "8b780d63-65a4-41f8-979c-23b91142ccf1"
      },
      "execution_count": null,
      "outputs": [
        {
          "output_type": "stream",
          "name": "stdout",
          "text": [
            "Collecting copernicusmarine\n",
            "  Downloading copernicusmarine-1.3.3-py3-none-any.whl.metadata (34 kB)\n",
            "Collecting aiohttp<3.10.0,>=3.9.4 (from copernicusmarine)\n",
            "  Downloading aiohttp-3.9.5-cp310-cp310-manylinux_2_17_x86_64.manylinux2014_x86_64.whl.metadata (7.5 kB)\n",
            "Collecting boto3>=1.25 (from copernicusmarine)\n",
            "  Downloading boto3-1.35.41-py3-none-any.whl.metadata (6.7 kB)\n",
            "Collecting cachier>=2.2.1 (from copernicusmarine)\n",
            "  Downloading cachier-3.0.1-py3-none-any.whl.metadata (20 kB)\n",
            "Requirement already satisfied: click>=8.0.4 in /usr/local/lib/python3.10/dist-packages (from copernicusmarine) (8.1.7)\n",
            "Requirement already satisfied: dask>=2022 in /usr/local/lib/python3.10/dist-packages (from copernicusmarine) (2024.8.0)\n",
            "Requirement already satisfied: lxml>=4.9.0 in /usr/local/lib/python3.10/dist-packages (from copernicusmarine) (4.9.4)\n",
            "Requirement already satisfied: nest-asyncio>=1.5.8 in /usr/local/lib/python3.10/dist-packages (from copernicusmarine) (1.6.0)\n",
            "Collecting netCDF4>=1.5.4 (from copernicusmarine)\n",
            "  Downloading netCDF4-1.7.1.post2-cp310-cp310-manylinux_2_17_x86_64.manylinux2014_x86_64.whl.metadata (1.8 kB)\n",
            "Requirement already satisfied: numpy<2.0.0,>=1.23.0 in /usr/local/lib/python3.10/dist-packages (from copernicusmarine) (1.26.4)\n",
            "Collecting pystac>=1.8.3 (from copernicusmarine)\n",
            "  Downloading pystac-1.11.0-py3-none-any.whl.metadata (4.5 kB)\n",
            "Requirement already satisfied: requests>=2.27.1 in /usr/local/lib/python3.10/dist-packages (from copernicusmarine) (2.32.3)\n",
            "Collecting semver>=3.0.2 (from copernicusmarine)\n",
            "  Downloading semver-3.0.2-py3-none-any.whl.metadata (5.0 kB)\n",
            "Requirement already satisfied: setuptools>=68.2.2 in /usr/local/lib/python3.10/dist-packages (from copernicusmarine) (71.0.4)\n",
            "Requirement already satisfied: tqdm>=4.65.0 in /usr/local/lib/python3.10/dist-packages (from copernicusmarine) (4.66.5)\n",
            "Requirement already satisfied: xarray>=2023.4.0 in /usr/local/lib/python3.10/dist-packages (from copernicusmarine) (2024.9.0)\n",
            "Collecting zarr>=2.13.3 (from copernicusmarine)\n",
            "  Downloading zarr-2.18.3-py3-none-any.whl.metadata (5.7 kB)\n",
            "Requirement already satisfied: aiosignal>=1.1.2 in /usr/local/lib/python3.10/dist-packages (from aiohttp<3.10.0,>=3.9.4->copernicusmarine) (1.3.1)\n",
            "Requirement already satisfied: attrs>=17.3.0 in /usr/local/lib/python3.10/dist-packages (from aiohttp<3.10.0,>=3.9.4->copernicusmarine) (24.2.0)\n",
            "Requirement already satisfied: frozenlist>=1.1.1 in /usr/local/lib/python3.10/dist-packages (from aiohttp<3.10.0,>=3.9.4->copernicusmarine) (1.4.1)\n",
            "Requirement already satisfied: multidict<7.0,>=4.5 in /usr/local/lib/python3.10/dist-packages (from aiohttp<3.10.0,>=3.9.4->copernicusmarine) (6.1.0)\n",
            "Requirement already satisfied: yarl<2.0,>=1.0 in /usr/local/lib/python3.10/dist-packages (from aiohttp<3.10.0,>=3.9.4->copernicusmarine) (1.14.0)\n",
            "Requirement already satisfied: async-timeout<5.0,>=4.0 in /usr/local/lib/python3.10/dist-packages (from aiohttp<3.10.0,>=3.9.4->copernicusmarine) (4.0.3)\n",
            "Collecting botocore<1.36.0,>=1.35.41 (from boto3>=1.25->copernicusmarine)\n",
            "  Downloading botocore-1.35.41-py3-none-any.whl.metadata (5.7 kB)\n",
            "Collecting jmespath<2.0.0,>=0.7.1 (from boto3>=1.25->copernicusmarine)\n",
            "  Downloading jmespath-1.0.1-py3-none-any.whl.metadata (7.6 kB)\n",
            "Collecting s3transfer<0.11.0,>=0.10.0 (from boto3>=1.25->copernicusmarine)\n",
            "  Downloading s3transfer-0.10.3-py3-none-any.whl.metadata (1.7 kB)\n",
            "Collecting portalocker>=2.3.2 (from cachier>=2.2.1->copernicusmarine)\n",
            "  Downloading portalocker-2.10.1-py3-none-any.whl.metadata (8.5 kB)\n",
            "Collecting watchdog>=2.3.1 (from cachier>=2.2.1->copernicusmarine)\n",
            "  Downloading watchdog-5.0.3-py3-none-manylinux2014_x86_64.whl.metadata (41 kB)\n",
            "\u001b[2K     \u001b[90m━━━━━━━━━━━━━━━━━━━━━━━━━━━━━━━━━━━━━━━━\u001b[0m \u001b[32m41.9/41.9 kB\u001b[0m \u001b[31m2.6 MB/s\u001b[0m eta \u001b[36m0:00:00\u001b[0m\n",
            "\u001b[?25hRequirement already satisfied: cloudpickle>=1.5.0 in /usr/local/lib/python3.10/dist-packages (from dask>=2022->copernicusmarine) (2.2.1)\n",
            "Requirement already satisfied: fsspec>=2021.09.0 in /usr/local/lib/python3.10/dist-packages (from dask>=2022->copernicusmarine) (2024.6.1)\n",
            "Requirement already satisfied: packaging>=20.0 in /usr/local/lib/python3.10/dist-packages (from dask>=2022->copernicusmarine) (24.1)\n",
            "Requirement already satisfied: partd>=1.4.0 in /usr/local/lib/python3.10/dist-packages (from dask>=2022->copernicusmarine) (1.4.2)\n",
            "Requirement already satisfied: pyyaml>=5.3.1 in /usr/local/lib/python3.10/dist-packages (from dask>=2022->copernicusmarine) (6.0.2)\n",
            "Requirement already satisfied: toolz>=0.10.0 in /usr/local/lib/python3.10/dist-packages (from dask>=2022->copernicusmarine) (0.12.1)\n",
            "Requirement already satisfied: importlib-metadata>=4.13.0 in /usr/local/lib/python3.10/dist-packages (from dask>=2022->copernicusmarine) (8.5.0)\n",
            "Collecting cftime (from netCDF4>=1.5.4->copernicusmarine)\n",
            "  Downloading cftime-1.6.4-cp310-cp310-manylinux_2_17_x86_64.manylinux2014_x86_64.whl.metadata (8.7 kB)\n",
            "Requirement already satisfied: certifi in /usr/local/lib/python3.10/dist-packages (from netCDF4>=1.5.4->copernicusmarine) (2024.8.30)\n",
            "Requirement already satisfied: python-dateutil>=2.7.0 in /usr/local/lib/python3.10/dist-packages (from pystac>=1.8.3->copernicusmarine) (2.8.2)\n",
            "Requirement already satisfied: charset-normalizer<4,>=2 in /usr/local/lib/python3.10/dist-packages (from requests>=2.27.1->copernicusmarine) (3.4.0)\n",
            "Requirement already satisfied: idna<4,>=2.5 in /usr/local/lib/python3.10/dist-packages (from requests>=2.27.1->copernicusmarine) (3.10)\n",
            "Requirement already satisfied: urllib3<3,>=1.21.1 in /usr/local/lib/python3.10/dist-packages (from requests>=2.27.1->copernicusmarine) (2.2.3)\n",
            "Requirement already satisfied: pandas>=2.1 in /usr/local/lib/python3.10/dist-packages (from xarray>=2023.4.0->copernicusmarine) (2.2.2)\n",
            "Collecting asciitree (from zarr>=2.13.3->copernicusmarine)\n",
            "  Downloading asciitree-0.3.3.tar.gz (4.0 kB)\n",
            "  Preparing metadata (setup.py) ... \u001b[?25l\u001b[?25hdone\n",
            "Collecting numcodecs>=0.10.0 (from zarr>=2.13.3->copernicusmarine)\n",
            "  Downloading numcodecs-0.13.1-cp310-cp310-manylinux_2_17_x86_64.manylinux2014_x86_64.whl.metadata (2.9 kB)\n",
            "Collecting fasteners (from zarr>=2.13.3->copernicusmarine)\n",
            "  Downloading fasteners-0.19-py3-none-any.whl.metadata (4.9 kB)\n",
            "Requirement already satisfied: zipp>=3.20 in /usr/local/lib/python3.10/dist-packages (from importlib-metadata>=4.13.0->dask>=2022->copernicusmarine) (3.20.2)\n",
            "Requirement already satisfied: typing-extensions>=4.1.0 in /usr/local/lib/python3.10/dist-packages (from multidict<7.0,>=4.5->aiohttp<3.10.0,>=3.9.4->copernicusmarine) (4.12.2)\n",
            "Requirement already satisfied: pytz>=2020.1 in /usr/local/lib/python3.10/dist-packages (from pandas>=2.1->xarray>=2023.4.0->copernicusmarine) (2024.2)\n",
            "Requirement already satisfied: tzdata>=2022.7 in /usr/local/lib/python3.10/dist-packages (from pandas>=2.1->xarray>=2023.4.0->copernicusmarine) (2024.2)\n",
            "Requirement already satisfied: locket in /usr/local/lib/python3.10/dist-packages (from partd>=1.4.0->dask>=2022->copernicusmarine) (1.0.0)\n",
            "Requirement already satisfied: six>=1.5 in /usr/local/lib/python3.10/dist-packages (from python-dateutil>=2.7.0->pystac>=1.8.3->copernicusmarine) (1.16.0)\n",
            "Requirement already satisfied: propcache>=0.2.0 in /usr/local/lib/python3.10/dist-packages (from yarl<2.0,>=1.0->aiohttp<3.10.0,>=3.9.4->copernicusmarine) (0.2.0)\n",
            "Downloading copernicusmarine-1.3.3-py3-none-any.whl (91 kB)\n",
            "\u001b[2K   \u001b[90m━━━━━━━━━━━━━━━━━━━━━━━━━━━━━━━━━━━━━━━━\u001b[0m \u001b[32m91.3/91.3 kB\u001b[0m \u001b[31m5.1 MB/s\u001b[0m eta \u001b[36m0:00:00\u001b[0m\n",
            "\u001b[?25hDownloading aiohttp-3.9.5-cp310-cp310-manylinux_2_17_x86_64.manylinux2014_x86_64.whl (1.2 MB)\n",
            "\u001b[2K   \u001b[90m━━━━━━━━━━━━━━━━━━━━━━━━━━━━━━━━━━━━━━━━\u001b[0m \u001b[32m1.2/1.2 MB\u001b[0m \u001b[31m32.2 MB/s\u001b[0m eta \u001b[36m0:00:00\u001b[0m\n",
            "\u001b[?25hDownloading boto3-1.35.41-py3-none-any.whl (139 kB)\n",
            "\u001b[2K   \u001b[90m━━━━━━━━━━━━━━━━━━━━━━━━━━━━━━━━━━━━━━━━\u001b[0m \u001b[32m139.1/139.1 kB\u001b[0m \u001b[31m9.0 MB/s\u001b[0m eta \u001b[36m0:00:00\u001b[0m\n",
            "\u001b[?25hDownloading cachier-3.0.1-py3-none-any.whl (22 kB)\n",
            "Downloading netCDF4-1.7.1.post2-cp310-cp310-manylinux_2_17_x86_64.manylinux2014_x86_64.whl (9.0 MB)\n",
            "\u001b[2K   \u001b[90m━━━━━━━━━━━━━━━━━━━━━━━━━━━━━━━━━━━━━━━━\u001b[0m \u001b[32m9.0/9.0 MB\u001b[0m \u001b[31m44.0 MB/s\u001b[0m eta \u001b[36m0:00:00\u001b[0m\n",
            "\u001b[?25hDownloading pystac-1.11.0-py3-none-any.whl (183 kB)\n",
            "\u001b[2K   \u001b[90m━━━━━━━━━━━━━━━━━━━━━━━━━━━━━━━━━━━━━━━━\u001b[0m \u001b[32m183.9/183.9 kB\u001b[0m \u001b[31m12.0 MB/s\u001b[0m eta \u001b[36m0:00:00\u001b[0m\n",
            "\u001b[?25hDownloading semver-3.0.2-py3-none-any.whl (17 kB)\n",
            "Downloading zarr-2.18.3-py3-none-any.whl (210 kB)\n",
            "\u001b[2K   \u001b[90m━━━━━━━━━━━━━━━━━━━━━━━━━━━━━━━━━━━━━━━━\u001b[0m \u001b[32m210.7/210.7 kB\u001b[0m \u001b[31m13.6 MB/s\u001b[0m eta \u001b[36m0:00:00\u001b[0m\n",
            "\u001b[?25hDownloading botocore-1.35.41-py3-none-any.whl (12.6 MB)\n",
            "\u001b[2K   \u001b[90m━━━━━━━━━━━━━━━━━━━━━━━━━━━━━━━━━━━━━━━━\u001b[0m \u001b[32m12.6/12.6 MB\u001b[0m \u001b[31m69.7 MB/s\u001b[0m eta \u001b[36m0:00:00\u001b[0m\n",
            "\u001b[?25hDownloading jmespath-1.0.1-py3-none-any.whl (20 kB)\n",
            "Downloading numcodecs-0.13.1-cp310-cp310-manylinux_2_17_x86_64.manylinux2014_x86_64.whl (8.6 MB)\n",
            "\u001b[2K   \u001b[90m━━━━━━━━━━━━━━━━━━━━━━━━━━━━━━━━━━━━━━━━\u001b[0m \u001b[32m8.6/8.6 MB\u001b[0m \u001b[31m70.2 MB/s\u001b[0m eta \u001b[36m0:00:00\u001b[0m\n",
            "\u001b[?25hDownloading portalocker-2.10.1-py3-none-any.whl (18 kB)\n",
            "Downloading s3transfer-0.10.3-py3-none-any.whl (82 kB)\n",
            "\u001b[2K   \u001b[90m━━━━━━━━━━━━━━━━━━━━━━━━━━━━━━━━━━━━━━━━\u001b[0m \u001b[32m82.6/82.6 kB\u001b[0m \u001b[31m4.8 MB/s\u001b[0m eta \u001b[36m0:00:00\u001b[0m\n",
            "\u001b[?25hDownloading watchdog-5.0.3-py3-none-manylinux2014_x86_64.whl (79 kB)\n",
            "\u001b[2K   \u001b[90m━━━━━━━━━━━━━━━━━━━━━━━━━━━━━━━━━━━━━━━━\u001b[0m \u001b[32m79.3/79.3 kB\u001b[0m \u001b[31m5.3 MB/s\u001b[0m eta \u001b[36m0:00:00\u001b[0m\n",
            "\u001b[?25hDownloading cftime-1.6.4-cp310-cp310-manylinux_2_17_x86_64.manylinux2014_x86_64.whl (1.3 MB)\n",
            "\u001b[2K   \u001b[90m━━━━━━━━━━━━━━━━━━━━━━━━━━━━━━━━━━━━━━━━\u001b[0m \u001b[32m1.3/1.3 MB\u001b[0m \u001b[31m48.2 MB/s\u001b[0m eta \u001b[36m0:00:00\u001b[0m\n",
            "\u001b[?25hDownloading fasteners-0.19-py3-none-any.whl (18 kB)\n",
            "Building wheels for collected packages: asciitree\n",
            "  Building wheel for asciitree (setup.py) ... \u001b[?25l\u001b[?25hdone\n",
            "  Created wheel for asciitree: filename=asciitree-0.3.3-py3-none-any.whl size=5033 sha256=18fd6f4826b60e92d46e82dc88cb5bbafdaa2dc3ebfe798f78663f4a05805957\n",
            "  Stored in directory: /root/.cache/pip/wheels/7f/4e/be/1171b40f43b918087657ec57cf3b81fa1a2e027d8755baa184\n",
            "Successfully built asciitree\n",
            "Installing collected packages: asciitree, watchdog, semver, portalocker, numcodecs, jmespath, fasteners, cftime, zarr, pystac, netCDF4, cachier, botocore, s3transfer, aiohttp, boto3, copernicusmarine\n",
            "  Attempting uninstall: aiohttp\n",
            "    Found existing installation: aiohttp 3.10.10\n",
            "    Uninstalling aiohttp-3.10.10:\n",
            "      Successfully uninstalled aiohttp-3.10.10\n",
            "Successfully installed aiohttp-3.9.5 asciitree-0.3.3 boto3-1.35.41 botocore-1.35.41 cachier-3.0.1 cftime-1.6.4 copernicusmarine-1.3.3 fasteners-0.19 jmespath-1.0.1 netCDF4-1.7.1.post2 numcodecs-0.13.1 portalocker-2.10.1 pystac-1.11.0 s3transfer-0.10.3 semver-3.0.2 watchdog-5.0.3 zarr-2.18.3\n"
          ]
        }
      ]
    },
    {
      "cell_type": "code",
      "execution_count": null,
      "metadata": {
        "id": "0m-fB3_x7ktF"
      },
      "outputs": [],
      "source": [
        "import copernicusmarine"
      ]
    },
    {
      "cell_type": "code",
      "source": [
        "?copernicusmarine.subset"
      ],
      "metadata": {
        "id": "JaxH2yNO7we8"
      },
      "execution_count": null,
      "outputs": []
    },
    {
      "cell_type": "code",
      "source": [
        "copernicusmarine.subset(\n",
        "  dataset_id=\"dataset-armor-3d-rep-monthly\",\n",
        "  variables=[\"so\", \"to\"],\n",
        "  minimum_longitude=-15,\n",
        "  maximum_longitude=10,\n",
        "  minimum_latitude=-10,\n",
        "  maximum_latitude=15,\n",
        "  start_datetime=\"2003-01-01T00:00:00\",\n",
        "  end_datetime=\"2020-12-01T00:00:00\",\n",
        "  minimum_depth=0,\n",
        "  maximum_depth=0,\n",
        ")"
      ],
      "metadata": {
        "colab": {
          "base_uri": "https://localhost:8080/",
          "height": 1000,
          "referenced_widgets": [
            "a00a04bdc7bd44f1899a4693b4236d17",
            "5555c7a89cd1408b8d4a86831de55cd3",
            "b40b01efe9c7423a9fff4fed76ef12bf",
            "d3ad0197dfed451a8a7d28d77bb007dc",
            "97be0be2f6c448c18f85347322c59a5d",
            "086d61bdca5d4c2ba103b6ca24e5c0ad",
            "820fdbae6f0c44238f286876cd0fdf43",
            "9cd02138f9d44804b8f87340251b786d",
            "2f23c7cf61ba4e01a7563f42a5efb043",
            "57843aef259d4748839d89b8a6fed51c",
            "db287286469442d2bf2d2a3853731e19"
          ]
        },
        "id": "fl89PcTRARTw",
        "outputId": "42888e4e-9add-4ff8-cb97-7c3f4fe9ef76"
      },
      "execution_count": null,
      "outputs": [
        {
          "name": "stdout",
          "output_type": "stream",
          "text": [
            "username: ajawla\n",
            "password: ··········\n"
          ]
        },
        {
          "output_type": "stream",
          "name": "stderr",
          "text": [
            "Fetching catalog: 100%|██████████| 3/3 [00:28<00:00,  9.60s/it]\n",
            "INFO - 2024-10-16T01:47:08Z - Dataset version was not specified, the latest one was selected: \"202012\"\n",
            "INFO:copernicus_marine_root_logger:Dataset version was not specified, the latest one was selected: \"202012\"\n",
            "INFO - 2024-10-16T01:47:08Z - Dataset part was not specified, the first one was selected: \"default\"\n",
            "INFO:copernicus_marine_root_logger:Dataset part was not specified, the first one was selected: \"default\"\n",
            "INFO - 2024-10-16T01:47:13Z - Service was not specified, the default one was selected: \"arco-time-series\"\n",
            "INFO:copernicus_marine_root_logger:Service was not specified, the default one was selected: \"arco-time-series\"\n",
            "INFO - 2024-10-16T01:47:16Z - Downloading using service arco-time-series...\n",
            "INFO:copernicus_marine_root_logger:Downloading using service arco-time-series...\n",
            "INFO - 2024-10-16T01:47:20Z - <xarray.Dataset> Size: 35MB\n",
            "Dimensions:    (depth: 1, latitude: 100, longitude: 100, time: 216)\n",
            "Coordinates:\n",
            "  * depth      (depth) int16 2B 0\n",
            "  * latitude   (latitude) float32 400B -9.875 -9.625 -9.375 ... 14.62 14.88\n",
            "  * longitude  (longitude) float32 400B -14.88 -14.62 -14.38 ... 9.625 9.875\n",
            "  * time       (time) datetime64[ns] 2kB 2003-01-01 2003-02-01 ... 2020-12-01\n",
            "Data variables:\n",
            "    so         (time, depth, latitude, longitude) float64 17MB dask.array<chunksize=(69, 1, 64, 64), meta=np.ndarray>\n",
            "    to         (time, depth, latitude, longitude) float64 17MB dask.array<chunksize=(69, 1, 64, 64), meta=np.ndarray>\n",
            "Attributes:\n",
            "    Conventions:               CF-1.0\n",
            "    description:               ARMOR3D REP CMEMS December 2020 Release\n",
            "    domain_name:               GLO\n",
            "    history:                   1993-01-15 12:00:00 ARMOR3D REP - TSHUV Global...\n",
            "    institution:               CLS\n",
            "    title:                     ARMOR3D REP - TSHUVMld Global Ocean Observatio...\n",
            "    copernicusmarine_version:  1.3.3\n",
            "INFO:copernicus_marine_root_logger:<xarray.Dataset> Size: 35MB\n",
            "Dimensions:    (depth: 1, latitude: 100, longitude: 100, time: 216)\n",
            "Coordinates:\n",
            "  * depth      (depth) int16 2B 0\n",
            "  * latitude   (latitude) float32 400B -9.875 -9.625 -9.375 ... 14.62 14.88\n",
            "  * longitude  (longitude) float32 400B -14.88 -14.62 -14.38 ... 9.625 9.875\n",
            "  * time       (time) datetime64[ns] 2kB 2003-01-01 2003-02-01 ... 2020-12-01\n",
            "Data variables:\n",
            "    so         (time, depth, latitude, longitude) float64 17MB dask.array<chunksize=(69, 1, 64, 64), meta=np.ndarray>\n",
            "    to         (time, depth, latitude, longitude) float64 17MB dask.array<chunksize=(69, 1, 64, 64), meta=np.ndarray>\n",
            "Attributes:\n",
            "    Conventions:               CF-1.0\n",
            "    description:               ARMOR3D REP CMEMS December 2020 Release\n",
            "    domain_name:               GLO\n",
            "    history:                   1993-01-15 12:00:00 ARMOR3D REP - TSHUV Global...\n",
            "    institution:               CLS\n",
            "    title:                     ARMOR3D REP - TSHUVMld Global Ocean Observatio...\n",
            "    copernicusmarine_version:  1.3.3\n",
            "INFO - 2024-10-16T01:47:20Z - Estimated size of the dataset file is 32.977 MB.\n",
            "INFO:copernicus_marine_root_logger:Estimated size of the dataset file is 32.977 MB.\n",
            "Do you want to proceed with download? [Y/n]:"
          ]
        },
        {
          "name": "stdout",
          "output_type": "stream",
          "text": [
            " Y\n"
          ]
        },
        {
          "output_type": "stream",
          "name": "stderr",
          "text": [
            "INFO - 2024-10-16T01:47:26Z - Writing to local storage. Please wait...\n",
            "INFO:copernicus_marine_root_logger:Writing to local storage. Please wait...\n"
          ]
        },
        {
          "output_type": "display_data",
          "data": {
            "text/plain": [
              "  0%|          | 0/358 [00:00<?, ?it/s]"
            ],
            "application/vnd.jupyter.widget-view+json": {
              "version_major": 2,
              "version_minor": 0,
              "model_id": "a00a04bdc7bd44f1899a4693b4236d17"
            }
          },
          "metadata": {}
        },
        {
          "output_type": "stream",
          "name": "stderr",
          "text": [
            "INFO - 2024-10-16T01:47:37Z - Successfully downloaded to dataset-armor-3d-rep-monthly_so-to_14.88W-9.88E_9.88S-14.88N_0.00m_2003-01-01-2020-12-01.nc\n",
            "INFO:copernicus_marine_root_logger:Successfully downloaded to dataset-armor-3d-rep-monthly_so-to_14.88W-9.88E_9.88S-14.88N_0.00m_2003-01-01-2020-12-01.nc\n"
          ]
        },
        {
          "output_type": "execute_result",
          "data": {
            "text/plain": [
              "PosixPath('dataset-armor-3d-rep-monthly_so-to_14.88W-9.88E_9.88S-14.88N_0.00m_2003-01-01-2020-12-01.nc')"
            ]
          },
          "metadata": {},
          "execution_count": 7
        }
      ]
    },
    {
      "cell_type": "code",
      "source": [
        "!pip install netCDF4"
      ],
      "metadata": {
        "colab": {
          "base_uri": "https://localhost:8080/"
        },
        "id": "xvb14oi4ARzn",
        "outputId": "96565cff-6a1f-4ea0-b7a6-e53459b78160"
      },
      "execution_count": null,
      "outputs": [
        {
          "output_type": "stream",
          "name": "stdout",
          "text": [
            "Requirement already satisfied: netCDF4 in /usr/local/lib/python3.10/dist-packages (1.7.1.post2)\n",
            "Requirement already satisfied: cftime in /usr/local/lib/python3.10/dist-packages (from netCDF4) (1.6.4)\n",
            "Requirement already satisfied: certifi in /usr/local/lib/python3.10/dist-packages (from netCDF4) (2024.8.30)\n",
            "Requirement already satisfied: numpy in /usr/local/lib/python3.10/dist-packages (from netCDF4) (1.26.4)\n"
          ]
        }
      ]
    },
    {
      "cell_type": "code",
      "source": [
        "import numpy as np\n",
        "import pandas as pd\n",
        "from netCDF4 import Dataset"
      ],
      "metadata": {
        "id": "wVF_wut_Bq4H"
      },
      "execution_count": null,
      "outputs": []
    },
    {
      "cell_type": "code",
      "source": [
        "ncfile = '/content/dataset-armor-3d-rep-monthly_so-to_14.88W-9.88E_9.88S-14.88N_0.00m_2003-01-01-2020-12-01.nc'"
      ],
      "metadata": {
        "id": "I_mwWq1kBaJE"
      },
      "execution_count": null,
      "outputs": []
    },
    {
      "cell_type": "code",
      "source": [
        "fh = Dataset(ncfile, mode = 'r')"
      ],
      "metadata": {
        "id": "BciCxWyGBjuW"
      },
      "execution_count": null,
      "outputs": []
    },
    {
      "cell_type": "code",
      "source": [
        "print(fh)"
      ],
      "metadata": {
        "colab": {
          "base_uri": "https://localhost:8080/"
        },
        "id": "6hCX2qapBmfm",
        "outputId": "2bef1cf3-5682-4de9-9274-61133c48bc3b"
      },
      "execution_count": null,
      "outputs": [
        {
          "output_type": "stream",
          "name": "stdout",
          "text": [
            "<class 'netCDF4._netCDF4.Dataset'>\n",
            "root group (NETCDF4 data model, file format HDF5):\n",
            "    Conventions: CF-1.0\n",
            "    description: ARMOR3D REP CMEMS December 2020 Release\n",
            "    domain_name: GLO\n",
            "    history: 1993-01-15 12:00:00 ARMOR3D REP - TSHUV Global Ocean Observation-based Product netCDF creation\n",
            "    institution: CLS\n",
            "    title: ARMOR3D REP - TSHUVMld Global Ocean Observation-based Product monthly average\n",
            "    copernicusmarine_version: 1.3.3\n",
            "    dimensions(sizes): depth(1), latitude(100), longitude(100), time(216)\n",
            "    variables(dimensions): int16 depth(depth), float32 latitude(latitude), float32 longitude(longitude), int32 time(time), int16 so(time, depth, latitude, longitude), int16 to(time, depth, latitude, longitude)\n",
            "    groups: \n"
          ]
        }
      ]
    },
    {
      "cell_type": "code",
      "source": [],
      "metadata": {
        "id": "4wykvGf3Bvx3"
      },
      "execution_count": null,
      "outputs": []
    }
  ]
}