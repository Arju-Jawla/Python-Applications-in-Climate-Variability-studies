{
  "nbformat": 4,
  "nbformat_minor": 0,
  "metadata": {
    "colab": {
      "provenance": [],
      "mount_file_id": "1XdG-K9nIsdog7FY6_U_SCqbk2e3_Gdh5",
      "authorship_tag": "ABX9TyPqzoXy3jwX2ZPmEnSws+Ld",
      "include_colab_link": true
    },
    "kernelspec": {
      "name": "python3",
      "display_name": "Python 3"
    },
    "language_info": {
      "name": "python"
    }
  },
  "cells": [
    {
      "cell_type": "markdown",
      "metadata": {
        "id": "view-in-github",
        "colab_type": "text"
      },
      "source": [
        "<a href=\"https://colab.research.google.com/github/Arju-Jawla/Python-Applications-in-Climate-Variability-studies/blob/main/01_Read_SST_NetCDF_data%2C_subsample_and_save.ipynb\" target=\"_parent\"><img src=\"https://colab.research.google.com/assets/colab-badge.svg\" alt=\"Open In Colab\"/></a>"
      ]
    },
    {
      "cell_type": "markdown",
      "source": [
        "# 1. Load basic Libraries"
      ],
      "metadata": {
        "id": "PdisQ8bnucfI"
      }
    },
    {
      "cell_type": "code",
      "execution_count": null,
      "metadata": {
        "colab": {
          "base_uri": "https://localhost:8080/"
        },
        "id": "agq7AFBsF0yX",
        "outputId": "d97204ac-4c66-473a-da9f-c6a62b1acf6e"
      },
      "outputs": [
        {
          "output_type": "stream",
          "name": "stdout",
          "text": [
            "Collecting netCDF4\n",
            "  Downloading netCDF4-1.7.1.post2-cp310-cp310-manylinux_2_17_x86_64.manylinux2014_x86_64.whl.metadata (1.8 kB)\n",
            "Collecting cftime (from netCDF4)\n",
            "  Downloading cftime-1.6.4-cp310-cp310-manylinux_2_17_x86_64.manylinux2014_x86_64.whl.metadata (8.7 kB)\n",
            "Requirement already satisfied: certifi in /usr/local/lib/python3.10/dist-packages (from netCDF4) (2024.8.30)\n",
            "Requirement already satisfied: numpy in /usr/local/lib/python3.10/dist-packages (from netCDF4) (1.26.4)\n",
            "Downloading netCDF4-1.7.1.post2-cp310-cp310-manylinux_2_17_x86_64.manylinux2014_x86_64.whl (9.0 MB)\n",
            "\u001b[2K   \u001b[90m━━━━━━━━━━━━━━━━━━━━━━━━━━━━━━━━━━━━━━━━\u001b[0m \u001b[32m9.0/9.0 MB\u001b[0m \u001b[31m20.0 MB/s\u001b[0m eta \u001b[36m0:00:00\u001b[0m\n",
            "\u001b[?25hDownloading cftime-1.6.4-cp310-cp310-manylinux_2_17_x86_64.manylinux2014_x86_64.whl (1.3 MB)\n",
            "\u001b[2K   \u001b[90m━━━━━━━━━━━━━━━━━━━━━━━━━━━━━━━━━━━━━━━━\u001b[0m \u001b[32m1.3/1.3 MB\u001b[0m \u001b[31m42.3 MB/s\u001b[0m eta \u001b[36m0:00:00\u001b[0m\n",
            "\u001b[?25hInstalling collected packages: cftime, netCDF4\n",
            "Successfully installed cftime-1.6.4 netCDF4-1.7.1.post2\n"
          ]
        }
      ],
      "source": [
        "#installing netCDF4 library\n",
        "!pip install netCDF4"
      ]
    },
    {
      "cell_type": "code",
      "source": [
        "# Enable inline plotting within your Jupyter Notebook\n",
        "%matplotlib inline\n",
        "\n",
        "# Import the NumPy library for numerical operations and array handling\n",
        "import numpy as np\n",
        "\n",
        "# Import the Dataset class from the netCDF4 library for working with NetCDF files\n",
        "from netCDF4 import Dataset"
      ],
      "metadata": {
        "id": "HyUzYdtxGk3g"
      },
      "execution_count": null,
      "outputs": []
    },
    {
      "cell_type": "markdown",
      "source": [
        "# 2. Set input NetCDF file info"
      ],
      "metadata": {
        "id": "hCFcoo7rvIlJ"
      }
    },
    {
      "cell_type": "code",
      "source": [
        "# Assign the file path of your NetCDF file to the variable 'ncfile'\n",
        "ncfile = '/content/drive/MyDrive/Project Learnings/Data/ERA5_t2m_3hrly_monmax_7922.nc'"
      ],
      "metadata": {
        "id": "tPlU1912GsAc"
      },
      "execution_count": null,
      "outputs": []
    },
    {
      "cell_type": "markdown",
      "source": [
        "# 3. Extract Variables"
      ],
      "metadata": {
        "id": "NsGvvUJqvj9j"
      }
    },
    {
      "cell_type": "code",
      "source": [
        "# Open the NetCDF file in read mode ('r') and assign the file handle to the variable 'fh'\n",
        "fh = Dataset(ncfile, mode = 'r')\n",
        "\n",
        "# Print information about the opened NetCDF file\n",
        "print(fh)"
      ],
      "metadata": {
        "colab": {
          "base_uri": "https://localhost:8080/"
        },
        "id": "OAQ_FGN2HGQc",
        "outputId": "23e5e3d3-e939-4e26-eaef-49e95cd20f40"
      },
      "execution_count": null,
      "outputs": [
        {
          "output_type": "stream",
          "name": "stdout",
          "text": [
            "<class 'netCDF4._netCDF4.Dataset'>\n",
            "root group (NETCDF3_64BIT_OFFSET data model, file format NETCDF3):\n",
            "    CDI: Climate Data Interface version 2.0.4 (https://mpimet.mpg.de/cdi)\n",
            "    Conventions: CF-1.6\n",
            "    history: Thu Jan 04 10:59:49 2024: cdo monmax ERA5_t2m_3hrly_daymax_7922.nc ERA5_t2m_3hrly_monmax_7922.nc\n",
            "Wed Jan 03 13:34:19 2024: cdo daymax ERA5_t2m_3hrly_7922.nc ERA5_t2m_3hrly_daymax_7922.nc\n",
            "Sun Dec 31 01:55:22 2023: cdo -f nc -b F32 mergetime ERA5_t2m_3hrly_1979.nc ERA5_t2m_3hrly_1980.nc ERA5_t2m_3hrly_1981.nc ERA5_t2m_3hrly_1982.nc ERA5_t2m_3hrly_1983.nc ERA5_t2m_3hrly_1984.nc ERA5_t2m_3hrly_1985.nc ERA5_t2m_3hrly_1986.nc ERA5_t2m_3hrly_1987.nc ERA5_t2m_3hrly_1988.nc ERA5_t2m_3hrly_1989.nc ERA5_t2m_3hrly_1990.nc ERA5_t2m_3hrly_1991.nc ERA5_t2m_3hrly_1992.nc ERA5_t2m_3hrly_1993.nc ERA5_t2m_3hrly_1994.nc ERA5_t2m_3hrly_1995.nc ERA5_t2m_3hrly_1996.nc ERA5_t2m_3hrly_1997.nc ERA5_t2m_3hrly_1998.nc ERA5_t2m_3hrly_1999.nc ERA5_t2m_3hrly_2000.nc ERA5_t2m_3hrly_2001.nc ERA5_t2m_3hrly_2002.nc ERA5_t2m_3hrly_2003.nc ERA5_t2m_3hrly_2004.nc ERA5_t2m_3hrly_2005.nc ERA5_t2m_3hrly_2006.nc ERA5_t2m_3hrly_2007.nc ERA5_t2m_3hrly_2008.nc ERA5_t2m_3hrly_2009.nc ERA5_t2m_3hrly_2010.nc ERA5_t2m_3hrly_2011.nc ERA5_t2m_3hrly_2012.nc ERA5_t2m_3hrly_2013.nc ERA5_t2m_3hrly_2014.nc ERA5_t2m_3hrly_2015.nc ERA5_t2m_3hrly_2016.nc ERA5_t2m_3hrly_2017.nc ERA5_t2m_3hrly_2018.nc ERA5_t2m_3hrly_2019.nc ERA5_t2m_3hrly_2020.nc ERA5_t2m_3hrly_2021.nc ERA5_t2m_3hrly_2022.nc ERA5_t2m_3hrly_7922.nc\n",
            "2023-12-23 04:09:51 GMT by grib_to_netcdf-2.25.1: /opt/ecmwf/mars-client/bin/grib_to_netcdf.bin -S param -o /cache/data0/adaptor.mars.internal-1703304459.8450766-25915-7-86d3e342-6529-4e54-af6a-9c5273a69cfc.nc /cache/tmp/86d3e342-6529-4e54-af6a-9c5273a69cfc-adaptor.mars.internal-1703304292.81704-25915-11-tmp.grib\n",
            "    frequency: mon\n",
            "    CDO: Climate Data Operators version 2.0.4 (https://mpimet.mpg.de/cdo)\n",
            "    dimensions(sizes): time(528), bnds(2), longitude(1440), latitude(721)\n",
            "    variables(dimensions): int32 time(time), float64 time_bnds(time, bnds), float32 longitude(longitude), float32 latitude(latitude), float32 t2m(time, latitude, longitude)\n",
            "    groups: \n"
          ]
        }
      ]
    },
    {
      "cell_type": "markdown",
      "source": [
        "**General Metadata:**\n",
        "\n",
        "**File Type:** The file format is NETCDF3_64BIT_OFFSET, which allows for larger file sizes than the classic NetCDF format.\n",
        "\n",
        "**CDI**: Indicates the use of the Climate Data Interface (CDI), version 2.0.4, commonly used for handling climate data.\n",
        "\n",
        "**Conventions:**The file adheres to CF (Climate and Forecast) metadata conventions version 1.6, which is a widely used standard for describing climate data.\n",
        "\n",
        "**History:** This provides a log of processing steps that were performed on the data. For example:\n",
        "On Thu Jan 04 2024, cdo monmax was used to generate the monthly maximum temperature data from a 3-hourly dataset.\n",
        "Other steps describe daily maximum temperature calculations and merging of yearly 3-hourly temperature files.\n",
        "\n",
        "\n",
        "**Dimensions:**\n",
        "**time(528):** The dataset has 528 time steps. Each time step may correspond to a monthly average or maximum temperature.\n",
        "bnds(2): This is likely related to time bounds, providing the start and end times of each time step.\n",
        "\n",
        "**longitude(1440):** There are 1440 longitude points (likely spaced at 0.25° intervals for global coverage).\n",
        "\n",
        "**latitude(721):** There are 721 latitude points (likely spaced at 0.25° intervals as well).\n",
        "\n",
        "\n",
        "**Variables:**\n",
        "\n",
        "**time(time):** Time variable of dimension time (528 time steps), most likely representing monthly intervals.\n",
        "\n",
        "**time_bnds(time, bnds):** A 2D array representing time bounds.\n",
        "\n",
        "**longitude(longitude):** Longitude coordinates in degrees, representing 1440 evenly spaced points.\n",
        "\n",
        "**latitude(latitude):** Latitude coordinates in degrees, representing 721 evenly spaced points.\n",
        "\n",
        "**t2m(time, latitude, longitude):** This is the main variable—2-meter temperature (t2m). It’s a 3D array that provides temperature values at each time, latitude, and longitude point. The values are likely in degrees Celsius or Kelvin (depending on the dataset's unit).\n",
        "\n",
        "**Software Used:**\n",
        "\n",
        "**CDO (Climate Data Operators):** Version 2.0.4 of CDO was used to process the data. CDO is a tool for manipulating and analyzing climate data.\n",
        "\n",
        "**grib_to_netcdf:** This tool was used to convert the original GRIB (GRIdded Binary) format into NetCDF format, which is more widely used for climate research."
      ],
      "metadata": {
        "id": "995WBUdBZYy_"
      }
    },
    {
      "cell_type": "code",
      "source": [
        "#Extracting data\n",
        "lon    = fh.variables['longitude'][:]\n",
        "lat    = fh.variables['latitude'][:]\n",
        "nctime = fh.variables['time'][:]\n",
        "t_unit = fh.variables['time'].units\n",
        "t2m    = fh.variables['t2m'][:]\n",
        "time_bnds = fh.variables['time_bnds'][:]\n",
        "\n",
        "# Try to get the calendar type from the 'calendar' attribute of the 'time' variable\n",
        "try :\n",
        "    t_cal = fh.variables['time'].calendar\n",
        "# If the 'calendar' attribute doesn't exist, set 't_cal' to 'gregorian'\n",
        "except AttributeError : # Attribute doesn't exist\n",
        "    t_cal = u\"gregorian\" # or standard\n",
        "\n",
        "fh.close() # close the file"
      ],
      "metadata": {
        "id": "AOjqhAXuHScw"
      },
      "execution_count": null,
      "outputs": []
    },
    {
      "cell_type": "markdown",
      "source": [
        "# 4. Know more about variables"
      ],
      "metadata": {
        "id": "5_TQ1Mk1wHkL"
      }
    },
    {
      "cell_type": "markdown",
      "source": [
        "**LONGITUDE DATA**"
      ],
      "metadata": {
        "id": "ZBM5AifTw0jr"
      }
    },
    {
      "cell_type": "code",
      "source": [
        "print(\"Longitudes are\\n:\", lon)"
      ],
      "metadata": {
        "colab": {
          "base_uri": "https://localhost:8080/",
          "height": 0
        },
        "id": "Hyewgzc7k8Rl",
        "outputId": "4aa2eecf-0174-4804-e40b-ab07b8c98df1"
      },
      "execution_count": 15,
      "outputs": [
        {
          "output_type": "stream",
          "name": "stdout",
          "text": [
            "Longitudes are\n",
            ": [0.0000e+00 2.5000e-01 5.0000e-01 ... 3.5925e+02 3.5950e+02 3.5975e+02]\n"
          ]
        }
      ]
    },
    {
      "cell_type": "code",
      "source": [
        "print(\"shape of the longitude data:\")\n",
        "lon.shape"
      ],
      "metadata": {
        "colab": {
          "base_uri": "https://localhost:8080/",
          "height": 0
        },
        "id": "z-maXzN-lHml",
        "outputId": "dd94bdd2-cec2-451e-f881-9545fbc7639f"
      },
      "execution_count": 45,
      "outputs": [
        {
          "output_type": "stream",
          "name": "stdout",
          "text": [
            "shape of the longitude data:\n"
          ]
        },
        {
          "output_type": "execute_result",
          "data": {
            "text/plain": [
              "(1440,)"
            ]
          },
          "metadata": {},
          "execution_count": 45
        }
      ]
    },
    {
      "cell_type": "code",
      "source": [
        "# data type of longitude\n",
        "print(\"data type of the longitude data\")\n",
        "print(lon.dtype)\n"
      ],
      "metadata": {
        "colab": {
          "base_uri": "https://localhost:8080/",
          "height": 0
        },
        "id": "XJFpI7kLlKFm",
        "outputId": "155367cb-f093-4927-d865-a0afb2a8afba"
      },
      "execution_count": 46,
      "outputs": [
        {
          "output_type": "stream",
          "name": "stdout",
          "text": [
            "data type of the longitude data\n",
            "float32\n"
          ]
        }
      ]
    },
    {
      "cell_type": "code",
      "source": [
        "# Print the first 10 elements\n",
        "print(\"First 10 elements of the longitude data:\")\n",
        "print(lon[:10])\n"
      ],
      "metadata": {
        "colab": {
          "base_uri": "https://localhost:8080/",
          "height": 0
        },
        "id": "B7af6ssilYUY",
        "outputId": "03a20798-5a6c-48df-f0bf-8a473132c59a"
      },
      "execution_count": 47,
      "outputs": [
        {
          "output_type": "stream",
          "name": "stdout",
          "text": [
            "First 10 elements of the longitude data:\n",
            "[0.   0.25 0.5  0.75 1.   1.25 1.5  1.75 2.   2.25]\n"
          ]
        }
      ]
    },
    {
      "cell_type": "markdown",
      "source": [
        "**SUMMARY**\n",
        "* **Description:** Longitude coordinates representing global positions.\n",
        "* **Data Type:** float32\n",
        "* **Shape:** (1440,) (1D array with 1440 values)\n",
        "* **Range of Values:**\n",
        "The longitudes range from 0.00° to 359.75°.\n",
        "These values are spaced at 0.25° intervals, providing a fine resolution for global data.\n",
        "* **First 10 Elements:**\n",
        "[0.00, 0.25, 0.50, 0.75, 1.00, 1.25, 1.50, 1.75, 2.00, 2.25]\n",
        "* **Pattern:**\n",
        "The longitudes start at 0° (likely corresponding to the Prime Meridian) and increase in increments of 0.25° up to 359.75°, wrapping around the globe.\n",
        "\n",
        "This grid covers the entire globe, where 0° represents the Prime Meridian and 360° brings the longitudes full circle back to the starting point. The regular spacing ensures high resolution for spatial analysis."
      ],
      "metadata": {
        "id": "85AwDLKHxvcx"
      }
    },
    {
      "cell_type": "markdown",
      "source": [
        "**LATITUDE DATA**"
      ],
      "metadata": {
        "id": "lbdMC80mw6fO"
      }
    },
    {
      "cell_type": "code",
      "source": [
        "print(\"Latitudes are\\n:\", lat)"
      ],
      "metadata": {
        "colab": {
          "base_uri": "https://localhost:8080/",
          "height": 0
        },
        "id": "Jy0ijx0jlvm0",
        "outputId": "871c533a-8c46-4c52-f43e-80cc5c55c8c5"
      },
      "execution_count": 22,
      "outputs": [
        {
          "output_type": "stream",
          "name": "stdout",
          "text": [
            "Latitudes are\n",
            ": [ 90.    89.75  89.5   89.25  89.    88.75  88.5   88.25  88.    87.75\n",
            "  87.5   87.25  87.    86.75  86.5   86.25  86.    85.75  85.5   85.25\n",
            "  85.    84.75  84.5   84.25  84.    83.75  83.5   83.25  83.    82.75\n",
            "  82.5   82.25  82.    81.75  81.5   81.25  81.    80.75  80.5   80.25\n",
            "  80.    79.75  79.5   79.25  79.    78.75  78.5   78.25  78.    77.75\n",
            "  77.5   77.25  77.    76.75  76.5   76.25  76.    75.75  75.5   75.25\n",
            "  75.    74.75  74.5   74.25  74.    73.75  73.5   73.25  73.    72.75\n",
            "  72.5   72.25  72.    71.75  71.5   71.25  71.    70.75  70.5   70.25\n",
            "  70.    69.75  69.5   69.25  69.    68.75  68.5   68.25  68.    67.75\n",
            "  67.5   67.25  67.    66.75  66.5   66.25  66.    65.75  65.5   65.25\n",
            "  65.    64.75  64.5   64.25  64.    63.75  63.5   63.25  63.    62.75\n",
            "  62.5   62.25  62.    61.75  61.5   61.25  61.    60.75  60.5   60.25\n",
            "  60.    59.75  59.5   59.25  59.    58.75  58.5   58.25  58.    57.75\n",
            "  57.5   57.25  57.    56.75  56.5   56.25  56.    55.75  55.5   55.25\n",
            "  55.    54.75  54.5   54.25  54.    53.75  53.5   53.25  53.    52.75\n",
            "  52.5   52.25  52.    51.75  51.5   51.25  51.    50.75  50.5   50.25\n",
            "  50.    49.75  49.5   49.25  49.    48.75  48.5   48.25  48.    47.75\n",
            "  47.5   47.25  47.    46.75  46.5   46.25  46.    45.75  45.5   45.25\n",
            "  45.    44.75  44.5   44.25  44.    43.75  43.5   43.25  43.    42.75\n",
            "  42.5   42.25  42.    41.75  41.5   41.25  41.    40.75  40.5   40.25\n",
            "  40.    39.75  39.5   39.25  39.    38.75  38.5   38.25  38.    37.75\n",
            "  37.5   37.25  37.    36.75  36.5   36.25  36.    35.75  35.5   35.25\n",
            "  35.    34.75  34.5   34.25  34.    33.75  33.5   33.25  33.    32.75\n",
            "  32.5   32.25  32.    31.75  31.5   31.25  31.    30.75  30.5   30.25\n",
            "  30.    29.75  29.5   29.25  29.    28.75  28.5   28.25  28.    27.75\n",
            "  27.5   27.25  27.    26.75  26.5   26.25  26.    25.75  25.5   25.25\n",
            "  25.    24.75  24.5   24.25  24.    23.75  23.5   23.25  23.    22.75\n",
            "  22.5   22.25  22.    21.75  21.5   21.25  21.    20.75  20.5   20.25\n",
            "  20.    19.75  19.5   19.25  19.    18.75  18.5   18.25  18.    17.75\n",
            "  17.5   17.25  17.    16.75  16.5   16.25  16.    15.75  15.5   15.25\n",
            "  15.    14.75  14.5   14.25  14.    13.75  13.5   13.25  13.    12.75\n",
            "  12.5   12.25  12.    11.75  11.5   11.25  11.    10.75  10.5   10.25\n",
            "  10.     9.75   9.5    9.25   9.     8.75   8.5    8.25   8.     7.75\n",
            "   7.5    7.25   7.     6.75   6.5    6.25   6.     5.75   5.5    5.25\n",
            "   5.     4.75   4.5    4.25   4.     3.75   3.5    3.25   3.     2.75\n",
            "   2.5    2.25   2.     1.75   1.5    1.25   1.     0.75   0.5    0.25\n",
            "   0.    -0.25  -0.5   -0.75  -1.    -1.25  -1.5   -1.75  -2.    -2.25\n",
            "  -2.5   -2.75  -3.    -3.25  -3.5   -3.75  -4.    -4.25  -4.5   -4.75\n",
            "  -5.    -5.25  -5.5   -5.75  -6.    -6.25  -6.5   -6.75  -7.    -7.25\n",
            "  -7.5   -7.75  -8.    -8.25  -8.5   -8.75  -9.    -9.25  -9.5   -9.75\n",
            " -10.   -10.25 -10.5  -10.75 -11.   -11.25 -11.5  -11.75 -12.   -12.25\n",
            " -12.5  -12.75 -13.   -13.25 -13.5  -13.75 -14.   -14.25 -14.5  -14.75\n",
            " -15.   -15.25 -15.5  -15.75 -16.   -16.25 -16.5  -16.75 -17.   -17.25\n",
            " -17.5  -17.75 -18.   -18.25 -18.5  -18.75 -19.   -19.25 -19.5  -19.75\n",
            " -20.   -20.25 -20.5  -20.75 -21.   -21.25 -21.5  -21.75 -22.   -22.25\n",
            " -22.5  -22.75 -23.   -23.25 -23.5  -23.75 -24.   -24.25 -24.5  -24.75\n",
            " -25.   -25.25 -25.5  -25.75 -26.   -26.25 -26.5  -26.75 -27.   -27.25\n",
            " -27.5  -27.75 -28.   -28.25 -28.5  -28.75 -29.   -29.25 -29.5  -29.75\n",
            " -30.   -30.25 -30.5  -30.75 -31.   -31.25 -31.5  -31.75 -32.   -32.25\n",
            " -32.5  -32.75 -33.   -33.25 -33.5  -33.75 -34.   -34.25 -34.5  -34.75\n",
            " -35.   -35.25 -35.5  -35.75 -36.   -36.25 -36.5  -36.75 -37.   -37.25\n",
            " -37.5  -37.75 -38.   -38.25 -38.5  -38.75 -39.   -39.25 -39.5  -39.75\n",
            " -40.   -40.25 -40.5  -40.75 -41.   -41.25 -41.5  -41.75 -42.   -42.25\n",
            " -42.5  -42.75 -43.   -43.25 -43.5  -43.75 -44.   -44.25 -44.5  -44.75\n",
            " -45.   -45.25 -45.5  -45.75 -46.   -46.25 -46.5  -46.75 -47.   -47.25\n",
            " -47.5  -47.75 -48.   -48.25 -48.5  -48.75 -49.   -49.25 -49.5  -49.75\n",
            " -50.   -50.25 -50.5  -50.75 -51.   -51.25 -51.5  -51.75 -52.   -52.25\n",
            " -52.5  -52.75 -53.   -53.25 -53.5  -53.75 -54.   -54.25 -54.5  -54.75\n",
            " -55.   -55.25 -55.5  -55.75 -56.   -56.25 -56.5  -56.75 -57.   -57.25\n",
            " -57.5  -57.75 -58.   -58.25 -58.5  -58.75 -59.   -59.25 -59.5  -59.75\n",
            " -60.   -60.25 -60.5  -60.75 -61.   -61.25 -61.5  -61.75 -62.   -62.25\n",
            " -62.5  -62.75 -63.   -63.25 -63.5  -63.75 -64.   -64.25 -64.5  -64.75\n",
            " -65.   -65.25 -65.5  -65.75 -66.   -66.25 -66.5  -66.75 -67.   -67.25\n",
            " -67.5  -67.75 -68.   -68.25 -68.5  -68.75 -69.   -69.25 -69.5  -69.75\n",
            " -70.   -70.25 -70.5  -70.75 -71.   -71.25 -71.5  -71.75 -72.   -72.25\n",
            " -72.5  -72.75 -73.   -73.25 -73.5  -73.75 -74.   -74.25 -74.5  -74.75\n",
            " -75.   -75.25 -75.5  -75.75 -76.   -76.25 -76.5  -76.75 -77.   -77.25\n",
            " -77.5  -77.75 -78.   -78.25 -78.5  -78.75 -79.   -79.25 -79.5  -79.75\n",
            " -80.   -80.25 -80.5  -80.75 -81.   -81.25 -81.5  -81.75 -82.   -82.25\n",
            " -82.5  -82.75 -83.   -83.25 -83.5  -83.75 -84.   -84.25 -84.5  -84.75\n",
            " -85.   -85.25 -85.5  -85.75 -86.   -86.25 -86.5  -86.75 -87.   -87.25\n",
            " -87.5  -87.75 -88.   -88.25 -88.5  -88.75 -89.   -89.25 -89.5  -89.75\n",
            " -90.  ]\n"
          ]
        }
      ]
    },
    {
      "cell_type": "code",
      "source": [
        "print(\"shape of the latitude data:\")\n",
        "lat.shape"
      ],
      "metadata": {
        "colab": {
          "base_uri": "https://localhost:8080/",
          "height": 0
        },
        "id": "sf2GsyZvl1Qh",
        "outputId": "6b2b5912-c105-4be9-cd2e-0201f942bc2e"
      },
      "execution_count": 48,
      "outputs": [
        {
          "output_type": "stream",
          "name": "stdout",
          "text": [
            "shape of the latitude data:\n"
          ]
        },
        {
          "output_type": "execute_result",
          "data": {
            "text/plain": [
              "(721,)"
            ]
          },
          "metadata": {},
          "execution_count": 48
        }
      ]
    },
    {
      "cell_type": "code",
      "source": [
        "print(\"data type of the latitude data\")\n",
        "print(lat.dtype)"
      ],
      "metadata": {
        "colab": {
          "base_uri": "https://localhost:8080/",
          "height": 0
        },
        "id": "e_SBG84ql23M",
        "outputId": "a7a45fec-e474-44ba-cd05-283dcaf30581"
      },
      "execution_count": 49,
      "outputs": [
        {
          "output_type": "stream",
          "name": "stdout",
          "text": [
            "data type of the latitude data\n",
            "float32\n"
          ]
        }
      ]
    },
    {
      "cell_type": "markdown",
      "source": [
        "**SUMMARY**\n",
        "* **Description:** Latitude coordinates representing global positions from the North Pole to the South Pole.\n",
        "* **Data Type:** float32\n",
        "* **Shape:** (721,) (1D array with 721 values)\n",
        "* **Range of Values:**\n",
        "The latitudes range from 90.00° (North Pole) to -90.00° (South Pole).\n",
        "Values are spaced at 0.25° intervals, providing a fine resolution for global coverage.\n",
        "\n",
        "* **Pattern:**\n",
        "The latitude values decrease from 90° (North Pole) to -90° (South Pole), with equal 0.25° spacing between values.\n",
        "\n",
        "This latitude data spans the entire globe, providing high-resolution coverage from pole to pole, making it suitable for global atmospheric or climate models."
      ],
      "metadata": {
        "id": "ah-3EIGCyjJ6"
      }
    },
    {
      "cell_type": "markdown",
      "source": [
        "**TIME**"
      ],
      "metadata": {
        "id": "jhZe0pD0xOAg"
      }
    },
    {
      "cell_type": "code",
      "source": [
        "print(\"Time is\\n:\", nctime)"
      ],
      "metadata": {
        "colab": {
          "base_uri": "https://localhost:8080/",
          "height": 0
        },
        "id": "2b-o-MrLmJwl",
        "outputId": "1b69bcdb-179e-4cc0-c5c3-6ebafea00e24"
      },
      "execution_count": 26,
      "outputs": [
        {
          "output_type": "stream",
          "name": "stdout",
          "text": [
            "Time is\n",
            ": [ 692866  693574  694282  695014  695746  696478  697210  697954  698686\n",
            "  699418  700150  700882  701626  702346  703066  703798  704530  705262\n",
            "  705994  706738  707470  708202  708934  709666  710410  711118  711826\n",
            "  712558  713290  714022  714754  715498  716230  716962  717694  718426\n",
            "  719170  719878  720586  721318  722050  722782  723514  724258  724990\n",
            "  725722  726454  727186  727930  728638  729346  730078  730810  731542\n",
            "  732274  733018  733750  734482  735214  735946  736690  737410  738130\n",
            "  738862  739594  740326  741058  741802  742534  743266  743998  744730\n",
            "  745474  746182  746890  747622  748354  749086  749818  750562  751294\n",
            "  752026  752758  753490  754234  754942  755650  756382  757114  757846\n",
            "  758578  759322  760054  760786  761518  762250  762994  763702  764410\n",
            "  765142  765874  766606  767338  768082  768814  769546  770278  771010\n",
            "  771754  772474  773194  773926  774658  775390  776122  776866  777598\n",
            "  778330  779062  779794  780538  781246  781954  782686  783418  784150\n",
            "  784882  785626  786358  787090  787822  788554  789298  790006  790714\n",
            "  791446  792178  792910  793642  794386  795118  795850  796582  797314\n",
            "  798058  798766  799474  800206  800938  801670  802402  803146  803878\n",
            "  804610  805342  806074  806818  807538  808258  808990  809722  810454\n",
            "  811186  811930  812662  813394  814126  814858  815602  816310  817018\n",
            "  817750  818482  819214  819946  820690  821422  822154  822886  823618\n",
            "  824362  825070  825778  826510  827242  827974  828706  829450  830182\n",
            "  830914  831646  832378  833122  833830  834538  835270  836002  836734\n",
            "  837466  838210  838942  839674  840406  841138  841882  842602  843322\n",
            "  844054  844786  845518  846250  846994  847726  848458  849190  849922\n",
            "  850666  851374  852082  852814  853546  854278  855010  855754  856486\n",
            "  857218  857950  858682  859426  860134  860842  861574  862306  863038\n",
            "  863770  864514  865246  865978  866710  867442  868186  868894  869602\n",
            "  870334  871066  871798  872530  873274  874006  874738  875470  876202\n",
            "  876946  877666  878386  879118  879850  880582  881314  882058  882790\n",
            "  883522  884254  884986  885730  886438  887146  887878  888610  889342\n",
            "  890074  890818  891550  892282  893014  893746  894490  895198  895906\n",
            "  896638  897370  898102  898834  899578  900310  901042  901774  902506\n",
            "  903250  903958  904666  905398  906130  906862  907594  908338  909070\n",
            "  909802  910534  911266  912010  912730  913450  914182  914914  915646\n",
            "  916378  917122  917854  918586  919318  920050  920794  921502  922210\n",
            "  922942  923674  924406  925138  925882  926614  927346  928078  928810\n",
            "  929554  930262  930970  931702  932434  933166  933898  934642  935374\n",
            "  936106  936838  937570  938314  939022  939730  940462  941194  941926\n",
            "  942658  943402  944134  944866  945598  946330  947074  947794  948514\n",
            "  949246  949978  950710  951442  952186  952918  953650  954382  955114\n",
            "  955858  956566  957274  958006  958738  959470  960202  960946  961678\n",
            "  962410  963142  963874  964618  965326  966034  966766  967498  968230\n",
            "  968962  969706  970438  971170  971902  972634  973378  974086  974794\n",
            "  975526  976258  976990  977722  978466  979198  979930  980662  981394\n",
            "  982138  982858  983578  984310  985042  985774  986506  987250  987982\n",
            "  988714  989446  990178  990922  991630  992338  993070  993802  994534\n",
            "  995266  996010  996742  997474  998206  998938  999682 1000390 1001098\n",
            " 1001830 1002562 1003294 1004026 1004770 1005502 1006234 1006966 1007698\n",
            " 1008442 1009150 1009858 1010590 1011322 1012054 1012786 1013530 1014262\n",
            " 1014994 1015726 1016458 1017202 1017922 1018642 1019374 1020106 1020838\n",
            " 1021570 1022314 1023046 1023778 1024510 1025242 1025986 1026694 1027402\n",
            " 1028134 1028866 1029598 1030330 1031074 1031806 1032538 1033270 1034002\n",
            " 1034746 1035454 1036162 1036894 1037626 1038358 1039090 1039834 1040566\n",
            " 1041298 1042030 1042762 1043506 1044214 1044922 1045654 1046386 1047118\n",
            " 1047850 1048594 1049326 1050058 1050790 1051522 1052266 1052986 1053706\n",
            " 1054438 1055170 1055902 1056634 1057378 1058110 1058842 1059574 1060306\n",
            " 1061050 1061758 1062466 1063198 1063930 1064662 1065394 1066138 1066870\n",
            " 1067602 1068334 1069066 1069810 1070518 1071226 1071958 1072690 1073422\n",
            " 1074154 1074898 1075630 1076362 1077094 1077826]\n"
          ]
        }
      ]
    },
    {
      "cell_type": "code",
      "source": [
        "print(\"shape of the time data:\")\n",
        "nctime.shape"
      ],
      "metadata": {
        "colab": {
          "base_uri": "https://localhost:8080/",
          "height": 0
        },
        "id": "39nLL1OPmPUp",
        "outputId": "c9ef645d-3d88-4121-9b1d-d5585cf83f0e"
      },
      "execution_count": 50,
      "outputs": [
        {
          "output_type": "stream",
          "name": "stdout",
          "text": [
            "shape of the time data:\n"
          ]
        },
        {
          "output_type": "execute_result",
          "data": {
            "text/plain": [
              "(528,)"
            ]
          },
          "metadata": {},
          "execution_count": 50
        }
      ]
    },
    {
      "cell_type": "code",
      "source": [
        "print(\"data type of the time data\")\n",
        "print(nctime.dtype)"
      ],
      "metadata": {
        "colab": {
          "base_uri": "https://localhost:8080/",
          "height": 0
        },
        "id": "e3KPtPk3nsms",
        "outputId": "b832935e-a929-4397-bbff-8ef974e843a6"
      },
      "execution_count": 51,
      "outputs": [
        {
          "output_type": "stream",
          "name": "stdout",
          "text": [
            "data type of the time data\n",
            "int32\n"
          ]
        }
      ]
    },
    {
      "cell_type": "code",
      "source": [
        "print(\"units associated with time variable\\n:\", t_unit)"
      ],
      "metadata": {
        "colab": {
          "base_uri": "https://localhost:8080/",
          "height": 0
        },
        "id": "UcbC3w1xn28z",
        "outputId": "2522df97-1a0d-4eaa-e947-25b72a2ebd8d"
      },
      "execution_count": 30,
      "outputs": [
        {
          "output_type": "stream",
          "name": "stdout",
          "text": [
            "units associated with time variable\n",
            ": hours since 1900-01-01 00:00:00.0\n"
          ]
        }
      ]
    },
    {
      "cell_type": "code",
      "source": [
        "from netCDF4 import num2date\n",
        "\n",
        "dates = num2date(nctime, units=t_unit, calendar=t_cal)\n",
        "\n",
        "# Print the converted dates\n",
        "print(dates)"
      ],
      "metadata": {
        "colab": {
          "base_uri": "https://localhost:8080/",
          "height": 0
        },
        "id": "nxfMZEsdo142",
        "outputId": "086b87a9-6adc-434b-abea-be4ed8a69e2c"
      },
      "execution_count": 31,
      "outputs": [
        {
          "output_type": "stream",
          "name": "stdout",
          "text": [
            "[cftime.DatetimeGregorian(1979, 1, 16, 10, 0, 0, 0, has_year_zero=False)\n",
            " cftime.DatetimeGregorian(1979, 2, 14, 22, 0, 0, 0, has_year_zero=False)\n",
            " cftime.DatetimeGregorian(1979, 3, 16, 10, 0, 0, 0, has_year_zero=False)\n",
            " cftime.DatetimeGregorian(1979, 4, 15, 22, 0, 0, 0, has_year_zero=False)\n",
            " cftime.DatetimeGregorian(1979, 5, 16, 10, 0, 0, 0, has_year_zero=False)\n",
            " cftime.DatetimeGregorian(1979, 6, 15, 22, 0, 0, 0, has_year_zero=False)\n",
            " cftime.DatetimeGregorian(1979, 7, 16, 10, 0, 0, 0, has_year_zero=False)\n",
            " cftime.DatetimeGregorian(1979, 8, 16, 10, 0, 0, 0, has_year_zero=False)\n",
            " cftime.DatetimeGregorian(1979, 9, 15, 22, 0, 0, 0, has_year_zero=False)\n",
            " cftime.DatetimeGregorian(1979, 10, 16, 10, 0, 0, 0, has_year_zero=False)\n",
            " cftime.DatetimeGregorian(1979, 11, 15, 22, 0, 0, 0, has_year_zero=False)\n",
            " cftime.DatetimeGregorian(1979, 12, 16, 10, 0, 0, 0, has_year_zero=False)\n",
            " cftime.DatetimeGregorian(1980, 1, 16, 10, 0, 0, 0, has_year_zero=False)\n",
            " cftime.DatetimeGregorian(1980, 2, 15, 10, 0, 0, 0, has_year_zero=False)\n",
            " cftime.DatetimeGregorian(1980, 3, 16, 10, 0, 0, 0, has_year_zero=False)\n",
            " cftime.DatetimeGregorian(1980, 4, 15, 22, 0, 0, 0, has_year_zero=False)\n",
            " cftime.DatetimeGregorian(1980, 5, 16, 10, 0, 0, 0, has_year_zero=False)\n",
            " cftime.DatetimeGregorian(1980, 6, 15, 22, 0, 0, 0, has_year_zero=False)\n",
            " cftime.DatetimeGregorian(1980, 7, 16, 10, 0, 0, 0, has_year_zero=False)\n",
            " cftime.DatetimeGregorian(1980, 8, 16, 10, 0, 0, 0, has_year_zero=False)\n",
            " cftime.DatetimeGregorian(1980, 9, 15, 22, 0, 0, 0, has_year_zero=False)\n",
            " cftime.DatetimeGregorian(1980, 10, 16, 10, 0, 0, 0, has_year_zero=False)\n",
            " cftime.DatetimeGregorian(1980, 11, 15, 22, 0, 0, 0, has_year_zero=False)\n",
            " cftime.DatetimeGregorian(1980, 12, 16, 10, 0, 0, 0, has_year_zero=False)\n",
            " cftime.DatetimeGregorian(1981, 1, 16, 10, 0, 0, 0, has_year_zero=False)\n",
            " cftime.DatetimeGregorian(1981, 2, 14, 22, 0, 0, 0, has_year_zero=False)\n",
            " cftime.DatetimeGregorian(1981, 3, 16, 10, 0, 0, 0, has_year_zero=False)\n",
            " cftime.DatetimeGregorian(1981, 4, 15, 22, 0, 0, 0, has_year_zero=False)\n",
            " cftime.DatetimeGregorian(1981, 5, 16, 10, 0, 0, 0, has_year_zero=False)\n",
            " cftime.DatetimeGregorian(1981, 6, 15, 22, 0, 0, 0, has_year_zero=False)\n",
            " cftime.DatetimeGregorian(1981, 7, 16, 10, 0, 0, 0, has_year_zero=False)\n",
            " cftime.DatetimeGregorian(1981, 8, 16, 10, 0, 0, 0, has_year_zero=False)\n",
            " cftime.DatetimeGregorian(1981, 9, 15, 22, 0, 0, 0, has_year_zero=False)\n",
            " cftime.DatetimeGregorian(1981, 10, 16, 10, 0, 0, 0, has_year_zero=False)\n",
            " cftime.DatetimeGregorian(1981, 11, 15, 22, 0, 0, 0, has_year_zero=False)\n",
            " cftime.DatetimeGregorian(1981, 12, 16, 10, 0, 0, 0, has_year_zero=False)\n",
            " cftime.DatetimeGregorian(1982, 1, 16, 10, 0, 0, 0, has_year_zero=False)\n",
            " cftime.DatetimeGregorian(1982, 2, 14, 22, 0, 0, 0, has_year_zero=False)\n",
            " cftime.DatetimeGregorian(1982, 3, 16, 10, 0, 0, 0, has_year_zero=False)\n",
            " cftime.DatetimeGregorian(1982, 4, 15, 22, 0, 0, 0, has_year_zero=False)\n",
            " cftime.DatetimeGregorian(1982, 5, 16, 10, 0, 0, 0, has_year_zero=False)\n",
            " cftime.DatetimeGregorian(1982, 6, 15, 22, 0, 0, 0, has_year_zero=False)\n",
            " cftime.DatetimeGregorian(1982, 7, 16, 10, 0, 0, 0, has_year_zero=False)\n",
            " cftime.DatetimeGregorian(1982, 8, 16, 10, 0, 0, 0, has_year_zero=False)\n",
            " cftime.DatetimeGregorian(1982, 9, 15, 22, 0, 0, 0, has_year_zero=False)\n",
            " cftime.DatetimeGregorian(1982, 10, 16, 10, 0, 0, 0, has_year_zero=False)\n",
            " cftime.DatetimeGregorian(1982, 11, 15, 22, 0, 0, 0, has_year_zero=False)\n",
            " cftime.DatetimeGregorian(1982, 12, 16, 10, 0, 0, 0, has_year_zero=False)\n",
            " cftime.DatetimeGregorian(1983, 1, 16, 10, 0, 0, 0, has_year_zero=False)\n",
            " cftime.DatetimeGregorian(1983, 2, 14, 22, 0, 0, 0, has_year_zero=False)\n",
            " cftime.DatetimeGregorian(1983, 3, 16, 10, 0, 0, 0, has_year_zero=False)\n",
            " cftime.DatetimeGregorian(1983, 4, 15, 22, 0, 0, 0, has_year_zero=False)\n",
            " cftime.DatetimeGregorian(1983, 5, 16, 10, 0, 0, 0, has_year_zero=False)\n",
            " cftime.DatetimeGregorian(1983, 6, 15, 22, 0, 0, 0, has_year_zero=False)\n",
            " cftime.DatetimeGregorian(1983, 7, 16, 10, 0, 0, 0, has_year_zero=False)\n",
            " cftime.DatetimeGregorian(1983, 8, 16, 10, 0, 0, 0, has_year_zero=False)\n",
            " cftime.DatetimeGregorian(1983, 9, 15, 22, 0, 0, 0, has_year_zero=False)\n",
            " cftime.DatetimeGregorian(1983, 10, 16, 10, 0, 0, 0, has_year_zero=False)\n",
            " cftime.DatetimeGregorian(1983, 11, 15, 22, 0, 0, 0, has_year_zero=False)\n",
            " cftime.DatetimeGregorian(1983, 12, 16, 10, 0, 0, 0, has_year_zero=False)\n",
            " cftime.DatetimeGregorian(1984, 1, 16, 10, 0, 0, 0, has_year_zero=False)\n",
            " cftime.DatetimeGregorian(1984, 2, 15, 10, 0, 0, 0, has_year_zero=False)\n",
            " cftime.DatetimeGregorian(1984, 3, 16, 10, 0, 0, 0, has_year_zero=False)\n",
            " cftime.DatetimeGregorian(1984, 4, 15, 22, 0, 0, 0, has_year_zero=False)\n",
            " cftime.DatetimeGregorian(1984, 5, 16, 10, 0, 0, 0, has_year_zero=False)\n",
            " cftime.DatetimeGregorian(1984, 6, 15, 22, 0, 0, 0, has_year_zero=False)\n",
            " cftime.DatetimeGregorian(1984, 7, 16, 10, 0, 0, 0, has_year_zero=False)\n",
            " cftime.DatetimeGregorian(1984, 8, 16, 10, 0, 0, 0, has_year_zero=False)\n",
            " cftime.DatetimeGregorian(1984, 9, 15, 22, 0, 0, 0, has_year_zero=False)\n",
            " cftime.DatetimeGregorian(1984, 10, 16, 10, 0, 0, 0, has_year_zero=False)\n",
            " cftime.DatetimeGregorian(1984, 11, 15, 22, 0, 0, 0, has_year_zero=False)\n",
            " cftime.DatetimeGregorian(1984, 12, 16, 10, 0, 0, 0, has_year_zero=False)\n",
            " cftime.DatetimeGregorian(1985, 1, 16, 10, 0, 0, 0, has_year_zero=False)\n",
            " cftime.DatetimeGregorian(1985, 2, 14, 22, 0, 0, 0, has_year_zero=False)\n",
            " cftime.DatetimeGregorian(1985, 3, 16, 10, 0, 0, 0, has_year_zero=False)\n",
            " cftime.DatetimeGregorian(1985, 4, 15, 22, 0, 0, 0, has_year_zero=False)\n",
            " cftime.DatetimeGregorian(1985, 5, 16, 10, 0, 0, 0, has_year_zero=False)\n",
            " cftime.DatetimeGregorian(1985, 6, 15, 22, 0, 0, 0, has_year_zero=False)\n",
            " cftime.DatetimeGregorian(1985, 7, 16, 10, 0, 0, 0, has_year_zero=False)\n",
            " cftime.DatetimeGregorian(1985, 8, 16, 10, 0, 0, 0, has_year_zero=False)\n",
            " cftime.DatetimeGregorian(1985, 9, 15, 22, 0, 0, 0, has_year_zero=False)\n",
            " cftime.DatetimeGregorian(1985, 10, 16, 10, 0, 0, 0, has_year_zero=False)\n",
            " cftime.DatetimeGregorian(1985, 11, 15, 22, 0, 0, 0, has_year_zero=False)\n",
            " cftime.DatetimeGregorian(1985, 12, 16, 10, 0, 0, 0, has_year_zero=False)\n",
            " cftime.DatetimeGregorian(1986, 1, 16, 10, 0, 0, 0, has_year_zero=False)\n",
            " cftime.DatetimeGregorian(1986, 2, 14, 22, 0, 0, 0, has_year_zero=False)\n",
            " cftime.DatetimeGregorian(1986, 3, 16, 10, 0, 0, 0, has_year_zero=False)\n",
            " cftime.DatetimeGregorian(1986, 4, 15, 22, 0, 0, 0, has_year_zero=False)\n",
            " cftime.DatetimeGregorian(1986, 5, 16, 10, 0, 0, 0, has_year_zero=False)\n",
            " cftime.DatetimeGregorian(1986, 6, 15, 22, 0, 0, 0, has_year_zero=False)\n",
            " cftime.DatetimeGregorian(1986, 7, 16, 10, 0, 0, 0, has_year_zero=False)\n",
            " cftime.DatetimeGregorian(1986, 8, 16, 10, 0, 0, 0, has_year_zero=False)\n",
            " cftime.DatetimeGregorian(1986, 9, 15, 22, 0, 0, 0, has_year_zero=False)\n",
            " cftime.DatetimeGregorian(1986, 10, 16, 10, 0, 0, 0, has_year_zero=False)\n",
            " cftime.DatetimeGregorian(1986, 11, 15, 22, 0, 0, 0, has_year_zero=False)\n",
            " cftime.DatetimeGregorian(1986, 12, 16, 10, 0, 0, 0, has_year_zero=False)\n",
            " cftime.DatetimeGregorian(1987, 1, 16, 10, 0, 0, 0, has_year_zero=False)\n",
            " cftime.DatetimeGregorian(1987, 2, 14, 22, 0, 0, 0, has_year_zero=False)\n",
            " cftime.DatetimeGregorian(1987, 3, 16, 10, 0, 0, 0, has_year_zero=False)\n",
            " cftime.DatetimeGregorian(1987, 4, 15, 22, 0, 0, 0, has_year_zero=False)\n",
            " cftime.DatetimeGregorian(1987, 5, 16, 10, 0, 0, 0, has_year_zero=False)\n",
            " cftime.DatetimeGregorian(1987, 6, 15, 22, 0, 0, 0, has_year_zero=False)\n",
            " cftime.DatetimeGregorian(1987, 7, 16, 10, 0, 0, 0, has_year_zero=False)\n",
            " cftime.DatetimeGregorian(1987, 8, 16, 10, 0, 0, 0, has_year_zero=False)\n",
            " cftime.DatetimeGregorian(1987, 9, 15, 22, 0, 0, 0, has_year_zero=False)\n",
            " cftime.DatetimeGregorian(1987, 10, 16, 10, 0, 0, 0, has_year_zero=False)\n",
            " cftime.DatetimeGregorian(1987, 11, 15, 22, 0, 0, 0, has_year_zero=False)\n",
            " cftime.DatetimeGregorian(1987, 12, 16, 10, 0, 0, 0, has_year_zero=False)\n",
            " cftime.DatetimeGregorian(1988, 1, 16, 10, 0, 0, 0, has_year_zero=False)\n",
            " cftime.DatetimeGregorian(1988, 2, 15, 10, 0, 0, 0, has_year_zero=False)\n",
            " cftime.DatetimeGregorian(1988, 3, 16, 10, 0, 0, 0, has_year_zero=False)\n",
            " cftime.DatetimeGregorian(1988, 4, 15, 22, 0, 0, 0, has_year_zero=False)\n",
            " cftime.DatetimeGregorian(1988, 5, 16, 10, 0, 0, 0, has_year_zero=False)\n",
            " cftime.DatetimeGregorian(1988, 6, 15, 22, 0, 0, 0, has_year_zero=False)\n",
            " cftime.DatetimeGregorian(1988, 7, 16, 10, 0, 0, 0, has_year_zero=False)\n",
            " cftime.DatetimeGregorian(1988, 8, 16, 10, 0, 0, 0, has_year_zero=False)\n",
            " cftime.DatetimeGregorian(1988, 9, 15, 22, 0, 0, 0, has_year_zero=False)\n",
            " cftime.DatetimeGregorian(1988, 10, 16, 10, 0, 0, 0, has_year_zero=False)\n",
            " cftime.DatetimeGregorian(1988, 11, 15, 22, 0, 0, 0, has_year_zero=False)\n",
            " cftime.DatetimeGregorian(1988, 12, 16, 10, 0, 0, 0, has_year_zero=False)\n",
            " cftime.DatetimeGregorian(1989, 1, 16, 10, 0, 0, 0, has_year_zero=False)\n",
            " cftime.DatetimeGregorian(1989, 2, 14, 22, 0, 0, 0, has_year_zero=False)\n",
            " cftime.DatetimeGregorian(1989, 3, 16, 10, 0, 0, 0, has_year_zero=False)\n",
            " cftime.DatetimeGregorian(1989, 4, 15, 22, 0, 0, 0, has_year_zero=False)\n",
            " cftime.DatetimeGregorian(1989, 5, 16, 10, 0, 0, 0, has_year_zero=False)\n",
            " cftime.DatetimeGregorian(1989, 6, 15, 22, 0, 0, 0, has_year_zero=False)\n",
            " cftime.DatetimeGregorian(1989, 7, 16, 10, 0, 0, 0, has_year_zero=False)\n",
            " cftime.DatetimeGregorian(1989, 8, 16, 10, 0, 0, 0, has_year_zero=False)\n",
            " cftime.DatetimeGregorian(1989, 9, 15, 22, 0, 0, 0, has_year_zero=False)\n",
            " cftime.DatetimeGregorian(1989, 10, 16, 10, 0, 0, 0, has_year_zero=False)\n",
            " cftime.DatetimeGregorian(1989, 11, 15, 22, 0, 0, 0, has_year_zero=False)\n",
            " cftime.DatetimeGregorian(1989, 12, 16, 10, 0, 0, 0, has_year_zero=False)\n",
            " cftime.DatetimeGregorian(1990, 1, 16, 10, 0, 0, 0, has_year_zero=False)\n",
            " cftime.DatetimeGregorian(1990, 2, 14, 22, 0, 0, 0, has_year_zero=False)\n",
            " cftime.DatetimeGregorian(1990, 3, 16, 10, 0, 0, 0, has_year_zero=False)\n",
            " cftime.DatetimeGregorian(1990, 4, 15, 22, 0, 0, 0, has_year_zero=False)\n",
            " cftime.DatetimeGregorian(1990, 5, 16, 10, 0, 0, 0, has_year_zero=False)\n",
            " cftime.DatetimeGregorian(1990, 6, 15, 22, 0, 0, 0, has_year_zero=False)\n",
            " cftime.DatetimeGregorian(1990, 7, 16, 10, 0, 0, 0, has_year_zero=False)\n",
            " cftime.DatetimeGregorian(1990, 8, 16, 10, 0, 0, 0, has_year_zero=False)\n",
            " cftime.DatetimeGregorian(1990, 9, 15, 22, 0, 0, 0, has_year_zero=False)\n",
            " cftime.DatetimeGregorian(1990, 10, 16, 10, 0, 0, 0, has_year_zero=False)\n",
            " cftime.DatetimeGregorian(1990, 11, 15, 22, 0, 0, 0, has_year_zero=False)\n",
            " cftime.DatetimeGregorian(1990, 12, 16, 10, 0, 0, 0, has_year_zero=False)\n",
            " cftime.DatetimeGregorian(1991, 1, 16, 10, 0, 0, 0, has_year_zero=False)\n",
            " cftime.DatetimeGregorian(1991, 2, 14, 22, 0, 0, 0, has_year_zero=False)\n",
            " cftime.DatetimeGregorian(1991, 3, 16, 10, 0, 0, 0, has_year_zero=False)\n",
            " cftime.DatetimeGregorian(1991, 4, 15, 22, 0, 0, 0, has_year_zero=False)\n",
            " cftime.DatetimeGregorian(1991, 5, 16, 10, 0, 0, 0, has_year_zero=False)\n",
            " cftime.DatetimeGregorian(1991, 6, 15, 22, 0, 0, 0, has_year_zero=False)\n",
            " cftime.DatetimeGregorian(1991, 7, 16, 10, 0, 0, 0, has_year_zero=False)\n",
            " cftime.DatetimeGregorian(1991, 8, 16, 10, 0, 0, 0, has_year_zero=False)\n",
            " cftime.DatetimeGregorian(1991, 9, 15, 22, 0, 0, 0, has_year_zero=False)\n",
            " cftime.DatetimeGregorian(1991, 10, 16, 10, 0, 0, 0, has_year_zero=False)\n",
            " cftime.DatetimeGregorian(1991, 11, 15, 22, 0, 0, 0, has_year_zero=False)\n",
            " cftime.DatetimeGregorian(1991, 12, 16, 10, 0, 0, 0, has_year_zero=False)\n",
            " cftime.DatetimeGregorian(1992, 1, 16, 10, 0, 0, 0, has_year_zero=False)\n",
            " cftime.DatetimeGregorian(1992, 2, 15, 10, 0, 0, 0, has_year_zero=False)\n",
            " cftime.DatetimeGregorian(1992, 3, 16, 10, 0, 0, 0, has_year_zero=False)\n",
            " cftime.DatetimeGregorian(1992, 4, 15, 22, 0, 0, 0, has_year_zero=False)\n",
            " cftime.DatetimeGregorian(1992, 5, 16, 10, 0, 0, 0, has_year_zero=False)\n",
            " cftime.DatetimeGregorian(1992, 6, 15, 22, 0, 0, 0, has_year_zero=False)\n",
            " cftime.DatetimeGregorian(1992, 7, 16, 10, 0, 0, 0, has_year_zero=False)\n",
            " cftime.DatetimeGregorian(1992, 8, 16, 10, 0, 0, 0, has_year_zero=False)\n",
            " cftime.DatetimeGregorian(1992, 9, 15, 22, 0, 0, 0, has_year_zero=False)\n",
            " cftime.DatetimeGregorian(1992, 10, 16, 10, 0, 0, 0, has_year_zero=False)\n",
            " cftime.DatetimeGregorian(1992, 11, 15, 22, 0, 0, 0, has_year_zero=False)\n",
            " cftime.DatetimeGregorian(1992, 12, 16, 10, 0, 0, 0, has_year_zero=False)\n",
            " cftime.DatetimeGregorian(1993, 1, 16, 10, 0, 0, 0, has_year_zero=False)\n",
            " cftime.DatetimeGregorian(1993, 2, 14, 22, 0, 0, 0, has_year_zero=False)\n",
            " cftime.DatetimeGregorian(1993, 3, 16, 10, 0, 0, 0, has_year_zero=False)\n",
            " cftime.DatetimeGregorian(1993, 4, 15, 22, 0, 0, 0, has_year_zero=False)\n",
            " cftime.DatetimeGregorian(1993, 5, 16, 10, 0, 0, 0, has_year_zero=False)\n",
            " cftime.DatetimeGregorian(1993, 6, 15, 22, 0, 0, 0, has_year_zero=False)\n",
            " cftime.DatetimeGregorian(1993, 7, 16, 10, 0, 0, 0, has_year_zero=False)\n",
            " cftime.DatetimeGregorian(1993, 8, 16, 10, 0, 0, 0, has_year_zero=False)\n",
            " cftime.DatetimeGregorian(1993, 9, 15, 22, 0, 0, 0, has_year_zero=False)\n",
            " cftime.DatetimeGregorian(1993, 10, 16, 10, 0, 0, 0, has_year_zero=False)\n",
            " cftime.DatetimeGregorian(1993, 11, 15, 22, 0, 0, 0, has_year_zero=False)\n",
            " cftime.DatetimeGregorian(1993, 12, 16, 10, 0, 0, 0, has_year_zero=False)\n",
            " cftime.DatetimeGregorian(1994, 1, 16, 10, 0, 0, 0, has_year_zero=False)\n",
            " cftime.DatetimeGregorian(1994, 2, 14, 22, 0, 0, 0, has_year_zero=False)\n",
            " cftime.DatetimeGregorian(1994, 3, 16, 10, 0, 0, 0, has_year_zero=False)\n",
            " cftime.DatetimeGregorian(1994, 4, 15, 22, 0, 0, 0, has_year_zero=False)\n",
            " cftime.DatetimeGregorian(1994, 5, 16, 10, 0, 0, 0, has_year_zero=False)\n",
            " cftime.DatetimeGregorian(1994, 6, 15, 22, 0, 0, 0, has_year_zero=False)\n",
            " cftime.DatetimeGregorian(1994, 7, 16, 10, 0, 0, 0, has_year_zero=False)\n",
            " cftime.DatetimeGregorian(1994, 8, 16, 10, 0, 0, 0, has_year_zero=False)\n",
            " cftime.DatetimeGregorian(1994, 9, 15, 22, 0, 0, 0, has_year_zero=False)\n",
            " cftime.DatetimeGregorian(1994, 10, 16, 10, 0, 0, 0, has_year_zero=False)\n",
            " cftime.DatetimeGregorian(1994, 11, 15, 22, 0, 0, 0, has_year_zero=False)\n",
            " cftime.DatetimeGregorian(1994, 12, 16, 10, 0, 0, 0, has_year_zero=False)\n",
            " cftime.DatetimeGregorian(1995, 1, 16, 10, 0, 0, 0, has_year_zero=False)\n",
            " cftime.DatetimeGregorian(1995, 2, 14, 22, 0, 0, 0, has_year_zero=False)\n",
            " cftime.DatetimeGregorian(1995, 3, 16, 10, 0, 0, 0, has_year_zero=False)\n",
            " cftime.DatetimeGregorian(1995, 4, 15, 22, 0, 0, 0, has_year_zero=False)\n",
            " cftime.DatetimeGregorian(1995, 5, 16, 10, 0, 0, 0, has_year_zero=False)\n",
            " cftime.DatetimeGregorian(1995, 6, 15, 22, 0, 0, 0, has_year_zero=False)\n",
            " cftime.DatetimeGregorian(1995, 7, 16, 10, 0, 0, 0, has_year_zero=False)\n",
            " cftime.DatetimeGregorian(1995, 8, 16, 10, 0, 0, 0, has_year_zero=False)\n",
            " cftime.DatetimeGregorian(1995, 9, 15, 22, 0, 0, 0, has_year_zero=False)\n",
            " cftime.DatetimeGregorian(1995, 10, 16, 10, 0, 0, 0, has_year_zero=False)\n",
            " cftime.DatetimeGregorian(1995, 11, 15, 22, 0, 0, 0, has_year_zero=False)\n",
            " cftime.DatetimeGregorian(1995, 12, 16, 10, 0, 0, 0, has_year_zero=False)\n",
            " cftime.DatetimeGregorian(1996, 1, 16, 10, 0, 0, 0, has_year_zero=False)\n",
            " cftime.DatetimeGregorian(1996, 2, 15, 10, 0, 0, 0, has_year_zero=False)\n",
            " cftime.DatetimeGregorian(1996, 3, 16, 10, 0, 0, 0, has_year_zero=False)\n",
            " cftime.DatetimeGregorian(1996, 4, 15, 22, 0, 0, 0, has_year_zero=False)\n",
            " cftime.DatetimeGregorian(1996, 5, 16, 10, 0, 0, 0, has_year_zero=False)\n",
            " cftime.DatetimeGregorian(1996, 6, 15, 22, 0, 0, 0, has_year_zero=False)\n",
            " cftime.DatetimeGregorian(1996, 7, 16, 10, 0, 0, 0, has_year_zero=False)\n",
            " cftime.DatetimeGregorian(1996, 8, 16, 10, 0, 0, 0, has_year_zero=False)\n",
            " cftime.DatetimeGregorian(1996, 9, 15, 22, 0, 0, 0, has_year_zero=False)\n",
            " cftime.DatetimeGregorian(1996, 10, 16, 10, 0, 0, 0, has_year_zero=False)\n",
            " cftime.DatetimeGregorian(1996, 11, 15, 22, 0, 0, 0, has_year_zero=False)\n",
            " cftime.DatetimeGregorian(1996, 12, 16, 10, 0, 0, 0, has_year_zero=False)\n",
            " cftime.DatetimeGregorian(1997, 1, 16, 10, 0, 0, 0, has_year_zero=False)\n",
            " cftime.DatetimeGregorian(1997, 2, 14, 22, 0, 0, 0, has_year_zero=False)\n",
            " cftime.DatetimeGregorian(1997, 3, 16, 10, 0, 0, 0, has_year_zero=False)\n",
            " cftime.DatetimeGregorian(1997, 4, 15, 22, 0, 0, 0, has_year_zero=False)\n",
            " cftime.DatetimeGregorian(1997, 5, 16, 10, 0, 0, 0, has_year_zero=False)\n",
            " cftime.DatetimeGregorian(1997, 6, 15, 22, 0, 0, 0, has_year_zero=False)\n",
            " cftime.DatetimeGregorian(1997, 7, 16, 10, 0, 0, 0, has_year_zero=False)\n",
            " cftime.DatetimeGregorian(1997, 8, 16, 10, 0, 0, 0, has_year_zero=False)\n",
            " cftime.DatetimeGregorian(1997, 9, 15, 22, 0, 0, 0, has_year_zero=False)\n",
            " cftime.DatetimeGregorian(1997, 10, 16, 10, 0, 0, 0, has_year_zero=False)\n",
            " cftime.DatetimeGregorian(1997, 11, 15, 22, 0, 0, 0, has_year_zero=False)\n",
            " cftime.DatetimeGregorian(1997, 12, 16, 10, 0, 0, 0, has_year_zero=False)\n",
            " cftime.DatetimeGregorian(1998, 1, 16, 10, 0, 0, 0, has_year_zero=False)\n",
            " cftime.DatetimeGregorian(1998, 2, 14, 22, 0, 0, 0, has_year_zero=False)\n",
            " cftime.DatetimeGregorian(1998, 3, 16, 10, 0, 0, 0, has_year_zero=False)\n",
            " cftime.DatetimeGregorian(1998, 4, 15, 22, 0, 0, 0, has_year_zero=False)\n",
            " cftime.DatetimeGregorian(1998, 5, 16, 10, 0, 0, 0, has_year_zero=False)\n",
            " cftime.DatetimeGregorian(1998, 6, 15, 22, 0, 0, 0, has_year_zero=False)\n",
            " cftime.DatetimeGregorian(1998, 7, 16, 10, 0, 0, 0, has_year_zero=False)\n",
            " cftime.DatetimeGregorian(1998, 8, 16, 10, 0, 0, 0, has_year_zero=False)\n",
            " cftime.DatetimeGregorian(1998, 9, 15, 22, 0, 0, 0, has_year_zero=False)\n",
            " cftime.DatetimeGregorian(1998, 10, 16, 10, 0, 0, 0, has_year_zero=False)\n",
            " cftime.DatetimeGregorian(1998, 11, 15, 22, 0, 0, 0, has_year_zero=False)\n",
            " cftime.DatetimeGregorian(1998, 12, 16, 10, 0, 0, 0, has_year_zero=False)\n",
            " cftime.DatetimeGregorian(1999, 1, 16, 10, 0, 0, 0, has_year_zero=False)\n",
            " cftime.DatetimeGregorian(1999, 2, 14, 22, 0, 0, 0, has_year_zero=False)\n",
            " cftime.DatetimeGregorian(1999, 3, 16, 10, 0, 0, 0, has_year_zero=False)\n",
            " cftime.DatetimeGregorian(1999, 4, 15, 22, 0, 0, 0, has_year_zero=False)\n",
            " cftime.DatetimeGregorian(1999, 5, 16, 10, 0, 0, 0, has_year_zero=False)\n",
            " cftime.DatetimeGregorian(1999, 6, 15, 22, 0, 0, 0, has_year_zero=False)\n",
            " cftime.DatetimeGregorian(1999, 7, 16, 10, 0, 0, 0, has_year_zero=False)\n",
            " cftime.DatetimeGregorian(1999, 8, 16, 10, 0, 0, 0, has_year_zero=False)\n",
            " cftime.DatetimeGregorian(1999, 9, 15, 22, 0, 0, 0, has_year_zero=False)\n",
            " cftime.DatetimeGregorian(1999, 10, 16, 10, 0, 0, 0, has_year_zero=False)\n",
            " cftime.DatetimeGregorian(1999, 11, 15, 22, 0, 0, 0, has_year_zero=False)\n",
            " cftime.DatetimeGregorian(1999, 12, 16, 10, 0, 0, 0, has_year_zero=False)\n",
            " cftime.DatetimeGregorian(2000, 1, 16, 10, 0, 0, 0, has_year_zero=False)\n",
            " cftime.DatetimeGregorian(2000, 2, 15, 10, 0, 0, 0, has_year_zero=False)\n",
            " cftime.DatetimeGregorian(2000, 3, 16, 10, 0, 0, 0, has_year_zero=False)\n",
            " cftime.DatetimeGregorian(2000, 4, 15, 22, 0, 0, 0, has_year_zero=False)\n",
            " cftime.DatetimeGregorian(2000, 5, 16, 10, 0, 0, 0, has_year_zero=False)\n",
            " cftime.DatetimeGregorian(2000, 6, 15, 22, 0, 0, 0, has_year_zero=False)\n",
            " cftime.DatetimeGregorian(2000, 7, 16, 10, 0, 0, 0, has_year_zero=False)\n",
            " cftime.DatetimeGregorian(2000, 8, 16, 10, 0, 0, 0, has_year_zero=False)\n",
            " cftime.DatetimeGregorian(2000, 9, 15, 22, 0, 0, 0, has_year_zero=False)\n",
            " cftime.DatetimeGregorian(2000, 10, 16, 10, 0, 0, 0, has_year_zero=False)\n",
            " cftime.DatetimeGregorian(2000, 11, 15, 22, 0, 0, 0, has_year_zero=False)\n",
            " cftime.DatetimeGregorian(2000, 12, 16, 10, 0, 0, 0, has_year_zero=False)\n",
            " cftime.DatetimeGregorian(2001, 1, 16, 10, 0, 0, 0, has_year_zero=False)\n",
            " cftime.DatetimeGregorian(2001, 2, 14, 22, 0, 0, 0, has_year_zero=False)\n",
            " cftime.DatetimeGregorian(2001, 3, 16, 10, 0, 0, 0, has_year_zero=False)\n",
            " cftime.DatetimeGregorian(2001, 4, 15, 22, 0, 0, 0, has_year_zero=False)\n",
            " cftime.DatetimeGregorian(2001, 5, 16, 10, 0, 0, 0, has_year_zero=False)\n",
            " cftime.DatetimeGregorian(2001, 6, 15, 22, 0, 0, 0, has_year_zero=False)\n",
            " cftime.DatetimeGregorian(2001, 7, 16, 10, 0, 0, 0, has_year_zero=False)\n",
            " cftime.DatetimeGregorian(2001, 8, 16, 10, 0, 0, 0, has_year_zero=False)\n",
            " cftime.DatetimeGregorian(2001, 9, 15, 22, 0, 0, 0, has_year_zero=False)\n",
            " cftime.DatetimeGregorian(2001, 10, 16, 10, 0, 0, 0, has_year_zero=False)\n",
            " cftime.DatetimeGregorian(2001, 11, 15, 22, 0, 0, 0, has_year_zero=False)\n",
            " cftime.DatetimeGregorian(2001, 12, 16, 10, 0, 0, 0, has_year_zero=False)\n",
            " cftime.DatetimeGregorian(2002, 1, 16, 10, 0, 0, 0, has_year_zero=False)\n",
            " cftime.DatetimeGregorian(2002, 2, 14, 22, 0, 0, 0, has_year_zero=False)\n",
            " cftime.DatetimeGregorian(2002, 3, 16, 10, 0, 0, 0, has_year_zero=False)\n",
            " cftime.DatetimeGregorian(2002, 4, 15, 22, 0, 0, 0, has_year_zero=False)\n",
            " cftime.DatetimeGregorian(2002, 5, 16, 10, 0, 0, 0, has_year_zero=False)\n",
            " cftime.DatetimeGregorian(2002, 6, 15, 22, 0, 0, 0, has_year_zero=False)\n",
            " cftime.DatetimeGregorian(2002, 7, 16, 10, 0, 0, 0, has_year_zero=False)\n",
            " cftime.DatetimeGregorian(2002, 8, 16, 10, 0, 0, 0, has_year_zero=False)\n",
            " cftime.DatetimeGregorian(2002, 9, 15, 22, 0, 0, 0, has_year_zero=False)\n",
            " cftime.DatetimeGregorian(2002, 10, 16, 10, 0, 0, 0, has_year_zero=False)\n",
            " cftime.DatetimeGregorian(2002, 11, 15, 22, 0, 0, 0, has_year_zero=False)\n",
            " cftime.DatetimeGregorian(2002, 12, 16, 10, 0, 0, 0, has_year_zero=False)\n",
            " cftime.DatetimeGregorian(2003, 1, 16, 10, 0, 0, 0, has_year_zero=False)\n",
            " cftime.DatetimeGregorian(2003, 2, 14, 22, 0, 0, 0, has_year_zero=False)\n",
            " cftime.DatetimeGregorian(2003, 3, 16, 10, 0, 0, 0, has_year_zero=False)\n",
            " cftime.DatetimeGregorian(2003, 4, 15, 22, 0, 0, 0, has_year_zero=False)\n",
            " cftime.DatetimeGregorian(2003, 5, 16, 10, 0, 0, 0, has_year_zero=False)\n",
            " cftime.DatetimeGregorian(2003, 6, 15, 22, 0, 0, 0, has_year_zero=False)\n",
            " cftime.DatetimeGregorian(2003, 7, 16, 10, 0, 0, 0, has_year_zero=False)\n",
            " cftime.DatetimeGregorian(2003, 8, 16, 10, 0, 0, 0, has_year_zero=False)\n",
            " cftime.DatetimeGregorian(2003, 9, 15, 22, 0, 0, 0, has_year_zero=False)\n",
            " cftime.DatetimeGregorian(2003, 10, 16, 10, 0, 0, 0, has_year_zero=False)\n",
            " cftime.DatetimeGregorian(2003, 11, 15, 22, 0, 0, 0, has_year_zero=False)\n",
            " cftime.DatetimeGregorian(2003, 12, 16, 10, 0, 0, 0, has_year_zero=False)\n",
            " cftime.DatetimeGregorian(2004, 1, 16, 10, 0, 0, 0, has_year_zero=False)\n",
            " cftime.DatetimeGregorian(2004, 2, 15, 10, 0, 0, 0, has_year_zero=False)\n",
            " cftime.DatetimeGregorian(2004, 3, 16, 10, 0, 0, 0, has_year_zero=False)\n",
            " cftime.DatetimeGregorian(2004, 4, 15, 22, 0, 0, 0, has_year_zero=False)\n",
            " cftime.DatetimeGregorian(2004, 5, 16, 10, 0, 0, 0, has_year_zero=False)\n",
            " cftime.DatetimeGregorian(2004, 6, 15, 22, 0, 0, 0, has_year_zero=False)\n",
            " cftime.DatetimeGregorian(2004, 7, 16, 10, 0, 0, 0, has_year_zero=False)\n",
            " cftime.DatetimeGregorian(2004, 8, 16, 10, 0, 0, 0, has_year_zero=False)\n",
            " cftime.DatetimeGregorian(2004, 9, 15, 22, 0, 0, 0, has_year_zero=False)\n",
            " cftime.DatetimeGregorian(2004, 10, 16, 10, 0, 0, 0, has_year_zero=False)\n",
            " cftime.DatetimeGregorian(2004, 11, 15, 22, 0, 0, 0, has_year_zero=False)\n",
            " cftime.DatetimeGregorian(2004, 12, 16, 10, 0, 0, 0, has_year_zero=False)\n",
            " cftime.DatetimeGregorian(2005, 1, 16, 10, 0, 0, 0, has_year_zero=False)\n",
            " cftime.DatetimeGregorian(2005, 2, 14, 22, 0, 0, 0, has_year_zero=False)\n",
            " cftime.DatetimeGregorian(2005, 3, 16, 10, 0, 0, 0, has_year_zero=False)\n",
            " cftime.DatetimeGregorian(2005, 4, 15, 22, 0, 0, 0, has_year_zero=False)\n",
            " cftime.DatetimeGregorian(2005, 5, 16, 10, 0, 0, 0, has_year_zero=False)\n",
            " cftime.DatetimeGregorian(2005, 6, 15, 22, 0, 0, 0, has_year_zero=False)\n",
            " cftime.DatetimeGregorian(2005, 7, 16, 10, 0, 0, 0, has_year_zero=False)\n",
            " cftime.DatetimeGregorian(2005, 8, 16, 10, 0, 0, 0, has_year_zero=False)\n",
            " cftime.DatetimeGregorian(2005, 9, 15, 22, 0, 0, 0, has_year_zero=False)\n",
            " cftime.DatetimeGregorian(2005, 10, 16, 10, 0, 0, 0, has_year_zero=False)\n",
            " cftime.DatetimeGregorian(2005, 11, 15, 22, 0, 0, 0, has_year_zero=False)\n",
            " cftime.DatetimeGregorian(2005, 12, 16, 10, 0, 0, 0, has_year_zero=False)\n",
            " cftime.DatetimeGregorian(2006, 1, 16, 10, 0, 0, 0, has_year_zero=False)\n",
            " cftime.DatetimeGregorian(2006, 2, 14, 22, 0, 0, 0, has_year_zero=False)\n",
            " cftime.DatetimeGregorian(2006, 3, 16, 10, 0, 0, 0, has_year_zero=False)\n",
            " cftime.DatetimeGregorian(2006, 4, 15, 22, 0, 0, 0, has_year_zero=False)\n",
            " cftime.DatetimeGregorian(2006, 5, 16, 10, 0, 0, 0, has_year_zero=False)\n",
            " cftime.DatetimeGregorian(2006, 6, 15, 22, 0, 0, 0, has_year_zero=False)\n",
            " cftime.DatetimeGregorian(2006, 7, 16, 10, 0, 0, 0, has_year_zero=False)\n",
            " cftime.DatetimeGregorian(2006, 8, 16, 10, 0, 0, 0, has_year_zero=False)\n",
            " cftime.DatetimeGregorian(2006, 9, 15, 22, 0, 0, 0, has_year_zero=False)\n",
            " cftime.DatetimeGregorian(2006, 10, 16, 10, 0, 0, 0, has_year_zero=False)\n",
            " cftime.DatetimeGregorian(2006, 11, 15, 22, 0, 0, 0, has_year_zero=False)\n",
            " cftime.DatetimeGregorian(2006, 12, 16, 10, 0, 0, 0, has_year_zero=False)\n",
            " cftime.DatetimeGregorian(2007, 1, 16, 10, 0, 0, 0, has_year_zero=False)\n",
            " cftime.DatetimeGregorian(2007, 2, 14, 22, 0, 0, 0, has_year_zero=False)\n",
            " cftime.DatetimeGregorian(2007, 3, 16, 10, 0, 0, 0, has_year_zero=False)\n",
            " cftime.DatetimeGregorian(2007, 4, 15, 22, 0, 0, 0, has_year_zero=False)\n",
            " cftime.DatetimeGregorian(2007, 5, 16, 10, 0, 0, 0, has_year_zero=False)\n",
            " cftime.DatetimeGregorian(2007, 6, 15, 22, 0, 0, 0, has_year_zero=False)\n",
            " cftime.DatetimeGregorian(2007, 7, 16, 10, 0, 0, 0, has_year_zero=False)\n",
            " cftime.DatetimeGregorian(2007, 8, 16, 10, 0, 0, 0, has_year_zero=False)\n",
            " cftime.DatetimeGregorian(2007, 9, 15, 22, 0, 0, 0, has_year_zero=False)\n",
            " cftime.DatetimeGregorian(2007, 10, 16, 10, 0, 0, 0, has_year_zero=False)\n",
            " cftime.DatetimeGregorian(2007, 11, 15, 22, 0, 0, 0, has_year_zero=False)\n",
            " cftime.DatetimeGregorian(2007, 12, 16, 10, 0, 0, 0, has_year_zero=False)\n",
            " cftime.DatetimeGregorian(2008, 1, 16, 10, 0, 0, 0, has_year_zero=False)\n",
            " cftime.DatetimeGregorian(2008, 2, 15, 10, 0, 0, 0, has_year_zero=False)\n",
            " cftime.DatetimeGregorian(2008, 3, 16, 10, 0, 0, 0, has_year_zero=False)\n",
            " cftime.DatetimeGregorian(2008, 4, 15, 22, 0, 0, 0, has_year_zero=False)\n",
            " cftime.DatetimeGregorian(2008, 5, 16, 10, 0, 0, 0, has_year_zero=False)\n",
            " cftime.DatetimeGregorian(2008, 6, 15, 22, 0, 0, 0, has_year_zero=False)\n",
            " cftime.DatetimeGregorian(2008, 7, 16, 10, 0, 0, 0, has_year_zero=False)\n",
            " cftime.DatetimeGregorian(2008, 8, 16, 10, 0, 0, 0, has_year_zero=False)\n",
            " cftime.DatetimeGregorian(2008, 9, 15, 22, 0, 0, 0, has_year_zero=False)\n",
            " cftime.DatetimeGregorian(2008, 10, 16, 10, 0, 0, 0, has_year_zero=False)\n",
            " cftime.DatetimeGregorian(2008, 11, 15, 22, 0, 0, 0, has_year_zero=False)\n",
            " cftime.DatetimeGregorian(2008, 12, 16, 10, 0, 0, 0, has_year_zero=False)\n",
            " cftime.DatetimeGregorian(2009, 1, 16, 10, 0, 0, 0, has_year_zero=False)\n",
            " cftime.DatetimeGregorian(2009, 2, 14, 22, 0, 0, 0, has_year_zero=False)\n",
            " cftime.DatetimeGregorian(2009, 3, 16, 10, 0, 0, 0, has_year_zero=False)\n",
            " cftime.DatetimeGregorian(2009, 4, 15, 22, 0, 0, 0, has_year_zero=False)\n",
            " cftime.DatetimeGregorian(2009, 5, 16, 10, 0, 0, 0, has_year_zero=False)\n",
            " cftime.DatetimeGregorian(2009, 6, 15, 22, 0, 0, 0, has_year_zero=False)\n",
            " cftime.DatetimeGregorian(2009, 7, 16, 10, 0, 0, 0, has_year_zero=False)\n",
            " cftime.DatetimeGregorian(2009, 8, 16, 10, 0, 0, 0, has_year_zero=False)\n",
            " cftime.DatetimeGregorian(2009, 9, 15, 22, 0, 0, 0, has_year_zero=False)\n",
            " cftime.DatetimeGregorian(2009, 10, 16, 10, 0, 0, 0, has_year_zero=False)\n",
            " cftime.DatetimeGregorian(2009, 11, 15, 22, 0, 0, 0, has_year_zero=False)\n",
            " cftime.DatetimeGregorian(2009, 12, 16, 10, 0, 0, 0, has_year_zero=False)\n",
            " cftime.DatetimeGregorian(2010, 1, 16, 10, 0, 0, 0, has_year_zero=False)\n",
            " cftime.DatetimeGregorian(2010, 2, 14, 22, 0, 0, 0, has_year_zero=False)\n",
            " cftime.DatetimeGregorian(2010, 3, 16, 10, 0, 0, 0, has_year_zero=False)\n",
            " cftime.DatetimeGregorian(2010, 4, 15, 22, 0, 0, 0, has_year_zero=False)\n",
            " cftime.DatetimeGregorian(2010, 5, 16, 10, 0, 0, 0, has_year_zero=False)\n",
            " cftime.DatetimeGregorian(2010, 6, 15, 22, 0, 0, 0, has_year_zero=False)\n",
            " cftime.DatetimeGregorian(2010, 7, 16, 10, 0, 0, 0, has_year_zero=False)\n",
            " cftime.DatetimeGregorian(2010, 8, 16, 10, 0, 0, 0, has_year_zero=False)\n",
            " cftime.DatetimeGregorian(2010, 9, 15, 22, 0, 0, 0, has_year_zero=False)\n",
            " cftime.DatetimeGregorian(2010, 10, 16, 10, 0, 0, 0, has_year_zero=False)\n",
            " cftime.DatetimeGregorian(2010, 11, 15, 22, 0, 0, 0, has_year_zero=False)\n",
            " cftime.DatetimeGregorian(2010, 12, 16, 10, 0, 0, 0, has_year_zero=False)\n",
            " cftime.DatetimeGregorian(2011, 1, 16, 10, 0, 0, 0, has_year_zero=False)\n",
            " cftime.DatetimeGregorian(2011, 2, 14, 22, 0, 0, 0, has_year_zero=False)\n",
            " cftime.DatetimeGregorian(2011, 3, 16, 10, 0, 0, 0, has_year_zero=False)\n",
            " cftime.DatetimeGregorian(2011, 4, 15, 22, 0, 0, 0, has_year_zero=False)\n",
            " cftime.DatetimeGregorian(2011, 5, 16, 10, 0, 0, 0, has_year_zero=False)\n",
            " cftime.DatetimeGregorian(2011, 6, 15, 22, 0, 0, 0, has_year_zero=False)\n",
            " cftime.DatetimeGregorian(2011, 7, 16, 10, 0, 0, 0, has_year_zero=False)\n",
            " cftime.DatetimeGregorian(2011, 8, 16, 10, 0, 0, 0, has_year_zero=False)\n",
            " cftime.DatetimeGregorian(2011, 9, 15, 22, 0, 0, 0, has_year_zero=False)\n",
            " cftime.DatetimeGregorian(2011, 10, 16, 10, 0, 0, 0, has_year_zero=False)\n",
            " cftime.DatetimeGregorian(2011, 11, 15, 22, 0, 0, 0, has_year_zero=False)\n",
            " cftime.DatetimeGregorian(2011, 12, 16, 10, 0, 0, 0, has_year_zero=False)\n",
            " cftime.DatetimeGregorian(2012, 1, 16, 10, 0, 0, 0, has_year_zero=False)\n",
            " cftime.DatetimeGregorian(2012, 2, 15, 10, 0, 0, 0, has_year_zero=False)\n",
            " cftime.DatetimeGregorian(2012, 3, 16, 10, 0, 0, 0, has_year_zero=False)\n",
            " cftime.DatetimeGregorian(2012, 4, 15, 22, 0, 0, 0, has_year_zero=False)\n",
            " cftime.DatetimeGregorian(2012, 5, 16, 10, 0, 0, 0, has_year_zero=False)\n",
            " cftime.DatetimeGregorian(2012, 6, 15, 22, 0, 0, 0, has_year_zero=False)\n",
            " cftime.DatetimeGregorian(2012, 7, 16, 10, 0, 0, 0, has_year_zero=False)\n",
            " cftime.DatetimeGregorian(2012, 8, 16, 10, 0, 0, 0, has_year_zero=False)\n",
            " cftime.DatetimeGregorian(2012, 9, 15, 22, 0, 0, 0, has_year_zero=False)\n",
            " cftime.DatetimeGregorian(2012, 10, 16, 10, 0, 0, 0, has_year_zero=False)\n",
            " cftime.DatetimeGregorian(2012, 11, 15, 22, 0, 0, 0, has_year_zero=False)\n",
            " cftime.DatetimeGregorian(2012, 12, 16, 10, 0, 0, 0, has_year_zero=False)\n",
            " cftime.DatetimeGregorian(2013, 1, 16, 10, 0, 0, 0, has_year_zero=False)\n",
            " cftime.DatetimeGregorian(2013, 2, 14, 22, 0, 0, 0, has_year_zero=False)\n",
            " cftime.DatetimeGregorian(2013, 3, 16, 10, 0, 0, 0, has_year_zero=False)\n",
            " cftime.DatetimeGregorian(2013, 4, 15, 22, 0, 0, 0, has_year_zero=False)\n",
            " cftime.DatetimeGregorian(2013, 5, 16, 10, 0, 0, 0, has_year_zero=False)\n",
            " cftime.DatetimeGregorian(2013, 6, 15, 22, 0, 0, 0, has_year_zero=False)\n",
            " cftime.DatetimeGregorian(2013, 7, 16, 10, 0, 0, 0, has_year_zero=False)\n",
            " cftime.DatetimeGregorian(2013, 8, 16, 10, 0, 0, 0, has_year_zero=False)\n",
            " cftime.DatetimeGregorian(2013, 9, 15, 22, 0, 0, 0, has_year_zero=False)\n",
            " cftime.DatetimeGregorian(2013, 10, 16, 10, 0, 0, 0, has_year_zero=False)\n",
            " cftime.DatetimeGregorian(2013, 11, 15, 22, 0, 0, 0, has_year_zero=False)\n",
            " cftime.DatetimeGregorian(2013, 12, 16, 10, 0, 0, 0, has_year_zero=False)\n",
            " cftime.DatetimeGregorian(2014, 1, 16, 10, 0, 0, 0, has_year_zero=False)\n",
            " cftime.DatetimeGregorian(2014, 2, 14, 22, 0, 0, 0, has_year_zero=False)\n",
            " cftime.DatetimeGregorian(2014, 3, 16, 10, 0, 0, 0, has_year_zero=False)\n",
            " cftime.DatetimeGregorian(2014, 4, 15, 22, 0, 0, 0, has_year_zero=False)\n",
            " cftime.DatetimeGregorian(2014, 5, 16, 10, 0, 0, 0, has_year_zero=False)\n",
            " cftime.DatetimeGregorian(2014, 6, 15, 22, 0, 0, 0, has_year_zero=False)\n",
            " cftime.DatetimeGregorian(2014, 7, 16, 10, 0, 0, 0, has_year_zero=False)\n",
            " cftime.DatetimeGregorian(2014, 8, 16, 10, 0, 0, 0, has_year_zero=False)\n",
            " cftime.DatetimeGregorian(2014, 9, 15, 22, 0, 0, 0, has_year_zero=False)\n",
            " cftime.DatetimeGregorian(2014, 10, 16, 10, 0, 0, 0, has_year_zero=False)\n",
            " cftime.DatetimeGregorian(2014, 11, 15, 22, 0, 0, 0, has_year_zero=False)\n",
            " cftime.DatetimeGregorian(2014, 12, 16, 10, 0, 0, 0, has_year_zero=False)\n",
            " cftime.DatetimeGregorian(2015, 1, 16, 10, 0, 0, 0, has_year_zero=False)\n",
            " cftime.DatetimeGregorian(2015, 2, 14, 22, 0, 0, 0, has_year_zero=False)\n",
            " cftime.DatetimeGregorian(2015, 3, 16, 10, 0, 0, 0, has_year_zero=False)\n",
            " cftime.DatetimeGregorian(2015, 4, 15, 22, 0, 0, 0, has_year_zero=False)\n",
            " cftime.DatetimeGregorian(2015, 5, 16, 10, 0, 0, 0, has_year_zero=False)\n",
            " cftime.DatetimeGregorian(2015, 6, 15, 22, 0, 0, 0, has_year_zero=False)\n",
            " cftime.DatetimeGregorian(2015, 7, 16, 10, 0, 0, 0, has_year_zero=False)\n",
            " cftime.DatetimeGregorian(2015, 8, 16, 10, 0, 0, 0, has_year_zero=False)\n",
            " cftime.DatetimeGregorian(2015, 9, 15, 22, 0, 0, 0, has_year_zero=False)\n",
            " cftime.DatetimeGregorian(2015, 10, 16, 10, 0, 0, 0, has_year_zero=False)\n",
            " cftime.DatetimeGregorian(2015, 11, 15, 22, 0, 0, 0, has_year_zero=False)\n",
            " cftime.DatetimeGregorian(2015, 12, 16, 10, 0, 0, 0, has_year_zero=False)\n",
            " cftime.DatetimeGregorian(2016, 1, 16, 10, 0, 0, 0, has_year_zero=False)\n",
            " cftime.DatetimeGregorian(2016, 2, 15, 10, 0, 0, 0, has_year_zero=False)\n",
            " cftime.DatetimeGregorian(2016, 3, 16, 10, 0, 0, 0, has_year_zero=False)\n",
            " cftime.DatetimeGregorian(2016, 4, 15, 22, 0, 0, 0, has_year_zero=False)\n",
            " cftime.DatetimeGregorian(2016, 5, 16, 10, 0, 0, 0, has_year_zero=False)\n",
            " cftime.DatetimeGregorian(2016, 6, 15, 22, 0, 0, 0, has_year_zero=False)\n",
            " cftime.DatetimeGregorian(2016, 7, 16, 10, 0, 0, 0, has_year_zero=False)\n",
            " cftime.DatetimeGregorian(2016, 8, 16, 10, 0, 0, 0, has_year_zero=False)\n",
            " cftime.DatetimeGregorian(2016, 9, 15, 22, 0, 0, 0, has_year_zero=False)\n",
            " cftime.DatetimeGregorian(2016, 10, 16, 10, 0, 0, 0, has_year_zero=False)\n",
            " cftime.DatetimeGregorian(2016, 11, 15, 22, 0, 0, 0, has_year_zero=False)\n",
            " cftime.DatetimeGregorian(2016, 12, 16, 10, 0, 0, 0, has_year_zero=False)\n",
            " cftime.DatetimeGregorian(2017, 1, 16, 10, 0, 0, 0, has_year_zero=False)\n",
            " cftime.DatetimeGregorian(2017, 2, 14, 22, 0, 0, 0, has_year_zero=False)\n",
            " cftime.DatetimeGregorian(2017, 3, 16, 10, 0, 0, 0, has_year_zero=False)\n",
            " cftime.DatetimeGregorian(2017, 4, 15, 22, 0, 0, 0, has_year_zero=False)\n",
            " cftime.DatetimeGregorian(2017, 5, 16, 10, 0, 0, 0, has_year_zero=False)\n",
            " cftime.DatetimeGregorian(2017, 6, 15, 22, 0, 0, 0, has_year_zero=False)\n",
            " cftime.DatetimeGregorian(2017, 7, 16, 10, 0, 0, 0, has_year_zero=False)\n",
            " cftime.DatetimeGregorian(2017, 8, 16, 10, 0, 0, 0, has_year_zero=False)\n",
            " cftime.DatetimeGregorian(2017, 9, 15, 22, 0, 0, 0, has_year_zero=False)\n",
            " cftime.DatetimeGregorian(2017, 10, 16, 10, 0, 0, 0, has_year_zero=False)\n",
            " cftime.DatetimeGregorian(2017, 11, 15, 22, 0, 0, 0, has_year_zero=False)\n",
            " cftime.DatetimeGregorian(2017, 12, 16, 10, 0, 0, 0, has_year_zero=False)\n",
            " cftime.DatetimeGregorian(2018, 1, 16, 10, 0, 0, 0, has_year_zero=False)\n",
            " cftime.DatetimeGregorian(2018, 2, 14, 22, 0, 0, 0, has_year_zero=False)\n",
            " cftime.DatetimeGregorian(2018, 3, 16, 10, 0, 0, 0, has_year_zero=False)\n",
            " cftime.DatetimeGregorian(2018, 4, 15, 22, 0, 0, 0, has_year_zero=False)\n",
            " cftime.DatetimeGregorian(2018, 5, 16, 10, 0, 0, 0, has_year_zero=False)\n",
            " cftime.DatetimeGregorian(2018, 6, 15, 22, 0, 0, 0, has_year_zero=False)\n",
            " cftime.DatetimeGregorian(2018, 7, 16, 10, 0, 0, 0, has_year_zero=False)\n",
            " cftime.DatetimeGregorian(2018, 8, 16, 10, 0, 0, 0, has_year_zero=False)\n",
            " cftime.DatetimeGregorian(2018, 9, 15, 22, 0, 0, 0, has_year_zero=False)\n",
            " cftime.DatetimeGregorian(2018, 10, 16, 10, 0, 0, 0, has_year_zero=False)\n",
            " cftime.DatetimeGregorian(2018, 11, 15, 22, 0, 0, 0, has_year_zero=False)\n",
            " cftime.DatetimeGregorian(2018, 12, 16, 10, 0, 0, 0, has_year_zero=False)\n",
            " cftime.DatetimeGregorian(2019, 1, 16, 10, 0, 0, 0, has_year_zero=False)\n",
            " cftime.DatetimeGregorian(2019, 2, 14, 22, 0, 0, 0, has_year_zero=False)\n",
            " cftime.DatetimeGregorian(2019, 3, 16, 10, 0, 0, 0, has_year_zero=False)\n",
            " cftime.DatetimeGregorian(2019, 4, 15, 22, 0, 0, 0, has_year_zero=False)\n",
            " cftime.DatetimeGregorian(2019, 5, 16, 10, 0, 0, 0, has_year_zero=False)\n",
            " cftime.DatetimeGregorian(2019, 6, 15, 22, 0, 0, 0, has_year_zero=False)\n",
            " cftime.DatetimeGregorian(2019, 7, 16, 10, 0, 0, 0, has_year_zero=False)\n",
            " cftime.DatetimeGregorian(2019, 8, 16, 10, 0, 0, 0, has_year_zero=False)\n",
            " cftime.DatetimeGregorian(2019, 9, 15, 22, 0, 0, 0, has_year_zero=False)\n",
            " cftime.DatetimeGregorian(2019, 10, 16, 10, 0, 0, 0, has_year_zero=False)\n",
            " cftime.DatetimeGregorian(2019, 11, 15, 22, 0, 0, 0, has_year_zero=False)\n",
            " cftime.DatetimeGregorian(2019, 12, 16, 10, 0, 0, 0, has_year_zero=False)\n",
            " cftime.DatetimeGregorian(2020, 1, 16, 10, 0, 0, 0, has_year_zero=False)\n",
            " cftime.DatetimeGregorian(2020, 2, 15, 10, 0, 0, 0, has_year_zero=False)\n",
            " cftime.DatetimeGregorian(2020, 3, 16, 10, 0, 0, 0, has_year_zero=False)\n",
            " cftime.DatetimeGregorian(2020, 4, 15, 22, 0, 0, 0, has_year_zero=False)\n",
            " cftime.DatetimeGregorian(2020, 5, 16, 10, 0, 0, 0, has_year_zero=False)\n",
            " cftime.DatetimeGregorian(2020, 6, 15, 22, 0, 0, 0, has_year_zero=False)\n",
            " cftime.DatetimeGregorian(2020, 7, 16, 10, 0, 0, 0, has_year_zero=False)\n",
            " cftime.DatetimeGregorian(2020, 8, 16, 10, 0, 0, 0, has_year_zero=False)\n",
            " cftime.DatetimeGregorian(2020, 9, 15, 22, 0, 0, 0, has_year_zero=False)\n",
            " cftime.DatetimeGregorian(2020, 10, 16, 10, 0, 0, 0, has_year_zero=False)\n",
            " cftime.DatetimeGregorian(2020, 11, 15, 22, 0, 0, 0, has_year_zero=False)\n",
            " cftime.DatetimeGregorian(2020, 12, 16, 10, 0, 0, 0, has_year_zero=False)\n",
            " cftime.DatetimeGregorian(2021, 1, 16, 10, 0, 0, 0, has_year_zero=False)\n",
            " cftime.DatetimeGregorian(2021, 2, 14, 22, 0, 0, 0, has_year_zero=False)\n",
            " cftime.DatetimeGregorian(2021, 3, 16, 10, 0, 0, 0, has_year_zero=False)\n",
            " cftime.DatetimeGregorian(2021, 4, 15, 22, 0, 0, 0, has_year_zero=False)\n",
            " cftime.DatetimeGregorian(2021, 5, 16, 10, 0, 0, 0, has_year_zero=False)\n",
            " cftime.DatetimeGregorian(2021, 6, 15, 22, 0, 0, 0, has_year_zero=False)\n",
            " cftime.DatetimeGregorian(2021, 7, 16, 10, 0, 0, 0, has_year_zero=False)\n",
            " cftime.DatetimeGregorian(2021, 8, 16, 10, 0, 0, 0, has_year_zero=False)\n",
            " cftime.DatetimeGregorian(2021, 9, 15, 22, 0, 0, 0, has_year_zero=False)\n",
            " cftime.DatetimeGregorian(2021, 10, 16, 10, 0, 0, 0, has_year_zero=False)\n",
            " cftime.DatetimeGregorian(2021, 11, 15, 22, 0, 0, 0, has_year_zero=False)\n",
            " cftime.DatetimeGregorian(2021, 12, 16, 10, 0, 0, 0, has_year_zero=False)\n",
            " cftime.DatetimeGregorian(2022, 1, 16, 10, 0, 0, 0, has_year_zero=False)\n",
            " cftime.DatetimeGregorian(2022, 2, 14, 22, 0, 0, 0, has_year_zero=False)\n",
            " cftime.DatetimeGregorian(2022, 3, 16, 10, 0, 0, 0, has_year_zero=False)\n",
            " cftime.DatetimeGregorian(2022, 4, 15, 22, 0, 0, 0, has_year_zero=False)\n",
            " cftime.DatetimeGregorian(2022, 5, 16, 10, 0, 0, 0, has_year_zero=False)\n",
            " cftime.DatetimeGregorian(2022, 6, 15, 22, 0, 0, 0, has_year_zero=False)\n",
            " cftime.DatetimeGregorian(2022, 7, 16, 10, 0, 0, 0, has_year_zero=False)\n",
            " cftime.DatetimeGregorian(2022, 8, 16, 10, 0, 0, 0, has_year_zero=False)\n",
            " cftime.DatetimeGregorian(2022, 9, 15, 22, 0, 0, 0, has_year_zero=False)\n",
            " cftime.DatetimeGregorian(2022, 10, 16, 10, 0, 0, 0, has_year_zero=False)\n",
            " cftime.DatetimeGregorian(2022, 11, 15, 22, 0, 0, 0, has_year_zero=False)\n",
            " cftime.DatetimeGregorian(2022, 12, 16, 10, 0, 0, 0, has_year_zero=False)]\n"
          ]
        }
      ]
    },
    {
      "cell_type": "code",
      "source": [
        "#converting to more readable format\n",
        "for date in dates:\n",
        "  formatted_date = date.strftime('%Y-%m-%d %H:%M:%S')\n",
        "  print(formatted_date)"
      ],
      "metadata": {
        "colab": {
          "base_uri": "https://localhost:8080/",
          "height": 0
        },
        "id": "4IzdXrwFqW4E",
        "outputId": "f0b4e67b-6f6d-41f0-d36b-2a95ead26d05"
      },
      "execution_count": 33,
      "outputs": [
        {
          "output_type": "stream",
          "name": "stdout",
          "text": [
            "1979-01-16 10:00:00\n",
            "1979-02-14 22:00:00\n",
            "1979-03-16 10:00:00\n",
            "1979-04-15 22:00:00\n",
            "1979-05-16 10:00:00\n",
            "1979-06-15 22:00:00\n",
            "1979-07-16 10:00:00\n",
            "1979-08-16 10:00:00\n",
            "1979-09-15 22:00:00\n",
            "1979-10-16 10:00:00\n",
            "1979-11-15 22:00:00\n",
            "1979-12-16 10:00:00\n",
            "1980-01-16 10:00:00\n",
            "1980-02-15 10:00:00\n",
            "1980-03-16 10:00:00\n",
            "1980-04-15 22:00:00\n",
            "1980-05-16 10:00:00\n",
            "1980-06-15 22:00:00\n",
            "1980-07-16 10:00:00\n",
            "1980-08-16 10:00:00\n",
            "1980-09-15 22:00:00\n",
            "1980-10-16 10:00:00\n",
            "1980-11-15 22:00:00\n",
            "1980-12-16 10:00:00\n",
            "1981-01-16 10:00:00\n",
            "1981-02-14 22:00:00\n",
            "1981-03-16 10:00:00\n",
            "1981-04-15 22:00:00\n",
            "1981-05-16 10:00:00\n",
            "1981-06-15 22:00:00\n",
            "1981-07-16 10:00:00\n",
            "1981-08-16 10:00:00\n",
            "1981-09-15 22:00:00\n",
            "1981-10-16 10:00:00\n",
            "1981-11-15 22:00:00\n",
            "1981-12-16 10:00:00\n",
            "1982-01-16 10:00:00\n",
            "1982-02-14 22:00:00\n",
            "1982-03-16 10:00:00\n",
            "1982-04-15 22:00:00\n",
            "1982-05-16 10:00:00\n",
            "1982-06-15 22:00:00\n",
            "1982-07-16 10:00:00\n",
            "1982-08-16 10:00:00\n",
            "1982-09-15 22:00:00\n",
            "1982-10-16 10:00:00\n",
            "1982-11-15 22:00:00\n",
            "1982-12-16 10:00:00\n",
            "1983-01-16 10:00:00\n",
            "1983-02-14 22:00:00\n",
            "1983-03-16 10:00:00\n",
            "1983-04-15 22:00:00\n",
            "1983-05-16 10:00:00\n",
            "1983-06-15 22:00:00\n",
            "1983-07-16 10:00:00\n",
            "1983-08-16 10:00:00\n",
            "1983-09-15 22:00:00\n",
            "1983-10-16 10:00:00\n",
            "1983-11-15 22:00:00\n",
            "1983-12-16 10:00:00\n",
            "1984-01-16 10:00:00\n",
            "1984-02-15 10:00:00\n",
            "1984-03-16 10:00:00\n",
            "1984-04-15 22:00:00\n",
            "1984-05-16 10:00:00\n",
            "1984-06-15 22:00:00\n",
            "1984-07-16 10:00:00\n",
            "1984-08-16 10:00:00\n",
            "1984-09-15 22:00:00\n",
            "1984-10-16 10:00:00\n",
            "1984-11-15 22:00:00\n",
            "1984-12-16 10:00:00\n",
            "1985-01-16 10:00:00\n",
            "1985-02-14 22:00:00\n",
            "1985-03-16 10:00:00\n",
            "1985-04-15 22:00:00\n",
            "1985-05-16 10:00:00\n",
            "1985-06-15 22:00:00\n",
            "1985-07-16 10:00:00\n",
            "1985-08-16 10:00:00\n",
            "1985-09-15 22:00:00\n",
            "1985-10-16 10:00:00\n",
            "1985-11-15 22:00:00\n",
            "1985-12-16 10:00:00\n",
            "1986-01-16 10:00:00\n",
            "1986-02-14 22:00:00\n",
            "1986-03-16 10:00:00\n",
            "1986-04-15 22:00:00\n",
            "1986-05-16 10:00:00\n",
            "1986-06-15 22:00:00\n",
            "1986-07-16 10:00:00\n",
            "1986-08-16 10:00:00\n",
            "1986-09-15 22:00:00\n",
            "1986-10-16 10:00:00\n",
            "1986-11-15 22:00:00\n",
            "1986-12-16 10:00:00\n",
            "1987-01-16 10:00:00\n",
            "1987-02-14 22:00:00\n",
            "1987-03-16 10:00:00\n",
            "1987-04-15 22:00:00\n",
            "1987-05-16 10:00:00\n",
            "1987-06-15 22:00:00\n",
            "1987-07-16 10:00:00\n",
            "1987-08-16 10:00:00\n",
            "1987-09-15 22:00:00\n",
            "1987-10-16 10:00:00\n",
            "1987-11-15 22:00:00\n",
            "1987-12-16 10:00:00\n",
            "1988-01-16 10:00:00\n",
            "1988-02-15 10:00:00\n",
            "1988-03-16 10:00:00\n",
            "1988-04-15 22:00:00\n",
            "1988-05-16 10:00:00\n",
            "1988-06-15 22:00:00\n",
            "1988-07-16 10:00:00\n",
            "1988-08-16 10:00:00\n",
            "1988-09-15 22:00:00\n",
            "1988-10-16 10:00:00\n",
            "1988-11-15 22:00:00\n",
            "1988-12-16 10:00:00\n",
            "1989-01-16 10:00:00\n",
            "1989-02-14 22:00:00\n",
            "1989-03-16 10:00:00\n",
            "1989-04-15 22:00:00\n",
            "1989-05-16 10:00:00\n",
            "1989-06-15 22:00:00\n",
            "1989-07-16 10:00:00\n",
            "1989-08-16 10:00:00\n",
            "1989-09-15 22:00:00\n",
            "1989-10-16 10:00:00\n",
            "1989-11-15 22:00:00\n",
            "1989-12-16 10:00:00\n",
            "1990-01-16 10:00:00\n",
            "1990-02-14 22:00:00\n",
            "1990-03-16 10:00:00\n",
            "1990-04-15 22:00:00\n",
            "1990-05-16 10:00:00\n",
            "1990-06-15 22:00:00\n",
            "1990-07-16 10:00:00\n",
            "1990-08-16 10:00:00\n",
            "1990-09-15 22:00:00\n",
            "1990-10-16 10:00:00\n",
            "1990-11-15 22:00:00\n",
            "1990-12-16 10:00:00\n",
            "1991-01-16 10:00:00\n",
            "1991-02-14 22:00:00\n",
            "1991-03-16 10:00:00\n",
            "1991-04-15 22:00:00\n",
            "1991-05-16 10:00:00\n",
            "1991-06-15 22:00:00\n",
            "1991-07-16 10:00:00\n",
            "1991-08-16 10:00:00\n",
            "1991-09-15 22:00:00\n",
            "1991-10-16 10:00:00\n",
            "1991-11-15 22:00:00\n",
            "1991-12-16 10:00:00\n",
            "1992-01-16 10:00:00\n",
            "1992-02-15 10:00:00\n",
            "1992-03-16 10:00:00\n",
            "1992-04-15 22:00:00\n",
            "1992-05-16 10:00:00\n",
            "1992-06-15 22:00:00\n",
            "1992-07-16 10:00:00\n",
            "1992-08-16 10:00:00\n",
            "1992-09-15 22:00:00\n",
            "1992-10-16 10:00:00\n",
            "1992-11-15 22:00:00\n",
            "1992-12-16 10:00:00\n",
            "1993-01-16 10:00:00\n",
            "1993-02-14 22:00:00\n",
            "1993-03-16 10:00:00\n",
            "1993-04-15 22:00:00\n",
            "1993-05-16 10:00:00\n",
            "1993-06-15 22:00:00\n",
            "1993-07-16 10:00:00\n",
            "1993-08-16 10:00:00\n",
            "1993-09-15 22:00:00\n",
            "1993-10-16 10:00:00\n",
            "1993-11-15 22:00:00\n",
            "1993-12-16 10:00:00\n",
            "1994-01-16 10:00:00\n",
            "1994-02-14 22:00:00\n",
            "1994-03-16 10:00:00\n",
            "1994-04-15 22:00:00\n",
            "1994-05-16 10:00:00\n",
            "1994-06-15 22:00:00\n",
            "1994-07-16 10:00:00\n",
            "1994-08-16 10:00:00\n",
            "1994-09-15 22:00:00\n",
            "1994-10-16 10:00:00\n",
            "1994-11-15 22:00:00\n",
            "1994-12-16 10:00:00\n",
            "1995-01-16 10:00:00\n",
            "1995-02-14 22:00:00\n",
            "1995-03-16 10:00:00\n",
            "1995-04-15 22:00:00\n",
            "1995-05-16 10:00:00\n",
            "1995-06-15 22:00:00\n",
            "1995-07-16 10:00:00\n",
            "1995-08-16 10:00:00\n",
            "1995-09-15 22:00:00\n",
            "1995-10-16 10:00:00\n",
            "1995-11-15 22:00:00\n",
            "1995-12-16 10:00:00\n",
            "1996-01-16 10:00:00\n",
            "1996-02-15 10:00:00\n",
            "1996-03-16 10:00:00\n",
            "1996-04-15 22:00:00\n",
            "1996-05-16 10:00:00\n",
            "1996-06-15 22:00:00\n",
            "1996-07-16 10:00:00\n",
            "1996-08-16 10:00:00\n",
            "1996-09-15 22:00:00\n",
            "1996-10-16 10:00:00\n",
            "1996-11-15 22:00:00\n",
            "1996-12-16 10:00:00\n",
            "1997-01-16 10:00:00\n",
            "1997-02-14 22:00:00\n",
            "1997-03-16 10:00:00\n",
            "1997-04-15 22:00:00\n",
            "1997-05-16 10:00:00\n",
            "1997-06-15 22:00:00\n",
            "1997-07-16 10:00:00\n",
            "1997-08-16 10:00:00\n",
            "1997-09-15 22:00:00\n",
            "1997-10-16 10:00:00\n",
            "1997-11-15 22:00:00\n",
            "1997-12-16 10:00:00\n",
            "1998-01-16 10:00:00\n",
            "1998-02-14 22:00:00\n",
            "1998-03-16 10:00:00\n",
            "1998-04-15 22:00:00\n",
            "1998-05-16 10:00:00\n",
            "1998-06-15 22:00:00\n",
            "1998-07-16 10:00:00\n",
            "1998-08-16 10:00:00\n",
            "1998-09-15 22:00:00\n",
            "1998-10-16 10:00:00\n",
            "1998-11-15 22:00:00\n",
            "1998-12-16 10:00:00\n",
            "1999-01-16 10:00:00\n",
            "1999-02-14 22:00:00\n",
            "1999-03-16 10:00:00\n",
            "1999-04-15 22:00:00\n",
            "1999-05-16 10:00:00\n",
            "1999-06-15 22:00:00\n",
            "1999-07-16 10:00:00\n",
            "1999-08-16 10:00:00\n",
            "1999-09-15 22:00:00\n",
            "1999-10-16 10:00:00\n",
            "1999-11-15 22:00:00\n",
            "1999-12-16 10:00:00\n",
            "2000-01-16 10:00:00\n",
            "2000-02-15 10:00:00\n",
            "2000-03-16 10:00:00\n",
            "2000-04-15 22:00:00\n",
            "2000-05-16 10:00:00\n",
            "2000-06-15 22:00:00\n",
            "2000-07-16 10:00:00\n",
            "2000-08-16 10:00:00\n",
            "2000-09-15 22:00:00\n",
            "2000-10-16 10:00:00\n",
            "2000-11-15 22:00:00\n",
            "2000-12-16 10:00:00\n",
            "2001-01-16 10:00:00\n",
            "2001-02-14 22:00:00\n",
            "2001-03-16 10:00:00\n",
            "2001-04-15 22:00:00\n",
            "2001-05-16 10:00:00\n",
            "2001-06-15 22:00:00\n",
            "2001-07-16 10:00:00\n",
            "2001-08-16 10:00:00\n",
            "2001-09-15 22:00:00\n",
            "2001-10-16 10:00:00\n",
            "2001-11-15 22:00:00\n",
            "2001-12-16 10:00:00\n",
            "2002-01-16 10:00:00\n",
            "2002-02-14 22:00:00\n",
            "2002-03-16 10:00:00\n",
            "2002-04-15 22:00:00\n",
            "2002-05-16 10:00:00\n",
            "2002-06-15 22:00:00\n",
            "2002-07-16 10:00:00\n",
            "2002-08-16 10:00:00\n",
            "2002-09-15 22:00:00\n",
            "2002-10-16 10:00:00\n",
            "2002-11-15 22:00:00\n",
            "2002-12-16 10:00:00\n",
            "2003-01-16 10:00:00\n",
            "2003-02-14 22:00:00\n",
            "2003-03-16 10:00:00\n",
            "2003-04-15 22:00:00\n",
            "2003-05-16 10:00:00\n",
            "2003-06-15 22:00:00\n",
            "2003-07-16 10:00:00\n",
            "2003-08-16 10:00:00\n",
            "2003-09-15 22:00:00\n",
            "2003-10-16 10:00:00\n",
            "2003-11-15 22:00:00\n",
            "2003-12-16 10:00:00\n",
            "2004-01-16 10:00:00\n",
            "2004-02-15 10:00:00\n",
            "2004-03-16 10:00:00\n",
            "2004-04-15 22:00:00\n",
            "2004-05-16 10:00:00\n",
            "2004-06-15 22:00:00\n",
            "2004-07-16 10:00:00\n",
            "2004-08-16 10:00:00\n",
            "2004-09-15 22:00:00\n",
            "2004-10-16 10:00:00\n",
            "2004-11-15 22:00:00\n",
            "2004-12-16 10:00:00\n",
            "2005-01-16 10:00:00\n",
            "2005-02-14 22:00:00\n",
            "2005-03-16 10:00:00\n",
            "2005-04-15 22:00:00\n",
            "2005-05-16 10:00:00\n",
            "2005-06-15 22:00:00\n",
            "2005-07-16 10:00:00\n",
            "2005-08-16 10:00:00\n",
            "2005-09-15 22:00:00\n",
            "2005-10-16 10:00:00\n",
            "2005-11-15 22:00:00\n",
            "2005-12-16 10:00:00\n",
            "2006-01-16 10:00:00\n",
            "2006-02-14 22:00:00\n",
            "2006-03-16 10:00:00\n",
            "2006-04-15 22:00:00\n",
            "2006-05-16 10:00:00\n",
            "2006-06-15 22:00:00\n",
            "2006-07-16 10:00:00\n",
            "2006-08-16 10:00:00\n",
            "2006-09-15 22:00:00\n",
            "2006-10-16 10:00:00\n",
            "2006-11-15 22:00:00\n",
            "2006-12-16 10:00:00\n",
            "2007-01-16 10:00:00\n",
            "2007-02-14 22:00:00\n",
            "2007-03-16 10:00:00\n",
            "2007-04-15 22:00:00\n",
            "2007-05-16 10:00:00\n",
            "2007-06-15 22:00:00\n",
            "2007-07-16 10:00:00\n",
            "2007-08-16 10:00:00\n",
            "2007-09-15 22:00:00\n",
            "2007-10-16 10:00:00\n",
            "2007-11-15 22:00:00\n",
            "2007-12-16 10:00:00\n",
            "2008-01-16 10:00:00\n",
            "2008-02-15 10:00:00\n",
            "2008-03-16 10:00:00\n",
            "2008-04-15 22:00:00\n",
            "2008-05-16 10:00:00\n",
            "2008-06-15 22:00:00\n",
            "2008-07-16 10:00:00\n",
            "2008-08-16 10:00:00\n",
            "2008-09-15 22:00:00\n",
            "2008-10-16 10:00:00\n",
            "2008-11-15 22:00:00\n",
            "2008-12-16 10:00:00\n",
            "2009-01-16 10:00:00\n",
            "2009-02-14 22:00:00\n",
            "2009-03-16 10:00:00\n",
            "2009-04-15 22:00:00\n",
            "2009-05-16 10:00:00\n",
            "2009-06-15 22:00:00\n",
            "2009-07-16 10:00:00\n",
            "2009-08-16 10:00:00\n",
            "2009-09-15 22:00:00\n",
            "2009-10-16 10:00:00\n",
            "2009-11-15 22:00:00\n",
            "2009-12-16 10:00:00\n",
            "2010-01-16 10:00:00\n",
            "2010-02-14 22:00:00\n",
            "2010-03-16 10:00:00\n",
            "2010-04-15 22:00:00\n",
            "2010-05-16 10:00:00\n",
            "2010-06-15 22:00:00\n",
            "2010-07-16 10:00:00\n",
            "2010-08-16 10:00:00\n",
            "2010-09-15 22:00:00\n",
            "2010-10-16 10:00:00\n",
            "2010-11-15 22:00:00\n",
            "2010-12-16 10:00:00\n",
            "2011-01-16 10:00:00\n",
            "2011-02-14 22:00:00\n",
            "2011-03-16 10:00:00\n",
            "2011-04-15 22:00:00\n",
            "2011-05-16 10:00:00\n",
            "2011-06-15 22:00:00\n",
            "2011-07-16 10:00:00\n",
            "2011-08-16 10:00:00\n",
            "2011-09-15 22:00:00\n",
            "2011-10-16 10:00:00\n",
            "2011-11-15 22:00:00\n",
            "2011-12-16 10:00:00\n",
            "2012-01-16 10:00:00\n",
            "2012-02-15 10:00:00\n",
            "2012-03-16 10:00:00\n",
            "2012-04-15 22:00:00\n",
            "2012-05-16 10:00:00\n",
            "2012-06-15 22:00:00\n",
            "2012-07-16 10:00:00\n",
            "2012-08-16 10:00:00\n",
            "2012-09-15 22:00:00\n",
            "2012-10-16 10:00:00\n",
            "2012-11-15 22:00:00\n",
            "2012-12-16 10:00:00\n",
            "2013-01-16 10:00:00\n",
            "2013-02-14 22:00:00\n",
            "2013-03-16 10:00:00\n",
            "2013-04-15 22:00:00\n",
            "2013-05-16 10:00:00\n",
            "2013-06-15 22:00:00\n",
            "2013-07-16 10:00:00\n",
            "2013-08-16 10:00:00\n",
            "2013-09-15 22:00:00\n",
            "2013-10-16 10:00:00\n",
            "2013-11-15 22:00:00\n",
            "2013-12-16 10:00:00\n",
            "2014-01-16 10:00:00\n",
            "2014-02-14 22:00:00\n",
            "2014-03-16 10:00:00\n",
            "2014-04-15 22:00:00\n",
            "2014-05-16 10:00:00\n",
            "2014-06-15 22:00:00\n",
            "2014-07-16 10:00:00\n",
            "2014-08-16 10:00:00\n",
            "2014-09-15 22:00:00\n",
            "2014-10-16 10:00:00\n",
            "2014-11-15 22:00:00\n",
            "2014-12-16 10:00:00\n",
            "2015-01-16 10:00:00\n",
            "2015-02-14 22:00:00\n",
            "2015-03-16 10:00:00\n",
            "2015-04-15 22:00:00\n",
            "2015-05-16 10:00:00\n",
            "2015-06-15 22:00:00\n",
            "2015-07-16 10:00:00\n",
            "2015-08-16 10:00:00\n",
            "2015-09-15 22:00:00\n",
            "2015-10-16 10:00:00\n",
            "2015-11-15 22:00:00\n",
            "2015-12-16 10:00:00\n",
            "2016-01-16 10:00:00\n",
            "2016-02-15 10:00:00\n",
            "2016-03-16 10:00:00\n",
            "2016-04-15 22:00:00\n",
            "2016-05-16 10:00:00\n",
            "2016-06-15 22:00:00\n",
            "2016-07-16 10:00:00\n",
            "2016-08-16 10:00:00\n",
            "2016-09-15 22:00:00\n",
            "2016-10-16 10:00:00\n",
            "2016-11-15 22:00:00\n",
            "2016-12-16 10:00:00\n",
            "2017-01-16 10:00:00\n",
            "2017-02-14 22:00:00\n",
            "2017-03-16 10:00:00\n",
            "2017-04-15 22:00:00\n",
            "2017-05-16 10:00:00\n",
            "2017-06-15 22:00:00\n",
            "2017-07-16 10:00:00\n",
            "2017-08-16 10:00:00\n",
            "2017-09-15 22:00:00\n",
            "2017-10-16 10:00:00\n",
            "2017-11-15 22:00:00\n",
            "2017-12-16 10:00:00\n",
            "2018-01-16 10:00:00\n",
            "2018-02-14 22:00:00\n",
            "2018-03-16 10:00:00\n",
            "2018-04-15 22:00:00\n",
            "2018-05-16 10:00:00\n",
            "2018-06-15 22:00:00\n",
            "2018-07-16 10:00:00\n",
            "2018-08-16 10:00:00\n",
            "2018-09-15 22:00:00\n",
            "2018-10-16 10:00:00\n",
            "2018-11-15 22:00:00\n",
            "2018-12-16 10:00:00\n",
            "2019-01-16 10:00:00\n",
            "2019-02-14 22:00:00\n",
            "2019-03-16 10:00:00\n",
            "2019-04-15 22:00:00\n",
            "2019-05-16 10:00:00\n",
            "2019-06-15 22:00:00\n",
            "2019-07-16 10:00:00\n",
            "2019-08-16 10:00:00\n",
            "2019-09-15 22:00:00\n",
            "2019-10-16 10:00:00\n",
            "2019-11-15 22:00:00\n",
            "2019-12-16 10:00:00\n",
            "2020-01-16 10:00:00\n",
            "2020-02-15 10:00:00\n",
            "2020-03-16 10:00:00\n",
            "2020-04-15 22:00:00\n",
            "2020-05-16 10:00:00\n",
            "2020-06-15 22:00:00\n",
            "2020-07-16 10:00:00\n",
            "2020-08-16 10:00:00\n",
            "2020-09-15 22:00:00\n",
            "2020-10-16 10:00:00\n",
            "2020-11-15 22:00:00\n",
            "2020-12-16 10:00:00\n",
            "2021-01-16 10:00:00\n",
            "2021-02-14 22:00:00\n",
            "2021-03-16 10:00:00\n",
            "2021-04-15 22:00:00\n",
            "2021-05-16 10:00:00\n",
            "2021-06-15 22:00:00\n",
            "2021-07-16 10:00:00\n",
            "2021-08-16 10:00:00\n",
            "2021-09-15 22:00:00\n",
            "2021-10-16 10:00:00\n",
            "2021-11-15 22:00:00\n",
            "2021-12-16 10:00:00\n",
            "2022-01-16 10:00:00\n",
            "2022-02-14 22:00:00\n",
            "2022-03-16 10:00:00\n",
            "2022-04-15 22:00:00\n",
            "2022-05-16 10:00:00\n",
            "2022-06-15 22:00:00\n",
            "2022-07-16 10:00:00\n",
            "2022-08-16 10:00:00\n",
            "2022-09-15 22:00:00\n",
            "2022-10-16 10:00:00\n",
            "2022-11-15 22:00:00\n",
            "2022-12-16 10:00:00\n"
          ]
        }
      ]
    },
    {
      "cell_type": "markdown",
      "source": [
        "**SUMMARY**\n",
        "* **Time Series Data Shape:**The time data has 528 entries.\n",
        "* **Data Type:**The time values are in int32 format.\n",
        "* **Units:** The time units are \"hours since 1900-01-01 00:00:00.\"\n",
        "* **Converted Dates:** After converting the time values to a human-readable format using the num2date function, the results indicate dates spanning from January 16, 1979 to Dec 16, 2022. The time intervals in the dataset appear to be monthly, with consistent timestamps alternating between 10:00 and 22:00 hours."
      ],
      "metadata": {
        "id": "C7sEWGXJzyMY"
      }
    },
    {
      "cell_type": "markdown",
      "source": [
        "**TIME BOUNDS**"
      ],
      "metadata": {
        "id": "twSu4H8f0JjG"
      }
    },
    {
      "cell_type": "code",
      "source": [
        "print(\"Time bounds are\\n:\", time_bnds)"
      ],
      "metadata": {
        "colab": {
          "base_uri": "https://localhost:8080/",
          "height": 0
        },
        "id": "ncrmLKmAqe8v",
        "outputId": "6f180350-bc1e-41ab-ee4f-c8a974618d58"
      },
      "execution_count": 34,
      "outputs": [
        {
          "output_type": "stream",
          "name": "stdout",
          "text": [
            "Time bounds are\n",
            ": [[ 692496.  693237.]\n",
            " [ 693240.  693909.]\n",
            " [ 693912.  694653.]\n",
            " ...\n",
            " [1075992. 1076733.]\n",
            " [1076736. 1077453.]\n",
            " [1077456. 1078197.]]\n"
          ]
        }
      ]
    },
    {
      "cell_type": "code",
      "source": [
        "print(\"shape of the time bounds data:\")\n",
        "time_bnds.shape"
      ],
      "metadata": {
        "colab": {
          "base_uri": "https://localhost:8080/",
          "height": 0
        },
        "id": "9i3a1kNRq7tL",
        "outputId": "af3b26c5-6a43-4374-c677-30425dec1e53"
      },
      "execution_count": 52,
      "outputs": [
        {
          "output_type": "stream",
          "name": "stdout",
          "text": [
            "shape of the time bounds data:\n"
          ]
        },
        {
          "output_type": "execute_result",
          "data": {
            "text/plain": [
              "(528, 2)"
            ]
          },
          "metadata": {},
          "execution_count": 52
        }
      ]
    },
    {
      "cell_type": "code",
      "source": [
        "print(\"data type of the time bounds data\")\n",
        "time_bnds.dtype"
      ],
      "metadata": {
        "colab": {
          "base_uri": "https://localhost:8080/",
          "height": 0
        },
        "id": "q2CQX9v4q-rJ",
        "outputId": "8e22d120-db2f-4fd3-c24f-d2a69c17510d"
      },
      "execution_count": 53,
      "outputs": [
        {
          "output_type": "stream",
          "name": "stdout",
          "text": [
            "data type of the time bounds data\n"
          ]
        },
        {
          "output_type": "execute_result",
          "data": {
            "text/plain": [
              "dtype('float64')"
            ]
          },
          "metadata": {},
          "execution_count": 53
        }
      ]
    },
    {
      "cell_type": "code",
      "source": [
        "#Conerting to more readble format\n",
        "for bounds in time_bnds:\n",
        "  start_date = num2date(bounds[0], units=t_unit, calendar=t_cal)\n",
        "  end_date = num2date(bounds[1], units=t_unit, calendar=t_cal)\n",
        "\n",
        "  formatted_start_date = start_date.strftime('%Y-%m-%d %H:%M:%S')\n",
        "  formatted_end_date = end_date.strftime('%Y-%m-%d %H:%M:%S')\n",
        "\n",
        "  print(f\"Start: {formatted_start_date}, End: {formatted_end_date}\")"
      ],
      "metadata": {
        "colab": {
          "base_uri": "https://localhost:8080/",
          "height": 0
        },
        "id": "rbPJwBnrrBaq",
        "outputId": "f0af8a28-e9d0-461d-fb39-1762ce0e0558"
      },
      "execution_count": 37,
      "outputs": [
        {
          "output_type": "stream",
          "name": "stdout",
          "text": [
            "Start: 1979-01-01 00:00:00, End: 1979-01-31 21:00:00\n",
            "Start: 1979-02-01 00:00:00, End: 1979-02-28 21:00:00\n",
            "Start: 1979-03-01 00:00:00, End: 1979-03-31 21:00:00\n",
            "Start: 1979-04-01 00:00:00, End: 1979-04-30 21:00:00\n",
            "Start: 1979-05-01 00:00:00, End: 1979-05-31 21:00:00\n",
            "Start: 1979-06-01 00:00:00, End: 1979-06-30 21:00:00\n",
            "Start: 1979-07-01 00:00:00, End: 1979-07-31 21:00:00\n",
            "Start: 1979-08-01 00:00:00, End: 1979-08-31 21:00:00\n",
            "Start: 1979-09-01 00:00:00, End: 1979-09-30 21:00:00\n",
            "Start: 1979-10-01 00:00:00, End: 1979-10-31 21:00:00\n",
            "Start: 1979-11-01 00:00:00, End: 1979-11-30 21:00:00\n",
            "Start: 1979-12-01 00:00:00, End: 1979-12-31 21:00:00\n",
            "Start: 1980-01-01 00:00:00, End: 1980-01-31 21:00:00\n",
            "Start: 1980-02-01 00:00:00, End: 1980-02-29 21:00:00\n",
            "Start: 1980-03-01 00:00:00, End: 1980-03-31 21:00:00\n",
            "Start: 1980-04-01 00:00:00, End: 1980-04-30 21:00:00\n",
            "Start: 1980-05-01 00:00:00, End: 1980-05-31 21:00:00\n",
            "Start: 1980-06-01 00:00:00, End: 1980-06-30 21:00:00\n",
            "Start: 1980-07-01 00:00:00, End: 1980-07-31 21:00:00\n",
            "Start: 1980-08-01 00:00:00, End: 1980-08-31 21:00:00\n",
            "Start: 1980-09-01 00:00:00, End: 1980-09-30 21:00:00\n",
            "Start: 1980-10-01 00:00:00, End: 1980-10-31 21:00:00\n",
            "Start: 1980-11-01 00:00:00, End: 1980-11-30 21:00:00\n",
            "Start: 1980-12-01 00:00:00, End: 1980-12-31 21:00:00\n",
            "Start: 1981-01-01 00:00:00, End: 1981-01-31 21:00:00\n",
            "Start: 1981-02-01 00:00:00, End: 1981-02-28 21:00:00\n",
            "Start: 1981-03-01 00:00:00, End: 1981-03-31 21:00:00\n",
            "Start: 1981-04-01 00:00:00, End: 1981-04-30 21:00:00\n",
            "Start: 1981-05-01 00:00:00, End: 1981-05-31 21:00:00\n",
            "Start: 1981-06-01 00:00:00, End: 1981-06-30 21:00:00\n",
            "Start: 1981-07-01 00:00:00, End: 1981-07-31 21:00:00\n",
            "Start: 1981-08-01 00:00:00, End: 1981-08-31 21:00:00\n",
            "Start: 1981-09-01 00:00:00, End: 1981-09-30 21:00:00\n",
            "Start: 1981-10-01 00:00:00, End: 1981-10-31 21:00:00\n",
            "Start: 1981-11-01 00:00:00, End: 1981-11-30 21:00:00\n",
            "Start: 1981-12-01 00:00:00, End: 1981-12-31 21:00:00\n",
            "Start: 1982-01-01 00:00:00, End: 1982-01-31 21:00:00\n",
            "Start: 1982-02-01 00:00:00, End: 1982-02-28 21:00:00\n",
            "Start: 1982-03-01 00:00:00, End: 1982-03-31 21:00:00\n",
            "Start: 1982-04-01 00:00:00, End: 1982-04-30 21:00:00\n",
            "Start: 1982-05-01 00:00:00, End: 1982-05-31 21:00:00\n",
            "Start: 1982-06-01 00:00:00, End: 1982-06-30 21:00:00\n",
            "Start: 1982-07-01 00:00:00, End: 1982-07-31 21:00:00\n",
            "Start: 1982-08-01 00:00:00, End: 1982-08-31 21:00:00\n",
            "Start: 1982-09-01 00:00:00, End: 1982-09-30 21:00:00\n",
            "Start: 1982-10-01 00:00:00, End: 1982-10-31 21:00:00\n",
            "Start: 1982-11-01 00:00:00, End: 1982-11-30 21:00:00\n",
            "Start: 1982-12-01 00:00:00, End: 1982-12-31 21:00:00\n",
            "Start: 1983-01-01 00:00:00, End: 1983-01-31 21:00:00\n",
            "Start: 1983-02-01 00:00:00, End: 1983-02-28 21:00:00\n",
            "Start: 1983-03-01 00:00:00, End: 1983-03-31 21:00:00\n",
            "Start: 1983-04-01 00:00:00, End: 1983-04-30 21:00:00\n",
            "Start: 1983-05-01 00:00:00, End: 1983-05-31 21:00:00\n",
            "Start: 1983-06-01 00:00:00, End: 1983-06-30 21:00:00\n",
            "Start: 1983-07-01 00:00:00, End: 1983-07-31 21:00:00\n",
            "Start: 1983-08-01 00:00:00, End: 1983-08-31 21:00:00\n",
            "Start: 1983-09-01 00:00:00, End: 1983-09-30 21:00:00\n",
            "Start: 1983-10-01 00:00:00, End: 1983-10-31 21:00:00\n",
            "Start: 1983-11-01 00:00:00, End: 1983-11-30 21:00:00\n",
            "Start: 1983-12-01 00:00:00, End: 1983-12-31 21:00:00\n",
            "Start: 1984-01-01 00:00:00, End: 1984-01-31 21:00:00\n",
            "Start: 1984-02-01 00:00:00, End: 1984-02-29 21:00:00\n",
            "Start: 1984-03-01 00:00:00, End: 1984-03-31 21:00:00\n",
            "Start: 1984-04-01 00:00:00, End: 1984-04-30 21:00:00\n",
            "Start: 1984-05-01 00:00:00, End: 1984-05-31 21:00:00\n",
            "Start: 1984-06-01 00:00:00, End: 1984-06-30 21:00:00\n",
            "Start: 1984-07-01 00:00:00, End: 1984-07-31 21:00:00\n",
            "Start: 1984-08-01 00:00:00, End: 1984-08-31 21:00:00\n",
            "Start: 1984-09-01 00:00:00, End: 1984-09-30 21:00:00\n",
            "Start: 1984-10-01 00:00:00, End: 1984-10-31 21:00:00\n",
            "Start: 1984-11-01 00:00:00, End: 1984-11-30 21:00:00\n",
            "Start: 1984-12-01 00:00:00, End: 1984-12-31 21:00:00\n",
            "Start: 1985-01-01 00:00:00, End: 1985-01-31 21:00:00\n",
            "Start: 1985-02-01 00:00:00, End: 1985-02-28 21:00:00\n",
            "Start: 1985-03-01 00:00:00, End: 1985-03-31 21:00:00\n",
            "Start: 1985-04-01 00:00:00, End: 1985-04-30 21:00:00\n",
            "Start: 1985-05-01 00:00:00, End: 1985-05-31 21:00:00\n",
            "Start: 1985-06-01 00:00:00, End: 1985-06-30 21:00:00\n",
            "Start: 1985-07-01 00:00:00, End: 1985-07-31 21:00:00\n",
            "Start: 1985-08-01 00:00:00, End: 1985-08-31 21:00:00\n",
            "Start: 1985-09-01 00:00:00, End: 1985-09-30 21:00:00\n",
            "Start: 1985-10-01 00:00:00, End: 1985-10-31 21:00:00\n",
            "Start: 1985-11-01 00:00:00, End: 1985-11-30 21:00:00\n",
            "Start: 1985-12-01 00:00:00, End: 1985-12-31 21:00:00\n",
            "Start: 1986-01-01 00:00:00, End: 1986-01-31 21:00:00\n",
            "Start: 1986-02-01 00:00:00, End: 1986-02-28 21:00:00\n",
            "Start: 1986-03-01 00:00:00, End: 1986-03-31 21:00:00\n",
            "Start: 1986-04-01 00:00:00, End: 1986-04-30 21:00:00\n",
            "Start: 1986-05-01 00:00:00, End: 1986-05-31 21:00:00\n",
            "Start: 1986-06-01 00:00:00, End: 1986-06-30 21:00:00\n",
            "Start: 1986-07-01 00:00:00, End: 1986-07-31 21:00:00\n",
            "Start: 1986-08-01 00:00:00, End: 1986-08-31 21:00:00\n",
            "Start: 1986-09-01 00:00:00, End: 1986-09-30 21:00:00\n",
            "Start: 1986-10-01 00:00:00, End: 1986-10-31 21:00:00\n",
            "Start: 1986-11-01 00:00:00, End: 1986-11-30 21:00:00\n",
            "Start: 1986-12-01 00:00:00, End: 1986-12-31 21:00:00\n",
            "Start: 1987-01-01 00:00:00, End: 1987-01-31 21:00:00\n",
            "Start: 1987-02-01 00:00:00, End: 1987-02-28 21:00:00\n",
            "Start: 1987-03-01 00:00:00, End: 1987-03-31 21:00:00\n",
            "Start: 1987-04-01 00:00:00, End: 1987-04-30 21:00:00\n",
            "Start: 1987-05-01 00:00:00, End: 1987-05-31 21:00:00\n",
            "Start: 1987-06-01 00:00:00, End: 1987-06-30 21:00:00\n",
            "Start: 1987-07-01 00:00:00, End: 1987-07-31 21:00:00\n",
            "Start: 1987-08-01 00:00:00, End: 1987-08-31 21:00:00\n",
            "Start: 1987-09-01 00:00:00, End: 1987-09-30 21:00:00\n",
            "Start: 1987-10-01 00:00:00, End: 1987-10-31 21:00:00\n",
            "Start: 1987-11-01 00:00:00, End: 1987-11-30 21:00:00\n",
            "Start: 1987-12-01 00:00:00, End: 1987-12-31 21:00:00\n",
            "Start: 1988-01-01 00:00:00, End: 1988-01-31 21:00:00\n",
            "Start: 1988-02-01 00:00:00, End: 1988-02-29 21:00:00\n",
            "Start: 1988-03-01 00:00:00, End: 1988-03-31 21:00:00\n",
            "Start: 1988-04-01 00:00:00, End: 1988-04-30 21:00:00\n",
            "Start: 1988-05-01 00:00:00, End: 1988-05-31 21:00:00\n",
            "Start: 1988-06-01 00:00:00, End: 1988-06-30 21:00:00\n",
            "Start: 1988-07-01 00:00:00, End: 1988-07-31 21:00:00\n",
            "Start: 1988-08-01 00:00:00, End: 1988-08-31 21:00:00\n",
            "Start: 1988-09-01 00:00:00, End: 1988-09-30 21:00:00\n",
            "Start: 1988-10-01 00:00:00, End: 1988-10-31 21:00:00\n",
            "Start: 1988-11-01 00:00:00, End: 1988-11-30 21:00:00\n",
            "Start: 1988-12-01 00:00:00, End: 1988-12-31 21:00:00\n",
            "Start: 1989-01-01 00:00:00, End: 1989-01-31 21:00:00\n",
            "Start: 1989-02-01 00:00:00, End: 1989-02-28 21:00:00\n",
            "Start: 1989-03-01 00:00:00, End: 1989-03-31 21:00:00\n",
            "Start: 1989-04-01 00:00:00, End: 1989-04-30 21:00:00\n",
            "Start: 1989-05-01 00:00:00, End: 1989-05-31 21:00:00\n",
            "Start: 1989-06-01 00:00:00, End: 1989-06-30 21:00:00\n",
            "Start: 1989-07-01 00:00:00, End: 1989-07-31 21:00:00\n",
            "Start: 1989-08-01 00:00:00, End: 1989-08-31 21:00:00\n",
            "Start: 1989-09-01 00:00:00, End: 1989-09-30 21:00:00\n",
            "Start: 1989-10-01 00:00:00, End: 1989-10-31 21:00:00\n",
            "Start: 1989-11-01 00:00:00, End: 1989-11-30 21:00:00\n",
            "Start: 1989-12-01 00:00:00, End: 1989-12-31 21:00:00\n",
            "Start: 1990-01-01 00:00:00, End: 1990-01-31 21:00:00\n",
            "Start: 1990-02-01 00:00:00, End: 1990-02-28 21:00:00\n",
            "Start: 1990-03-01 00:00:00, End: 1990-03-31 21:00:00\n",
            "Start: 1990-04-01 00:00:00, End: 1990-04-30 21:00:00\n",
            "Start: 1990-05-01 00:00:00, End: 1990-05-31 21:00:00\n",
            "Start: 1990-06-01 00:00:00, End: 1990-06-30 21:00:00\n",
            "Start: 1990-07-01 00:00:00, End: 1990-07-31 21:00:00\n",
            "Start: 1990-08-01 00:00:00, End: 1990-08-31 21:00:00\n",
            "Start: 1990-09-01 00:00:00, End: 1990-09-30 21:00:00\n",
            "Start: 1990-10-01 00:00:00, End: 1990-10-31 21:00:00\n",
            "Start: 1990-11-01 00:00:00, End: 1990-11-30 21:00:00\n",
            "Start: 1990-12-01 00:00:00, End: 1990-12-31 21:00:00\n",
            "Start: 1991-01-01 00:00:00, End: 1991-01-31 21:00:00\n",
            "Start: 1991-02-01 00:00:00, End: 1991-02-28 21:00:00\n",
            "Start: 1991-03-01 00:00:00, End: 1991-03-31 21:00:00\n",
            "Start: 1991-04-01 00:00:00, End: 1991-04-30 21:00:00\n",
            "Start: 1991-05-01 00:00:00, End: 1991-05-31 21:00:00\n",
            "Start: 1991-06-01 00:00:00, End: 1991-06-30 21:00:00\n",
            "Start: 1991-07-01 00:00:00, End: 1991-07-31 21:00:00\n",
            "Start: 1991-08-01 00:00:00, End: 1991-08-31 21:00:00\n",
            "Start: 1991-09-01 00:00:00, End: 1991-09-30 21:00:00\n",
            "Start: 1991-10-01 00:00:00, End: 1991-10-31 21:00:00\n",
            "Start: 1991-11-01 00:00:00, End: 1991-11-30 21:00:00\n",
            "Start: 1991-12-01 00:00:00, End: 1991-12-31 21:00:00\n",
            "Start: 1992-01-01 00:00:00, End: 1992-01-31 21:00:00\n",
            "Start: 1992-02-01 00:00:00, End: 1992-02-29 21:00:00\n",
            "Start: 1992-03-01 00:00:00, End: 1992-03-31 21:00:00\n",
            "Start: 1992-04-01 00:00:00, End: 1992-04-30 21:00:00\n",
            "Start: 1992-05-01 00:00:00, End: 1992-05-31 21:00:00\n",
            "Start: 1992-06-01 00:00:00, End: 1992-06-30 21:00:00\n",
            "Start: 1992-07-01 00:00:00, End: 1992-07-31 21:00:00\n",
            "Start: 1992-08-01 00:00:00, End: 1992-08-31 21:00:00\n",
            "Start: 1992-09-01 00:00:00, End: 1992-09-30 21:00:00\n",
            "Start: 1992-10-01 00:00:00, End: 1992-10-31 21:00:00\n",
            "Start: 1992-11-01 00:00:00, End: 1992-11-30 21:00:00\n",
            "Start: 1992-12-01 00:00:00, End: 1992-12-31 21:00:00\n",
            "Start: 1993-01-01 00:00:00, End: 1993-01-31 21:00:00\n",
            "Start: 1993-02-01 00:00:00, End: 1993-02-28 21:00:00\n",
            "Start: 1993-03-01 00:00:00, End: 1993-03-31 21:00:00\n",
            "Start: 1993-04-01 00:00:00, End: 1993-04-30 21:00:00\n",
            "Start: 1993-05-01 00:00:00, End: 1993-05-31 21:00:00\n",
            "Start: 1993-06-01 00:00:00, End: 1993-06-30 21:00:00\n",
            "Start: 1993-07-01 00:00:00, End: 1993-07-31 21:00:00\n",
            "Start: 1993-08-01 00:00:00, End: 1993-08-31 21:00:00\n",
            "Start: 1993-09-01 00:00:00, End: 1993-09-30 21:00:00\n",
            "Start: 1993-10-01 00:00:00, End: 1993-10-31 21:00:00\n",
            "Start: 1993-11-01 00:00:00, End: 1993-11-30 21:00:00\n",
            "Start: 1993-12-01 00:00:00, End: 1993-12-31 21:00:00\n",
            "Start: 1994-01-01 00:00:00, End: 1994-01-31 21:00:00\n",
            "Start: 1994-02-01 00:00:00, End: 1994-02-28 21:00:00\n",
            "Start: 1994-03-01 00:00:00, End: 1994-03-31 21:00:00\n",
            "Start: 1994-04-01 00:00:00, End: 1994-04-30 21:00:00\n",
            "Start: 1994-05-01 00:00:00, End: 1994-05-31 21:00:00\n",
            "Start: 1994-06-01 00:00:00, End: 1994-06-30 21:00:00\n",
            "Start: 1994-07-01 00:00:00, End: 1994-07-31 21:00:00\n",
            "Start: 1994-08-01 00:00:00, End: 1994-08-31 21:00:00\n",
            "Start: 1994-09-01 00:00:00, End: 1994-09-30 21:00:00\n",
            "Start: 1994-10-01 00:00:00, End: 1994-10-31 21:00:00\n",
            "Start: 1994-11-01 00:00:00, End: 1994-11-30 21:00:00\n",
            "Start: 1994-12-01 00:00:00, End: 1994-12-31 21:00:00\n",
            "Start: 1995-01-01 00:00:00, End: 1995-01-31 21:00:00\n",
            "Start: 1995-02-01 00:00:00, End: 1995-02-28 21:00:00\n",
            "Start: 1995-03-01 00:00:00, End: 1995-03-31 21:00:00\n",
            "Start: 1995-04-01 00:00:00, End: 1995-04-30 21:00:00\n",
            "Start: 1995-05-01 00:00:00, End: 1995-05-31 21:00:00\n",
            "Start: 1995-06-01 00:00:00, End: 1995-06-30 21:00:00\n",
            "Start: 1995-07-01 00:00:00, End: 1995-07-31 21:00:00\n",
            "Start: 1995-08-01 00:00:00, End: 1995-08-31 21:00:00\n",
            "Start: 1995-09-01 00:00:00, End: 1995-09-30 21:00:00\n",
            "Start: 1995-10-01 00:00:00, End: 1995-10-31 21:00:00\n",
            "Start: 1995-11-01 00:00:00, End: 1995-11-30 21:00:00\n",
            "Start: 1995-12-01 00:00:00, End: 1995-12-31 21:00:00\n",
            "Start: 1996-01-01 00:00:00, End: 1996-01-31 21:00:00\n",
            "Start: 1996-02-01 00:00:00, End: 1996-02-29 21:00:00\n",
            "Start: 1996-03-01 00:00:00, End: 1996-03-31 21:00:00\n",
            "Start: 1996-04-01 00:00:00, End: 1996-04-30 21:00:00\n",
            "Start: 1996-05-01 00:00:00, End: 1996-05-31 21:00:00\n",
            "Start: 1996-06-01 00:00:00, End: 1996-06-30 21:00:00\n",
            "Start: 1996-07-01 00:00:00, End: 1996-07-31 21:00:00\n",
            "Start: 1996-08-01 00:00:00, End: 1996-08-31 21:00:00\n",
            "Start: 1996-09-01 00:00:00, End: 1996-09-30 21:00:00\n",
            "Start: 1996-10-01 00:00:00, End: 1996-10-31 21:00:00\n",
            "Start: 1996-11-01 00:00:00, End: 1996-11-30 21:00:00\n",
            "Start: 1996-12-01 00:00:00, End: 1996-12-31 21:00:00\n",
            "Start: 1997-01-01 00:00:00, End: 1997-01-31 21:00:00\n",
            "Start: 1997-02-01 00:00:00, End: 1997-02-28 21:00:00\n",
            "Start: 1997-03-01 00:00:00, End: 1997-03-31 21:00:00\n",
            "Start: 1997-04-01 00:00:00, End: 1997-04-30 21:00:00\n",
            "Start: 1997-05-01 00:00:00, End: 1997-05-31 21:00:00\n",
            "Start: 1997-06-01 00:00:00, End: 1997-06-30 21:00:00\n",
            "Start: 1997-07-01 00:00:00, End: 1997-07-31 21:00:00\n",
            "Start: 1997-08-01 00:00:00, End: 1997-08-31 21:00:00\n",
            "Start: 1997-09-01 00:00:00, End: 1997-09-30 21:00:00\n",
            "Start: 1997-10-01 00:00:00, End: 1997-10-31 21:00:00\n",
            "Start: 1997-11-01 00:00:00, End: 1997-11-30 21:00:00\n",
            "Start: 1997-12-01 00:00:00, End: 1997-12-31 21:00:00\n",
            "Start: 1998-01-01 00:00:00, End: 1998-01-31 21:00:00\n",
            "Start: 1998-02-01 00:00:00, End: 1998-02-28 21:00:00\n",
            "Start: 1998-03-01 00:00:00, End: 1998-03-31 21:00:00\n",
            "Start: 1998-04-01 00:00:00, End: 1998-04-30 21:00:00\n",
            "Start: 1998-05-01 00:00:00, End: 1998-05-31 21:00:00\n",
            "Start: 1998-06-01 00:00:00, End: 1998-06-30 21:00:00\n",
            "Start: 1998-07-01 00:00:00, End: 1998-07-31 21:00:00\n",
            "Start: 1998-08-01 00:00:00, End: 1998-08-31 21:00:00\n",
            "Start: 1998-09-01 00:00:00, End: 1998-09-30 21:00:00\n",
            "Start: 1998-10-01 00:00:00, End: 1998-10-31 21:00:00\n",
            "Start: 1998-11-01 00:00:00, End: 1998-11-30 21:00:00\n",
            "Start: 1998-12-01 00:00:00, End: 1998-12-31 21:00:00\n",
            "Start: 1999-01-01 00:00:00, End: 1999-01-31 21:00:00\n",
            "Start: 1999-02-01 00:00:00, End: 1999-02-28 21:00:00\n",
            "Start: 1999-03-01 00:00:00, End: 1999-03-31 21:00:00\n",
            "Start: 1999-04-01 00:00:00, End: 1999-04-30 21:00:00\n",
            "Start: 1999-05-01 00:00:00, End: 1999-05-31 21:00:00\n",
            "Start: 1999-06-01 00:00:00, End: 1999-06-30 21:00:00\n",
            "Start: 1999-07-01 00:00:00, End: 1999-07-31 21:00:00\n",
            "Start: 1999-08-01 00:00:00, End: 1999-08-31 21:00:00\n",
            "Start: 1999-09-01 00:00:00, End: 1999-09-30 21:00:00\n",
            "Start: 1999-10-01 00:00:00, End: 1999-10-31 21:00:00\n",
            "Start: 1999-11-01 00:00:00, End: 1999-11-30 21:00:00\n",
            "Start: 1999-12-01 00:00:00, End: 1999-12-31 21:00:00\n",
            "Start: 2000-01-01 00:00:00, End: 2000-01-31 21:00:00\n",
            "Start: 2000-02-01 00:00:00, End: 2000-02-29 21:00:00\n",
            "Start: 2000-03-01 00:00:00, End: 2000-03-31 21:00:00\n",
            "Start: 2000-04-01 00:00:00, End: 2000-04-30 21:00:00\n",
            "Start: 2000-05-01 00:00:00, End: 2000-05-31 21:00:00\n",
            "Start: 2000-06-01 00:00:00, End: 2000-06-30 21:00:00\n",
            "Start: 2000-07-01 00:00:00, End: 2000-07-31 21:00:00\n",
            "Start: 2000-08-01 00:00:00, End: 2000-08-31 21:00:00\n",
            "Start: 2000-09-01 00:00:00, End: 2000-09-30 21:00:00\n",
            "Start: 2000-10-01 00:00:00, End: 2000-10-31 21:00:00\n",
            "Start: 2000-11-01 00:00:00, End: 2000-11-30 21:00:00\n",
            "Start: 2000-12-01 00:00:00, End: 2000-12-31 21:00:00\n",
            "Start: 2001-01-01 00:00:00, End: 2001-01-31 21:00:00\n",
            "Start: 2001-02-01 00:00:00, End: 2001-02-28 21:00:00\n",
            "Start: 2001-03-01 00:00:00, End: 2001-03-31 21:00:00\n",
            "Start: 2001-04-01 00:00:00, End: 2001-04-30 21:00:00\n",
            "Start: 2001-05-01 00:00:00, End: 2001-05-31 21:00:00\n",
            "Start: 2001-06-01 00:00:00, End: 2001-06-30 21:00:00\n",
            "Start: 2001-07-01 00:00:00, End: 2001-07-31 21:00:00\n",
            "Start: 2001-08-01 00:00:00, End: 2001-08-31 21:00:00\n",
            "Start: 2001-09-01 00:00:00, End: 2001-09-30 21:00:00\n",
            "Start: 2001-10-01 00:00:00, End: 2001-10-31 21:00:00\n",
            "Start: 2001-11-01 00:00:00, End: 2001-11-30 21:00:00\n",
            "Start: 2001-12-01 00:00:00, End: 2001-12-31 21:00:00\n",
            "Start: 2002-01-01 00:00:00, End: 2002-01-31 21:00:00\n",
            "Start: 2002-02-01 00:00:00, End: 2002-02-28 21:00:00\n",
            "Start: 2002-03-01 00:00:00, End: 2002-03-31 21:00:00\n",
            "Start: 2002-04-01 00:00:00, End: 2002-04-30 21:00:00\n",
            "Start: 2002-05-01 00:00:00, End: 2002-05-31 21:00:00\n",
            "Start: 2002-06-01 00:00:00, End: 2002-06-30 21:00:00\n",
            "Start: 2002-07-01 00:00:00, End: 2002-07-31 21:00:00\n",
            "Start: 2002-08-01 00:00:00, End: 2002-08-31 21:00:00\n",
            "Start: 2002-09-01 00:00:00, End: 2002-09-30 21:00:00\n",
            "Start: 2002-10-01 00:00:00, End: 2002-10-31 21:00:00\n",
            "Start: 2002-11-01 00:00:00, End: 2002-11-30 21:00:00\n",
            "Start: 2002-12-01 00:00:00, End: 2002-12-31 21:00:00\n",
            "Start: 2003-01-01 00:00:00, End: 2003-01-31 21:00:00\n",
            "Start: 2003-02-01 00:00:00, End: 2003-02-28 21:00:00\n",
            "Start: 2003-03-01 00:00:00, End: 2003-03-31 21:00:00\n",
            "Start: 2003-04-01 00:00:00, End: 2003-04-30 21:00:00\n",
            "Start: 2003-05-01 00:00:00, End: 2003-05-31 21:00:00\n",
            "Start: 2003-06-01 00:00:00, End: 2003-06-30 21:00:00\n",
            "Start: 2003-07-01 00:00:00, End: 2003-07-31 21:00:00\n",
            "Start: 2003-08-01 00:00:00, End: 2003-08-31 21:00:00\n",
            "Start: 2003-09-01 00:00:00, End: 2003-09-30 21:00:00\n",
            "Start: 2003-10-01 00:00:00, End: 2003-10-31 21:00:00\n",
            "Start: 2003-11-01 00:00:00, End: 2003-11-30 21:00:00\n",
            "Start: 2003-12-01 00:00:00, End: 2003-12-31 21:00:00\n",
            "Start: 2004-01-01 00:00:00, End: 2004-01-31 21:00:00\n",
            "Start: 2004-02-01 00:00:00, End: 2004-02-29 21:00:00\n",
            "Start: 2004-03-01 00:00:00, End: 2004-03-31 21:00:00\n",
            "Start: 2004-04-01 00:00:00, End: 2004-04-30 21:00:00\n",
            "Start: 2004-05-01 00:00:00, End: 2004-05-31 21:00:00\n",
            "Start: 2004-06-01 00:00:00, End: 2004-06-30 21:00:00\n",
            "Start: 2004-07-01 00:00:00, End: 2004-07-31 21:00:00\n",
            "Start: 2004-08-01 00:00:00, End: 2004-08-31 21:00:00\n",
            "Start: 2004-09-01 00:00:00, End: 2004-09-30 21:00:00\n",
            "Start: 2004-10-01 00:00:00, End: 2004-10-31 21:00:00\n",
            "Start: 2004-11-01 00:00:00, End: 2004-11-30 21:00:00\n",
            "Start: 2004-12-01 00:00:00, End: 2004-12-31 21:00:00\n",
            "Start: 2005-01-01 00:00:00, End: 2005-01-31 21:00:00\n",
            "Start: 2005-02-01 00:00:00, End: 2005-02-28 21:00:00\n",
            "Start: 2005-03-01 00:00:00, End: 2005-03-31 21:00:00\n",
            "Start: 2005-04-01 00:00:00, End: 2005-04-30 21:00:00\n",
            "Start: 2005-05-01 00:00:00, End: 2005-05-31 21:00:00\n",
            "Start: 2005-06-01 00:00:00, End: 2005-06-30 21:00:00\n",
            "Start: 2005-07-01 00:00:00, End: 2005-07-31 21:00:00\n",
            "Start: 2005-08-01 00:00:00, End: 2005-08-31 21:00:00\n",
            "Start: 2005-09-01 00:00:00, End: 2005-09-30 21:00:00\n",
            "Start: 2005-10-01 00:00:00, End: 2005-10-31 21:00:00\n",
            "Start: 2005-11-01 00:00:00, End: 2005-11-30 21:00:00\n",
            "Start: 2005-12-01 00:00:00, End: 2005-12-31 21:00:00\n",
            "Start: 2006-01-01 00:00:00, End: 2006-01-31 21:00:00\n",
            "Start: 2006-02-01 00:00:00, End: 2006-02-28 21:00:00\n",
            "Start: 2006-03-01 00:00:00, End: 2006-03-31 21:00:00\n",
            "Start: 2006-04-01 00:00:00, End: 2006-04-30 21:00:00\n",
            "Start: 2006-05-01 00:00:00, End: 2006-05-31 21:00:00\n",
            "Start: 2006-06-01 00:00:00, End: 2006-06-30 21:00:00\n",
            "Start: 2006-07-01 00:00:00, End: 2006-07-31 21:00:00\n",
            "Start: 2006-08-01 00:00:00, End: 2006-08-31 21:00:00\n",
            "Start: 2006-09-01 00:00:00, End: 2006-09-30 21:00:00\n",
            "Start: 2006-10-01 00:00:00, End: 2006-10-31 21:00:00\n",
            "Start: 2006-11-01 00:00:00, End: 2006-11-30 21:00:00\n",
            "Start: 2006-12-01 00:00:00, End: 2006-12-31 21:00:00\n",
            "Start: 2007-01-01 00:00:00, End: 2007-01-31 21:00:00\n",
            "Start: 2007-02-01 00:00:00, End: 2007-02-28 21:00:00\n",
            "Start: 2007-03-01 00:00:00, End: 2007-03-31 21:00:00\n",
            "Start: 2007-04-01 00:00:00, End: 2007-04-30 21:00:00\n",
            "Start: 2007-05-01 00:00:00, End: 2007-05-31 21:00:00\n",
            "Start: 2007-06-01 00:00:00, End: 2007-06-30 21:00:00\n",
            "Start: 2007-07-01 00:00:00, End: 2007-07-31 21:00:00\n",
            "Start: 2007-08-01 00:00:00, End: 2007-08-31 21:00:00\n",
            "Start: 2007-09-01 00:00:00, End: 2007-09-30 21:00:00\n",
            "Start: 2007-10-01 00:00:00, End: 2007-10-31 21:00:00\n",
            "Start: 2007-11-01 00:00:00, End: 2007-11-30 21:00:00\n",
            "Start: 2007-12-01 00:00:00, End: 2007-12-31 21:00:00\n",
            "Start: 2008-01-01 00:00:00, End: 2008-01-31 21:00:00\n",
            "Start: 2008-02-01 00:00:00, End: 2008-02-29 21:00:00\n",
            "Start: 2008-03-01 00:00:00, End: 2008-03-31 21:00:00\n",
            "Start: 2008-04-01 00:00:00, End: 2008-04-30 21:00:00\n",
            "Start: 2008-05-01 00:00:00, End: 2008-05-31 21:00:00\n",
            "Start: 2008-06-01 00:00:00, End: 2008-06-30 21:00:00\n",
            "Start: 2008-07-01 00:00:00, End: 2008-07-31 21:00:00\n",
            "Start: 2008-08-01 00:00:00, End: 2008-08-31 21:00:00\n",
            "Start: 2008-09-01 00:00:00, End: 2008-09-30 21:00:00\n",
            "Start: 2008-10-01 00:00:00, End: 2008-10-31 21:00:00\n",
            "Start: 2008-11-01 00:00:00, End: 2008-11-30 21:00:00\n",
            "Start: 2008-12-01 00:00:00, End: 2008-12-31 21:00:00\n",
            "Start: 2009-01-01 00:00:00, End: 2009-01-31 21:00:00\n",
            "Start: 2009-02-01 00:00:00, End: 2009-02-28 21:00:00\n",
            "Start: 2009-03-01 00:00:00, End: 2009-03-31 21:00:00\n",
            "Start: 2009-04-01 00:00:00, End: 2009-04-30 21:00:00\n",
            "Start: 2009-05-01 00:00:00, End: 2009-05-31 21:00:00\n",
            "Start: 2009-06-01 00:00:00, End: 2009-06-30 21:00:00\n",
            "Start: 2009-07-01 00:00:00, End: 2009-07-31 21:00:00\n",
            "Start: 2009-08-01 00:00:00, End: 2009-08-31 21:00:00\n",
            "Start: 2009-09-01 00:00:00, End: 2009-09-30 21:00:00\n",
            "Start: 2009-10-01 00:00:00, End: 2009-10-31 21:00:00\n",
            "Start: 2009-11-01 00:00:00, End: 2009-11-30 21:00:00\n",
            "Start: 2009-12-01 00:00:00, End: 2009-12-31 21:00:00\n",
            "Start: 2010-01-01 00:00:00, End: 2010-01-31 21:00:00\n",
            "Start: 2010-02-01 00:00:00, End: 2010-02-28 21:00:00\n",
            "Start: 2010-03-01 00:00:00, End: 2010-03-31 21:00:00\n",
            "Start: 2010-04-01 00:00:00, End: 2010-04-30 21:00:00\n",
            "Start: 2010-05-01 00:00:00, End: 2010-05-31 21:00:00\n",
            "Start: 2010-06-01 00:00:00, End: 2010-06-30 21:00:00\n",
            "Start: 2010-07-01 00:00:00, End: 2010-07-31 21:00:00\n",
            "Start: 2010-08-01 00:00:00, End: 2010-08-31 21:00:00\n",
            "Start: 2010-09-01 00:00:00, End: 2010-09-30 21:00:00\n",
            "Start: 2010-10-01 00:00:00, End: 2010-10-31 21:00:00\n",
            "Start: 2010-11-01 00:00:00, End: 2010-11-30 21:00:00\n",
            "Start: 2010-12-01 00:00:00, End: 2010-12-31 21:00:00\n",
            "Start: 2011-01-01 00:00:00, End: 2011-01-31 21:00:00\n",
            "Start: 2011-02-01 00:00:00, End: 2011-02-28 21:00:00\n",
            "Start: 2011-03-01 00:00:00, End: 2011-03-31 21:00:00\n",
            "Start: 2011-04-01 00:00:00, End: 2011-04-30 21:00:00\n",
            "Start: 2011-05-01 00:00:00, End: 2011-05-31 21:00:00\n",
            "Start: 2011-06-01 00:00:00, End: 2011-06-30 21:00:00\n",
            "Start: 2011-07-01 00:00:00, End: 2011-07-31 21:00:00\n",
            "Start: 2011-08-01 00:00:00, End: 2011-08-31 21:00:00\n",
            "Start: 2011-09-01 00:00:00, End: 2011-09-30 21:00:00\n",
            "Start: 2011-10-01 00:00:00, End: 2011-10-31 21:00:00\n",
            "Start: 2011-11-01 00:00:00, End: 2011-11-30 21:00:00\n",
            "Start: 2011-12-01 00:00:00, End: 2011-12-31 21:00:00\n",
            "Start: 2012-01-01 00:00:00, End: 2012-01-31 21:00:00\n",
            "Start: 2012-02-01 00:00:00, End: 2012-02-29 21:00:00\n",
            "Start: 2012-03-01 00:00:00, End: 2012-03-31 21:00:00\n",
            "Start: 2012-04-01 00:00:00, End: 2012-04-30 21:00:00\n",
            "Start: 2012-05-01 00:00:00, End: 2012-05-31 21:00:00\n",
            "Start: 2012-06-01 00:00:00, End: 2012-06-30 21:00:00\n",
            "Start: 2012-07-01 00:00:00, End: 2012-07-31 21:00:00\n",
            "Start: 2012-08-01 00:00:00, End: 2012-08-31 21:00:00\n",
            "Start: 2012-09-01 00:00:00, End: 2012-09-30 21:00:00\n",
            "Start: 2012-10-01 00:00:00, End: 2012-10-31 21:00:00\n",
            "Start: 2012-11-01 00:00:00, End: 2012-11-30 21:00:00\n",
            "Start: 2012-12-01 00:00:00, End: 2012-12-31 21:00:00\n",
            "Start: 2013-01-01 00:00:00, End: 2013-01-31 21:00:00\n",
            "Start: 2013-02-01 00:00:00, End: 2013-02-28 21:00:00\n",
            "Start: 2013-03-01 00:00:00, End: 2013-03-31 21:00:00\n",
            "Start: 2013-04-01 00:00:00, End: 2013-04-30 21:00:00\n",
            "Start: 2013-05-01 00:00:00, End: 2013-05-31 21:00:00\n",
            "Start: 2013-06-01 00:00:00, End: 2013-06-30 21:00:00\n",
            "Start: 2013-07-01 00:00:00, End: 2013-07-31 21:00:00\n",
            "Start: 2013-08-01 00:00:00, End: 2013-08-31 21:00:00\n",
            "Start: 2013-09-01 00:00:00, End: 2013-09-30 21:00:00\n",
            "Start: 2013-10-01 00:00:00, End: 2013-10-31 21:00:00\n",
            "Start: 2013-11-01 00:00:00, End: 2013-11-30 21:00:00\n",
            "Start: 2013-12-01 00:00:00, End: 2013-12-31 21:00:00\n",
            "Start: 2014-01-01 00:00:00, End: 2014-01-31 21:00:00\n",
            "Start: 2014-02-01 00:00:00, End: 2014-02-28 21:00:00\n",
            "Start: 2014-03-01 00:00:00, End: 2014-03-31 21:00:00\n",
            "Start: 2014-04-01 00:00:00, End: 2014-04-30 21:00:00\n",
            "Start: 2014-05-01 00:00:00, End: 2014-05-31 21:00:00\n",
            "Start: 2014-06-01 00:00:00, End: 2014-06-30 21:00:00\n",
            "Start: 2014-07-01 00:00:00, End: 2014-07-31 21:00:00\n",
            "Start: 2014-08-01 00:00:00, End: 2014-08-31 21:00:00\n",
            "Start: 2014-09-01 00:00:00, End: 2014-09-30 21:00:00\n",
            "Start: 2014-10-01 00:00:00, End: 2014-10-31 21:00:00\n",
            "Start: 2014-11-01 00:00:00, End: 2014-11-30 21:00:00\n",
            "Start: 2014-12-01 00:00:00, End: 2014-12-31 21:00:00\n",
            "Start: 2015-01-01 00:00:00, End: 2015-01-31 21:00:00\n",
            "Start: 2015-02-01 00:00:00, End: 2015-02-28 21:00:00\n",
            "Start: 2015-03-01 00:00:00, End: 2015-03-31 21:00:00\n",
            "Start: 2015-04-01 00:00:00, End: 2015-04-30 21:00:00\n",
            "Start: 2015-05-01 00:00:00, End: 2015-05-31 21:00:00\n",
            "Start: 2015-06-01 00:00:00, End: 2015-06-30 21:00:00\n",
            "Start: 2015-07-01 00:00:00, End: 2015-07-31 21:00:00\n",
            "Start: 2015-08-01 00:00:00, End: 2015-08-31 21:00:00\n",
            "Start: 2015-09-01 00:00:00, End: 2015-09-30 21:00:00\n",
            "Start: 2015-10-01 00:00:00, End: 2015-10-31 21:00:00\n",
            "Start: 2015-11-01 00:00:00, End: 2015-11-30 21:00:00\n",
            "Start: 2015-12-01 00:00:00, End: 2015-12-31 21:00:00\n",
            "Start: 2016-01-01 00:00:00, End: 2016-01-31 21:00:00\n",
            "Start: 2016-02-01 00:00:00, End: 2016-02-29 21:00:00\n",
            "Start: 2016-03-01 00:00:00, End: 2016-03-31 21:00:00\n",
            "Start: 2016-04-01 00:00:00, End: 2016-04-30 21:00:00\n",
            "Start: 2016-05-01 00:00:00, End: 2016-05-31 21:00:00\n",
            "Start: 2016-06-01 00:00:00, End: 2016-06-30 21:00:00\n",
            "Start: 2016-07-01 00:00:00, End: 2016-07-31 21:00:00\n",
            "Start: 2016-08-01 00:00:00, End: 2016-08-31 21:00:00\n",
            "Start: 2016-09-01 00:00:00, End: 2016-09-30 21:00:00\n",
            "Start: 2016-10-01 00:00:00, End: 2016-10-31 21:00:00\n",
            "Start: 2016-11-01 00:00:00, End: 2016-11-30 21:00:00\n",
            "Start: 2016-12-01 00:00:00, End: 2016-12-31 21:00:00\n",
            "Start: 2017-01-01 00:00:00, End: 2017-01-31 21:00:00\n",
            "Start: 2017-02-01 00:00:00, End: 2017-02-28 21:00:00\n",
            "Start: 2017-03-01 00:00:00, End: 2017-03-31 21:00:00\n",
            "Start: 2017-04-01 00:00:00, End: 2017-04-30 21:00:00\n",
            "Start: 2017-05-01 00:00:00, End: 2017-05-31 21:00:00\n",
            "Start: 2017-06-01 00:00:00, End: 2017-06-30 21:00:00\n",
            "Start: 2017-07-01 00:00:00, End: 2017-07-31 21:00:00\n",
            "Start: 2017-08-01 00:00:00, End: 2017-08-31 21:00:00\n",
            "Start: 2017-09-01 00:00:00, End: 2017-09-30 21:00:00\n",
            "Start: 2017-10-01 00:00:00, End: 2017-10-31 21:00:00\n",
            "Start: 2017-11-01 00:00:00, End: 2017-11-30 21:00:00\n",
            "Start: 2017-12-01 00:00:00, End: 2017-12-31 21:00:00\n",
            "Start: 2018-01-01 00:00:00, End: 2018-01-31 21:00:00\n",
            "Start: 2018-02-01 00:00:00, End: 2018-02-28 21:00:00\n",
            "Start: 2018-03-01 00:00:00, End: 2018-03-31 21:00:00\n",
            "Start: 2018-04-01 00:00:00, End: 2018-04-30 21:00:00\n",
            "Start: 2018-05-01 00:00:00, End: 2018-05-31 21:00:00\n",
            "Start: 2018-06-01 00:00:00, End: 2018-06-30 21:00:00\n",
            "Start: 2018-07-01 00:00:00, End: 2018-07-31 21:00:00\n",
            "Start: 2018-08-01 00:00:00, End: 2018-08-31 21:00:00\n",
            "Start: 2018-09-01 00:00:00, End: 2018-09-30 21:00:00\n",
            "Start: 2018-10-01 00:00:00, End: 2018-10-31 21:00:00\n",
            "Start: 2018-11-01 00:00:00, End: 2018-11-30 21:00:00\n",
            "Start: 2018-12-01 00:00:00, End: 2018-12-31 21:00:00\n",
            "Start: 2019-01-01 00:00:00, End: 2019-01-31 21:00:00\n",
            "Start: 2019-02-01 00:00:00, End: 2019-02-28 21:00:00\n",
            "Start: 2019-03-01 00:00:00, End: 2019-03-31 21:00:00\n",
            "Start: 2019-04-01 00:00:00, End: 2019-04-30 21:00:00\n",
            "Start: 2019-05-01 00:00:00, End: 2019-05-31 21:00:00\n",
            "Start: 2019-06-01 00:00:00, End: 2019-06-30 21:00:00\n",
            "Start: 2019-07-01 00:00:00, End: 2019-07-31 21:00:00\n",
            "Start: 2019-08-01 00:00:00, End: 2019-08-31 21:00:00\n",
            "Start: 2019-09-01 00:00:00, End: 2019-09-30 21:00:00\n",
            "Start: 2019-10-01 00:00:00, End: 2019-10-31 21:00:00\n",
            "Start: 2019-11-01 00:00:00, End: 2019-11-30 21:00:00\n",
            "Start: 2019-12-01 00:00:00, End: 2019-12-31 21:00:00\n",
            "Start: 2020-01-01 00:00:00, End: 2020-01-31 21:00:00\n",
            "Start: 2020-02-01 00:00:00, End: 2020-02-29 21:00:00\n",
            "Start: 2020-03-01 00:00:00, End: 2020-03-31 21:00:00\n",
            "Start: 2020-04-01 00:00:00, End: 2020-04-30 21:00:00\n",
            "Start: 2020-05-01 00:00:00, End: 2020-05-31 21:00:00\n",
            "Start: 2020-06-01 00:00:00, End: 2020-06-30 21:00:00\n",
            "Start: 2020-07-01 00:00:00, End: 2020-07-31 21:00:00\n",
            "Start: 2020-08-01 00:00:00, End: 2020-08-31 21:00:00\n",
            "Start: 2020-09-01 00:00:00, End: 2020-09-30 21:00:00\n",
            "Start: 2020-10-01 00:00:00, End: 2020-10-31 21:00:00\n",
            "Start: 2020-11-01 00:00:00, End: 2020-11-30 21:00:00\n",
            "Start: 2020-12-01 00:00:00, End: 2020-12-31 21:00:00\n",
            "Start: 2021-01-01 00:00:00, End: 2021-01-31 21:00:00\n",
            "Start: 2021-02-01 00:00:00, End: 2021-02-28 21:00:00\n",
            "Start: 2021-03-01 00:00:00, End: 2021-03-31 21:00:00\n",
            "Start: 2021-04-01 00:00:00, End: 2021-04-30 21:00:00\n",
            "Start: 2021-05-01 00:00:00, End: 2021-05-31 21:00:00\n",
            "Start: 2021-06-01 00:00:00, End: 2021-06-30 21:00:00\n",
            "Start: 2021-07-01 00:00:00, End: 2021-07-31 21:00:00\n",
            "Start: 2021-08-01 00:00:00, End: 2021-08-31 21:00:00\n",
            "Start: 2021-09-01 00:00:00, End: 2021-09-30 21:00:00\n",
            "Start: 2021-10-01 00:00:00, End: 2021-10-31 21:00:00\n",
            "Start: 2021-11-01 00:00:00, End: 2021-11-30 21:00:00\n",
            "Start: 2021-12-01 00:00:00, End: 2021-12-31 21:00:00\n",
            "Start: 2022-01-01 00:00:00, End: 2022-01-31 21:00:00\n",
            "Start: 2022-02-01 00:00:00, End: 2022-02-28 21:00:00\n",
            "Start: 2022-03-01 00:00:00, End: 2022-03-31 21:00:00\n",
            "Start: 2022-04-01 00:00:00, End: 2022-04-30 21:00:00\n",
            "Start: 2022-05-01 00:00:00, End: 2022-05-31 21:00:00\n",
            "Start: 2022-06-01 00:00:00, End: 2022-06-30 21:00:00\n",
            "Start: 2022-07-01 00:00:00, End: 2022-07-31 21:00:00\n",
            "Start: 2022-08-01 00:00:00, End: 2022-08-31 21:00:00\n",
            "Start: 2022-09-01 00:00:00, End: 2022-09-30 21:00:00\n",
            "Start: 2022-10-01 00:00:00, End: 2022-10-31 21:00:00\n",
            "Start: 2022-11-01 00:00:00, End: 2022-11-30 21:00:00\n",
            "Start: 2022-12-01 00:00:00, End: 2022-12-31 21:00:00\n"
          ]
        }
      ]
    },
    {
      "cell_type": "markdown",
      "source": [
        "**SUMMARY**\n",
        "* **Data Shape:** The time bounds array has a shape of (528, 2), indicating there are 528 periods, each with a start and end time.\n",
        "* **Data Type:** The data type is float64.\n",
        "* **Time Periods:** The periods span from January 1, 1979 to December 31, 2022, with each entry corresponding to a specific month. Each period starts at 00:00:00 on the first day of the month and ends at 21:00:00 on the last day of the month.\n",
        "\n",
        "* The time bounds data represent monthly intervals over a span of approximately 44 years, starting in January 1979 and ending in December 2022.\n",
        "* Each time period starts at midnight on the first day of the month and ends at 9 PM on the last day of the month."
      ],
      "metadata": {
        "id": "sMYbDU9z0zi_"
      }
    },
    {
      "cell_type": "markdown",
      "source": [
        "**2-meter temperature (t2m)**"
      ],
      "metadata": {
        "id": "BWvVUhst1RQD"
      }
    },
    {
      "cell_type": "code",
      "source": [
        "print(\"Temperature values are\\n:\", t2m)"
      ],
      "metadata": {
        "colab": {
          "base_uri": "https://localhost:8080/",
          "height": 0
        },
        "id": "NBqnSKbjrhAL",
        "outputId": "1eb1e082-e901-4acd-f485-b8275b091d64"
      },
      "execution_count": 38,
      "outputs": [
        {
          "output_type": "stream",
          "name": "stdout",
          "text": [
            "Temperature values are\n",
            ": [[[256.9719  256.9719  256.9719  ... 256.9719  256.9719  256.9719 ]\n",
            "  [257.2556  257.2556  257.2556  ... 257.2536  257.2536  257.2536 ]\n",
            "  [257.30557 257.30557 257.30756 ... 257.29956 257.30157 257.30356]\n",
            "  ...\n",
            "  [249.6868  249.6868  249.6888  ... 249.6848  249.6848  249.6868 ]\n",
            "  [249.59088 249.59088 249.59088 ... 249.58888 249.58888 249.58888]\n",
            "  [249.28317 249.28317 249.28317 ... 249.28317 249.28317 249.28317]]\n",
            "\n",
            " [[251.65692 251.65692 251.65692 ... 251.65692 251.65692 251.65692]\n",
            "  [252.4262  252.4222  252.4182  ... 252.43619 252.43219 252.43019]\n",
            "  [252.67197 252.66197 252.64998 ... 252.69194 252.68594 252.68195]\n",
            "  ...\n",
            "  [243.82635 243.82635 243.82835 ... 243.82436 243.82635 243.82635]\n",
            "  [243.55461 243.55661 243.55861 ... 243.55263 243.55263 243.55461]\n",
            "  [242.58154 242.58154 242.58154 ... 242.58154 242.58154 242.58154]]\n",
            "\n",
            " [[258.25067 258.25067 258.25067 ... 258.25067 258.25067 258.25067]\n",
            "  [258.6323  258.6323  258.6323  ... 258.6323  258.6323  258.6323 ]\n",
            "  [258.95    258.95    258.95    ... 258.946   258.948   258.95   ]\n",
            "  ...\n",
            "  [237.08276 237.07477 237.06877 ... 237.10274 237.09676 237.08876]\n",
            "  [237.39047 237.38647 237.38048 ... 237.39847 237.39447 237.39247]\n",
            "  [237.29456 237.29456 237.29456 ... 237.29456 237.29456 237.29456]]\n",
            "\n",
            " ...\n",
            "\n",
            " [[267.2769  267.2769  267.2769  ... 267.2769  267.2769  267.2769 ]\n",
            "  [266.86227 266.86227 266.8603  ... 266.8663  266.8663  266.8643 ]\n",
            "  [266.61392 266.6119  266.6119  ... 266.61594 266.61392 266.61392]\n",
            "  ...\n",
            "  [233.7977  233.79971 233.80573 ... 233.7917  233.7937  233.7957 ]\n",
            "  [234.32248 234.32248 234.32448 ... 234.31647 234.31847 234.32048]\n",
            "  [233.97195 233.97195 233.97195 ... 233.97195 233.97195 233.97195]]\n",
            "\n",
            " [[262.596   262.596   262.596   ... 262.596   262.596   262.596  ]\n",
            "  [261.94705 261.95306 261.95908 ... 261.92905 261.93506 261.94107]\n",
            "  [261.91904 261.93506 261.95306 ... 261.88098 261.89297 261.905  ]\n",
            "  ...\n",
            "  [246.68263 246.68263 246.68063 ... 246.68465 246.68465 246.68465]\n",
            "  [246.7948  246.7948  246.7928  ... 246.7968  246.7948  246.7948 ]\n",
            "  [246.53242 246.53242 246.53242 ... 246.53242 246.53242 246.53242]]\n",
            "\n",
            " [[259.06482 259.06482 259.06482 ... 259.06482 259.06482 259.06482]\n",
            "  [259.13895 259.14093 259.14294 ... 259.13495 259.13693 259.13895]\n",
            "  [259.13693 259.14093 259.14496 ... 259.12292 259.12692 259.13092]\n",
            "  ...\n",
            "  [250.48222 250.47821 250.47421 ... 250.48622 250.48622 250.48422]\n",
            "  [249.7912  249.7892  249.7892  ... 249.79521 249.79321 249.79321]\n",
            "  [248.94395 248.94395 248.94395 ... 248.94395 248.94395 248.94395]]]\n"
          ]
        }
      ]
    },
    {
      "cell_type": "code",
      "source": [
        "print(\"shape of the temperature data:\")\n",
        "t2m.shape"
      ],
      "metadata": {
        "colab": {
          "base_uri": "https://localhost:8080/",
          "height": 0
        },
        "id": "J7l0dMu7sGpf",
        "outputId": "06a66dea-5edf-42d7-a77b-8c9ebea5e53a"
      },
      "execution_count": 54,
      "outputs": [
        {
          "output_type": "stream",
          "name": "stdout",
          "text": [
            "shape of the temperature data:\n"
          ]
        },
        {
          "output_type": "execute_result",
          "data": {
            "text/plain": [
              "(528, 721, 1440)"
            ]
          },
          "metadata": {},
          "execution_count": 54
        }
      ]
    },
    {
      "cell_type": "code",
      "source": [
        "print(\"data type of the temperature data\")\n",
        "t2m.dtype"
      ],
      "metadata": {
        "colab": {
          "base_uri": "https://localhost:8080/",
          "height": 0
        },
        "id": "083xOeaAsI_v",
        "outputId": "2771bf96-abd9-40bb-85c1-233777fe6d77"
      },
      "execution_count": 55,
      "outputs": [
        {
          "output_type": "stream",
          "name": "stdout",
          "text": [
            "data type of the temperature data\n"
          ]
        },
        {
          "output_type": "execute_result",
          "data": {
            "text/plain": [
              "dtype('float32')"
            ]
          },
          "metadata": {},
          "execution_count": 55
        }
      ]
    },
    {
      "cell_type": "markdown",
      "source": [
        "**SUMMARY**\n",
        "* **Data Shape:**The temperature data has a shape of (528, 721, 1440). This indicates:\n",
        "* 528 time periods (likely monthly intervals, corresponding to the time bounds mentioned earlier).\n",
        "*721 latitude points.\n",
        "* 1440 longitude points.\n",
        "\n",
        "* **Data Type:**The temperature values are stored as float32 data type, providing single-precision floating-point accuracy.\n",
        "\n",
        "* **Temperature Values:**The temperatures are measured in Kelvin, as this is common in atmospheric datasets.\n"
      ],
      "metadata": {
        "id": "aNLr4T8B1s4z"
      }
    },
    {
      "cell_type": "markdown",
      "source": [
        "# 5. Select a subregion"
      ],
      "metadata": {
        "id": "13tr_jnY2OwL"
      }
    },
    {
      "cell_type": "code",
      "source": [
        "#Extracting southern data\n",
        "lat_so = lat[-21:-1]\n",
        "lon_so = lon\n",
        "t2m_so = t2m[:,-21:-1,:]"
      ],
      "metadata": {
        "id": "opjT7yj6al6e"
      },
      "execution_count": null,
      "outputs": []
    },
    {
      "cell_type": "markdown",
      "source": [
        "**EXTRCATING DATA FOR INDIAN OCEAN**"
      ],
      "metadata": {
        "id": "gjT3l2Cq3rmz"
      }
    },
    {
      "cell_type": "code",
      "source": [
        "# Define the latitude and longitude ranges for the Indian Ocean\n",
        "lat_min = -60  # Southern boundary (60°S)\n",
        "lat_max = 30   # Northern boundary (30°N)\n",
        "lon_min = 20   # Western boundary (20°E)\n",
        "lon_max = 120  # Eastern boundary (120°E)"
      ],
      "metadata": {
        "id": "nfQBonRP264i"
      },
      "execution_count": 56,
      "outputs": []
    },
    {
      "cell_type": "code",
      "source": [
        "# Find the indices for the latitude and longitude ranges\n",
        "lat_indices = np.where((lat >= lat_min) & (lat <= lat_max))[0]\n",
        "lon_indices = np.where((lon >= lon_min) & (lon <= lon_max))[0]"
      ],
      "metadata": {
        "id": "n5B236pU3xrm"
      },
      "execution_count": 57,
      "outputs": []
    },
    {
      "cell_type": "code",
      "source": [
        "print(\"latitude indices for Indian Ocean\", lat_indices)\n",
        "print(\"\\nlongitude indices for Indian Ocean\", lon_indices)"
      ],
      "metadata": {
        "colab": {
          "base_uri": "https://localhost:8080/",
          "height": 0
        },
        "id": "vaGHSxeg34h2",
        "outputId": "d6f6a0b5-cdcb-447f-8e81-40817f00ee36"
      },
      "execution_count": 58,
      "outputs": [
        {
          "output_type": "stream",
          "name": "stdout",
          "text": [
            "latitude indices for Indian Ocean [240 241 242 243 244 245 246 247 248 249 250 251 252 253 254 255 256 257\n",
            " 258 259 260 261 262 263 264 265 266 267 268 269 270 271 272 273 274 275\n",
            " 276 277 278 279 280 281 282 283 284 285 286 287 288 289 290 291 292 293\n",
            " 294 295 296 297 298 299 300 301 302 303 304 305 306 307 308 309 310 311\n",
            " 312 313 314 315 316 317 318 319 320 321 322 323 324 325 326 327 328 329\n",
            " 330 331 332 333 334 335 336 337 338 339 340 341 342 343 344 345 346 347\n",
            " 348 349 350 351 352 353 354 355 356 357 358 359 360 361 362 363 364 365\n",
            " 366 367 368 369 370 371 372 373 374 375 376 377 378 379 380 381 382 383\n",
            " 384 385 386 387 388 389 390 391 392 393 394 395 396 397 398 399 400 401\n",
            " 402 403 404 405 406 407 408 409 410 411 412 413 414 415 416 417 418 419\n",
            " 420 421 422 423 424 425 426 427 428 429 430 431 432 433 434 435 436 437\n",
            " 438 439 440 441 442 443 444 445 446 447 448 449 450 451 452 453 454 455\n",
            " 456 457 458 459 460 461 462 463 464 465 466 467 468 469 470 471 472 473\n",
            " 474 475 476 477 478 479 480 481 482 483 484 485 486 487 488 489 490 491\n",
            " 492 493 494 495 496 497 498 499 500 501 502 503 504 505 506 507 508 509\n",
            " 510 511 512 513 514 515 516 517 518 519 520 521 522 523 524 525 526 527\n",
            " 528 529 530 531 532 533 534 535 536 537 538 539 540 541 542 543 544 545\n",
            " 546 547 548 549 550 551 552 553 554 555 556 557 558 559 560 561 562 563\n",
            " 564 565 566 567 568 569 570 571 572 573 574 575 576 577 578 579 580 581\n",
            " 582 583 584 585 586 587 588 589 590 591 592 593 594 595 596 597 598 599\n",
            " 600]\n",
            "\n",
            "longitude indices for Indian Ocean [ 80  81  82  83  84  85  86  87  88  89  90  91  92  93  94  95  96  97\n",
            "  98  99 100 101 102 103 104 105 106 107 108 109 110 111 112 113 114 115\n",
            " 116 117 118 119 120 121 122 123 124 125 126 127 128 129 130 131 132 133\n",
            " 134 135 136 137 138 139 140 141 142 143 144 145 146 147 148 149 150 151\n",
            " 152 153 154 155 156 157 158 159 160 161 162 163 164 165 166 167 168 169\n",
            " 170 171 172 173 174 175 176 177 178 179 180 181 182 183 184 185 186 187\n",
            " 188 189 190 191 192 193 194 195 196 197 198 199 200 201 202 203 204 205\n",
            " 206 207 208 209 210 211 212 213 214 215 216 217 218 219 220 221 222 223\n",
            " 224 225 226 227 228 229 230 231 232 233 234 235 236 237 238 239 240 241\n",
            " 242 243 244 245 246 247 248 249 250 251 252 253 254 255 256 257 258 259\n",
            " 260 261 262 263 264 265 266 267 268 269 270 271 272 273 274 275 276 277\n",
            " 278 279 280 281 282 283 284 285 286 287 288 289 290 291 292 293 294 295\n",
            " 296 297 298 299 300 301 302 303 304 305 306 307 308 309 310 311 312 313\n",
            " 314 315 316 317 318 319 320 321 322 323 324 325 326 327 328 329 330 331\n",
            " 332 333 334 335 336 337 338 339 340 341 342 343 344 345 346 347 348 349\n",
            " 350 351 352 353 354 355 356 357 358 359 360 361 362 363 364 365 366 367\n",
            " 368 369 370 371 372 373 374 375 376 377 378 379 380 381 382 383 384 385\n",
            " 386 387 388 389 390 391 392 393 394 395 396 397 398 399 400 401 402 403\n",
            " 404 405 406 407 408 409 410 411 412 413 414 415 416 417 418 419 420 421\n",
            " 422 423 424 425 426 427 428 429 430 431 432 433 434 435 436 437 438 439\n",
            " 440 441 442 443 444 445 446 447 448 449 450 451 452 453 454 455 456 457\n",
            " 458 459 460 461 462 463 464 465 466 467 468 469 470 471 472 473 474 475\n",
            " 476 477 478 479 480]\n"
          ]
        }
      ]
    },
    {
      "cell_type": "code",
      "source": [
        "# Print the starting and ending indices\n",
        "print(\"Starting index for latitude:\", lat_indices[0])\n",
        "print(\"Ending index for latitude:\", lat_indices[-1])\n",
        "print(\"Starting index for longitude:\", lon_indices[0])\n",
        "print(\"Ending index for longitude:\", lon_indices[-1])\n"
      ],
      "metadata": {
        "colab": {
          "base_uri": "https://localhost:8080/",
          "height": 0
        },
        "id": "aRk6O15K4UQZ",
        "outputId": "2966837f-189c-47fd-90f7-61c89ada27e1"
      },
      "execution_count": 60,
      "outputs": [
        {
          "output_type": "stream",
          "name": "stdout",
          "text": [
            "Starting index for latitude: 240\n",
            "Ending index for latitude: 600\n",
            "Starting index for longitude: 80\n",
            "Ending index for longitude: 480\n"
          ]
        }
      ]
    },
    {
      "cell_type": "code",
      "source": [
        "# Extract the subset of temperature data for the Indian Ocean\n",
        "lat_io = lat[lat_indices]\n",
        "lon_io = lon[lon_indices]\n",
        "t2m_io = t2m[:, lat_indices, :][:, :, lon_indices]"
      ],
      "metadata": {
        "id": "ppODtKsm4MZ8"
      },
      "execution_count": 61,
      "outputs": []
    },
    {
      "cell_type": "markdown",
      "source": [
        "# 6. Save subregion data"
      ],
      "metadata": {
        "id": "iNylbziY2ddx"
      }
    },
    {
      "cell_type": "markdown",
      "source": [
        "save subregion data (several arrays) into a single file in uncompressed .npz format using np.savez."
      ],
      "metadata": {
        "id": "vsIBpFzG2ipU"
      }
    },
    {
      "cell_type": "code",
      "source": [
        "np.savez('/content/drive/MyDrive/Project Learnings/Data/ERA5_t2m_3hrly_monmax_7922.npz', t2m_so=t2m_so, lat_so=lat_so, lon_so=lon_so)"
      ],
      "metadata": {
        "id": "b_nbtxxEaoDJ"
      },
      "execution_count": null,
      "outputs": []
    },
    {
      "cell_type": "markdown",
      "source": [
        "loading the data back"
      ],
      "metadata": {
        "id": "HiApQKLJ2lwR"
      }
    },
    {
      "cell_type": "code",
      "source": [
        "npzfile1 = np.load('/content/drive/MyDrive/Project Learnings/Data/ERA5_t2m_3hrly_monmax_7922.npz')\n",
        "npzfile1.files"
      ],
      "metadata": {
        "colab": {
          "base_uri": "https://localhost:8080/",
          "height": 0
        },
        "id": "nDDsLQWFazxu",
        "outputId": "a808b9b4-f84a-4266-ca77-fc9db85eaba0"
      },
      "execution_count": 63,
      "outputs": [
        {
          "output_type": "execute_result",
          "data": {
            "text/plain": [
              "['t2m_so', 'lat_so', 'lon_so']"
            ]
          },
          "metadata": {},
          "execution_count": 63
        }
      ]
    },
    {
      "cell_type": "markdown",
      "source": [
        "**Saving Subregion data for Indian Ocean**"
      ],
      "metadata": {
        "id": "yc9Rmovc5J0v"
      }
    },
    {
      "cell_type": "code",
      "source": [
        "np.savez('/content/drive/MyDrive/Project Learnings/Data/ERA5_io_t2m_3hrly_monmax_7922.npz', t2m_io=t2m_io, lat_io=lat_io, lon_io=lon_io)"
      ],
      "metadata": {
        "id": "AcnlrFnPa-x1"
      },
      "execution_count": 62,
      "outputs": []
    },
    {
      "cell_type": "code",
      "source": [
        "npzfile2 = np.load('/content/drive/MyDrive/Project Learnings/Data/ERA5_io_t2m_3hrly_monmax_7922.npz')\n",
        "npzfile2.files"
      ],
      "metadata": {
        "colab": {
          "base_uri": "https://localhost:8080/",
          "height": 0
        },
        "id": "hUzFtz4h5lcL",
        "outputId": "b84284bc-58da-4c93-e9f6-e8513d9652c3"
      },
      "execution_count": 64,
      "outputs": [
        {
          "output_type": "execute_result",
          "data": {
            "text/plain": [
              "['t2m_io', 'lat_io', 'lon_io']"
            ]
          },
          "metadata": {},
          "execution_count": 64
        }
      ]
    },
    {
      "cell_type": "code",
      "source": [],
      "metadata": {
        "id": "ZuvDgMX-5ytI"
      },
      "execution_count": null,
      "outputs": []
    }
  ]
}