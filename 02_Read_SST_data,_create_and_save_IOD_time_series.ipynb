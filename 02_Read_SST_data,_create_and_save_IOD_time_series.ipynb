{
  "nbformat": 4,
  "nbformat_minor": 0,
  "metadata": {
    "colab": {
      "provenance": [],
      "mount_file_id": "1yxb6yhUWka_9Xj87imEQc_oUyeT-Q6f-",
      "authorship_tag": "ABX9TyMHmNdlBm4LLMgYEUO5KkWD",
      "include_colab_link": true
    },
    "kernelspec": {
      "name": "python3",
      "display_name": "Python 3"
    },
    "language_info": {
      "name": "python"
    }
  },
  "cells": [
    {
      "cell_type": "markdown",
      "metadata": {
        "id": "view-in-github",
        "colab_type": "text"
      },
      "source": [
        "<a href=\"https://colab.research.google.com/github/Arju-Jawla/Python-Applications-in-Climate-Variability-studies/blob/main/02_Read_SST_data%2C_create_and_save_IOD_time_series.ipynb\" target=\"_parent\"><img src=\"https://colab.research.google.com/assets/colab-badge.svg\" alt=\"Open In Colab\"/></a>"
      ]
    },
    {
      "cell_type": "markdown",
      "source": [
        "## Read SST Data, Create and Save IOD time seres"
      ],
      "metadata": {
        "id": "5uVa7bHlC-XL"
      }
    },
    {
      "cell_type": "markdown",
      "source": [
        "## 1.Load Basic Libraries"
      ],
      "metadata": {
        "id": "2FqlTTvFDIpS"
      }
    },
    {
      "cell_type": "code",
      "source": [
        "#installing netCDF4 Package\n",
        "!pip install netCDF4"
      ],
      "metadata": {
        "colab": {
          "base_uri": "https://localhost:8080/"
        },
        "id": "rzxqmKVDD2gd",
        "outputId": "2bd73bbb-a9ab-4f38-c0b7-083dc2f98c46"
      },
      "execution_count": null,
      "outputs": [
        {
          "output_type": "stream",
          "name": "stdout",
          "text": [
            "Requirement already satisfied: netCDF4 in /usr/local/lib/python3.10/dist-packages (1.7.1.post2)\n",
            "Requirement already satisfied: cftime in /usr/local/lib/python3.10/dist-packages (from netCDF4) (1.6.4)\n",
            "Requirement already satisfied: certifi in /usr/local/lib/python3.10/dist-packages (from netCDF4) (2024.8.30)\n",
            "Requirement already satisfied: numpy in /usr/local/lib/python3.10/dist-packages (from netCDF4) (1.26.4)\n"
          ]
        }
      ]
    },
    {
      "cell_type": "code",
      "source": [
        "#installing cftime package\n",
        "!pip install cftime"
      ],
      "metadata": {
        "colab": {
          "base_uri": "https://localhost:8080/"
        },
        "id": "2mIlFazOFqYo",
        "outputId": "c56e447f-1ab2-4e86-d83d-5ff71bf2d656"
      },
      "execution_count": null,
      "outputs": [
        {
          "output_type": "stream",
          "name": "stdout",
          "text": [
            "Requirement already satisfied: cftime in /usr/local/lib/python3.10/dist-packages (1.6.4)\n",
            "Requirement already satisfied: numpy>1.13.3 in /usr/local/lib/python3.10/dist-packages (from cftime) (1.26.4)\n"
          ]
        }
      ]
    },
    {
      "cell_type": "markdown",
      "source": [
        "* This package provides a custom time class that is compatible with the Climate Data Operators (CDO) software and other climate modeling tools."
      ],
      "metadata": {
        "id": "pW-m8-4p8KUA"
      }
    },
    {
      "cell_type": "code",
      "source": [
        "#installing cartopy package\n",
        "!pip install cartopy"
      ],
      "metadata": {
        "colab": {
          "base_uri": "https://localhost:8080/"
        },
        "id": "ChIbvwGrEBi7",
        "outputId": "0b975372-6ff2-4147-c431-82d7e3796dc2"
      },
      "execution_count": null,
      "outputs": [
        {
          "output_type": "stream",
          "name": "stdout",
          "text": [
            "Requirement already satisfied: cartopy in /usr/local/lib/python3.10/dist-packages (0.23.0)\n",
            "Requirement already satisfied: numpy>=1.21 in /usr/local/lib/python3.10/dist-packages (from cartopy) (1.26.4)\n",
            "Requirement already satisfied: matplotlib>=3.5 in /usr/local/lib/python3.10/dist-packages (from cartopy) (3.7.1)\n",
            "Requirement already satisfied: shapely>=1.7 in /usr/local/lib/python3.10/dist-packages (from cartopy) (2.0.6)\n",
            "Requirement already satisfied: packaging>=20 in /usr/local/lib/python3.10/dist-packages (from cartopy) (24.1)\n",
            "Requirement already satisfied: pyshp>=2.3 in /usr/local/lib/python3.10/dist-packages (from cartopy) (2.3.1)\n",
            "Requirement already satisfied: pyproj>=3.3.1 in /usr/local/lib/python3.10/dist-packages (from cartopy) (3.6.1)\n",
            "Requirement already satisfied: contourpy>=1.0.1 in /usr/local/lib/python3.10/dist-packages (from matplotlib>=3.5->cartopy) (1.3.0)\n",
            "Requirement already satisfied: cycler>=0.10 in /usr/local/lib/python3.10/dist-packages (from matplotlib>=3.5->cartopy) (0.12.1)\n",
            "Requirement already satisfied: fonttools>=4.22.0 in /usr/local/lib/python3.10/dist-packages (from matplotlib>=3.5->cartopy) (4.53.1)\n",
            "Requirement already satisfied: kiwisolver>=1.0.1 in /usr/local/lib/python3.10/dist-packages (from matplotlib>=3.5->cartopy) (1.4.7)\n",
            "Requirement already satisfied: pillow>=6.2.0 in /usr/local/lib/python3.10/dist-packages (from matplotlib>=3.5->cartopy) (9.4.0)\n",
            "Requirement already satisfied: pyparsing>=2.3.1 in /usr/local/lib/python3.10/dist-packages (from matplotlib>=3.5->cartopy) (3.1.4)\n",
            "Requirement already satisfied: python-dateutil>=2.7 in /usr/local/lib/python3.10/dist-packages (from matplotlib>=3.5->cartopy) (2.8.2)\n",
            "Requirement already satisfied: certifi in /usr/local/lib/python3.10/dist-packages (from pyproj>=3.3.1->cartopy) (2024.8.30)\n",
            "Requirement already satisfied: six>=1.5 in /usr/local/lib/python3.10/dist-packages (from python-dateutil>=2.7->matplotlib>=3.5->cartopy) (1.16.0)\n"
          ]
        }
      ]
    },
    {
      "cell_type": "markdown",
      "source": [
        "* This package provides a high-level interface for drawing maps with various projections and features. It's particularly useful for visualizing geographical data, such as climate data, ocean data, or geological data."
      ],
      "metadata": {
        "id": "iWs17LZ78ayR"
      }
    },
    {
      "cell_type": "code",
      "source": [
        "import numpy as np\n",
        "from numpy import nonzero\n",
        "\n",
        "%matplotlib inline\n",
        "import matplotlib.pyplot as plt\n",
        "import cartopy.crs as ccrs          # Import cartopy coordinate reference system (CRS) functions\n",
        "import cartopy.feature as cfeature  # Import cartopy feature elements for adding geographical features to plots\n",
        "import matplotlib.dates as mdates   # Import matplotlib dates for working with time series data on plots\n",
        "\n",
        "import datetime\n",
        "from netCDF4 import Dataset\n",
        "import cftime"
      ],
      "metadata": {
        "id": "w4nfHy-QDbkE"
      },
      "execution_count": null,
      "outputs": []
    },
    {
      "cell_type": "markdown",
      "source": [
        "## 2. Set and read input NetCDF file info"
      ],
      "metadata": {
        "id": "lSrZ-tpaGE74"
      }
    },
    {
      "cell_type": "markdown",
      "source": [
        "### 2.1 Read Data"
      ],
      "metadata": {
        "id": "R4jTQ90mGJBK"
      }
    },
    {
      "cell_type": "code",
      "source": [
        "#loading and assigning file name\n",
        "ncfile = '/content/drive/MyDrive/Project Learnings/Data/ERA5_t2m_3hrly_monmax_7922.nc'"
      ],
      "metadata": {
        "id": "WnLVxthLGIn-"
      },
      "execution_count": null,
      "outputs": []
    },
    {
      "cell_type": "code",
      "source": [
        "fh = Dataset(ncfile, mode = 'r')            # Open the NetCDF file in read mode\n",
        "\n",
        "lon    = fh.variables['longitude'][:]\n",
        "lat    = fh.variables['latitude'][:]\n",
        "nctime = fh.variables['time'][:]\n",
        "t_unit = fh.variables['time'].units\n",
        "t2m    = fh.variables['t2m'][:]\n",
        "time_bnds = fh.variables['time_bnds'][:]\n",
        "\n",
        "# Try to extract the calendar type from the 'time' variable\n",
        "try :\n",
        "    t_cal = fh.variables['time'].calendar\n",
        "except AttributeError :\n",
        "    t_cal = u\"gregorian\"\n",
        "\n",
        "fh.close()"
      ],
      "metadata": {
        "id": "YfHJFF8XD1AH"
      },
      "execution_count": null,
      "outputs": []
    },
    {
      "cell_type": "markdown",
      "source": [
        "### 2.2 Parse Time"
      ],
      "metadata": {
        "id": "WH0D3ezIG-Z9"
      }
    },
    {
      "cell_type": "code",
      "source": [
        "utime = cftime.num2date(nctime, units = t_unit, calendar = t_cal)  # Convert numerical time values to CFTime objects\n",
        "print(utime.shape)\n",
        "print(utime[0:5])"
      ],
      "metadata": {
        "colab": {
          "base_uri": "https://localhost:8080/"
        },
        "id": "V4Akgv0AGzrx",
        "outputId": "39797e8e-f4c0-4b77-b96e-1b6f8642a19c"
      },
      "execution_count": null,
      "outputs": [
        {
          "output_type": "stream",
          "name": "stdout",
          "text": [
            "(528,)\n",
            "[cftime.DatetimeGregorian(1979, 1, 16, 10, 0, 0, 0, has_year_zero=False)\n",
            " cftime.DatetimeGregorian(1979, 2, 14, 22, 0, 0, 0, has_year_zero=False)\n",
            " cftime.DatetimeGregorian(1979, 3, 16, 10, 0, 0, 0, has_year_zero=False)\n",
            " cftime.DatetimeGregorian(1979, 4, 15, 22, 0, 0, 0, has_year_zero=False)\n",
            " cftime.DatetimeGregorian(1979, 5, 16, 10, 0, 0, 0, has_year_zero=False)]\n"
          ]
        }
      ]
    },
    {
      "cell_type": "markdown",
      "source": [
        "## 3. Subregion for IOD Area\n",
        "**Western IOD (WIO) Region:**\n",
        "\n",
        "* **Latitude Range:** 10°S to 10°N\n",
        "\n",
        "* **Longitude Range:** 50°E to 70°E\n",
        "\n",
        "**Eastern IOD (EIO) Region:**\n",
        "\n",
        "* **Latitude Range:** 10°S to 0° (Equator)\n",
        "\n",
        "* **Longitude Range:** 90°E to 110°E"
      ],
      "metadata": {
        "id": "zGsKqiL6H9_r"
      }
    },
    {
      "cell_type": "markdown",
      "source": [
        "### 3.1 Get indices of time, lat and lon over the area"
      ],
      "metadata": {
        "id": "aHfzpIDqU9Xa"
      }
    },
    {
      "cell_type": "code",
      "source": [
        "# Define the latitude and longitude ranges for the Western IOD (WIO) region\n",
        "lat_min_wio = -10   # Southern boundary (10°S)\n",
        "lat_max_wio = 10    # Northern boundary (10°N)\n",
        "lon_min_wio = 50    # Western boundary (50°E)\n",
        "lon_max_wio = 70    # Eastern boundary (70°E)"
      ],
      "metadata": {
        "id": "En0GKrMNHbq5"
      },
      "execution_count": null,
      "outputs": []
    },
    {
      "cell_type": "code",
      "source": [
        "# Find the indices for the latitude and longitude ranges for WIO\n",
        "lat_indices_wio = np.where((lat >= lat_min_wio) & (lat <= lat_max_wio))[0]\n",
        "lon_indices_wio = np.where((lon >= lon_min_wio) & (lon <= lon_max_wio))[0]"
      ],
      "metadata": {
        "id": "suwU2_szWECV"
      },
      "execution_count": null,
      "outputs": []
    },
    {
      "cell_type": "code",
      "source": [
        "print(\"latitude indeces for WIO:\\n\", lat_indices_wio)\n",
        "print(\"\\nlongitude indeces for WIO:\\n\", lon_indices_wio)"
      ],
      "metadata": {
        "colab": {
          "base_uri": "https://localhost:8080/"
        },
        "id": "JO1br4O7WRtb",
        "outputId": "76322047-d86a-43a4-ecc1-ccbd2bf2414f"
      },
      "execution_count": null,
      "outputs": [
        {
          "output_type": "stream",
          "name": "stdout",
          "text": [
            "latitude indeces for WIO:\n",
            " [320 321 322 323 324 325 326 327 328 329 330 331 332 333 334 335 336 337\n",
            " 338 339 340 341 342 343 344 345 346 347 348 349 350 351 352 353 354 355\n",
            " 356 357 358 359 360 361 362 363 364 365 366 367 368 369 370 371 372 373\n",
            " 374 375 376 377 378 379 380 381 382 383 384 385 386 387 388 389 390 391\n",
            " 392 393 394 395 396 397 398 399 400]\n",
            "\n",
            "longitude indeces for WIO:\n",
            " [200 201 202 203 204 205 206 207 208 209 210 211 212 213 214 215 216 217\n",
            " 218 219 220 221 222 223 224 225 226 227 228 229 230 231 232 233 234 235\n",
            " 236 237 238 239 240 241 242 243 244 245 246 247 248 249 250 251 252 253\n",
            " 254 255 256 257 258 259 260 261 262 263 264 265 266 267 268 269 270 271\n",
            " 272 273 274 275 276 277 278 279 280]\n"
          ]
        }
      ]
    },
    {
      "cell_type": "code",
      "source": [
        "# Define the latitude and longitude ranges for the Eastern IOD (EIO) region\n",
        "lat_min_eio = -10   # Southern boundary (10°S)\n",
        "lat_max_eio = 0     # Northern boundary (Equator)\n",
        "lon_min_eio = 90    # Western boundary (90°E)\n",
        "lon_max_eio = 110   # Eastern boundary (110°E)"
      ],
      "metadata": {
        "id": "nzcPNZ1Fe-E5"
      },
      "execution_count": null,
      "outputs": []
    },
    {
      "cell_type": "code",
      "source": [
        "# Find the indices for the latitude and longitude ranges for EIO\n",
        "lat_indices_eio = np.where((lat >= lat_min_eio) & (lat <= lat_max_eio))[0]\n",
        "lon_indices_eio = np.where((lon >= lon_min_eio) & (lon <= lon_max_eio))[0]"
      ],
      "metadata": {
        "id": "tuYhKl17WKpy"
      },
      "execution_count": null,
      "outputs": []
    },
    {
      "cell_type": "code",
      "source": [
        "print(\"latitude indices for EIO:\\n\", lat_indices_eio)\n",
        "print(\"\\nlongitude indices for EIO:\\n\", lon_indices_eio)"
      ],
      "metadata": {
        "colab": {
          "base_uri": "https://localhost:8080/"
        },
        "id": "whULFTXRXGbo",
        "outputId": "e3142ecc-c2de-48a4-c9a0-8e7774f76cdf"
      },
      "execution_count": null,
      "outputs": [
        {
          "output_type": "stream",
          "name": "stdout",
          "text": [
            "latitude indices for EIO:\n",
            " [360 361 362 363 364 365 366 367 368 369 370 371 372 373 374 375 376 377\n",
            " 378 379 380 381 382 383 384 385 386 387 388 389 390 391 392 393 394 395\n",
            " 396 397 398 399 400]\n",
            "\n",
            "longitude indices for EIO:\n",
            " [360 361 362 363 364 365 366 367 368 369 370 371 372 373 374 375 376 377\n",
            " 378 379 380 381 382 383 384 385 386 387 388 389 390 391 392 393 394 395\n",
            " 396 397 398 399 400 401 402 403 404 405 406 407 408 409 410 411 412 413\n",
            " 414 415 416 417 418 419 420 421 422 423 424 425 426 427 428 429 430 431\n",
            " 432 433 434 435 436 437 438 439 440]\n"
          ]
        }
      ]
    },
    {
      "cell_type": "code",
      "source": [
        "idx_lat_iod = np.concatenate((lat_indices_wio, lat_indices_eio))\n",
        "idx_lon_iod = np.concatenate((lon_indices_wio, lon_indices_eio))\n",
        "\n",
        "print(\"latitude indices for IOD:\\n\", idx_lat_iod)\n",
        "print(\"\\nlongitude indices for IOD:\\n\", idx_lon_iod)"
      ],
      "metadata": {
        "colab": {
          "base_uri": "https://localhost:8080/"
        },
        "id": "re_OclZpfILD",
        "outputId": "9fca2b6e-c403-4277-c120-faa6c81699c2"
      },
      "execution_count": null,
      "outputs": [
        {
          "output_type": "stream",
          "name": "stdout",
          "text": [
            "latitude indices for IOD:\n",
            " [320 321 322 323 324 325 326 327 328 329 330 331 332 333 334 335 336 337\n",
            " 338 339 340 341 342 343 344 345 346 347 348 349 350 351 352 353 354 355\n",
            " 356 357 358 359 360 361 362 363 364 365 366 367 368 369 370 371 372 373\n",
            " 374 375 376 377 378 379 380 381 382 383 384 385 386 387 388 389 390 391\n",
            " 392 393 394 395 396 397 398 399 400 360 361 362 363 364 365 366 367 368\n",
            " 369 370 371 372 373 374 375 376 377 378 379 380 381 382 383 384 385 386\n",
            " 387 388 389 390 391 392 393 394 395 396 397 398 399 400]\n",
            "\n",
            "longitude indices for IOD:\n",
            " [200 201 202 203 204 205 206 207 208 209 210 211 212 213 214 215 216 217\n",
            " 218 219 220 221 222 223 224 225 226 227 228 229 230 231 232 233 234 235\n",
            " 236 237 238 239 240 241 242 243 244 245 246 247 248 249 250 251 252 253\n",
            " 254 255 256 257 258 259 260 261 262 263 264 265 266 267 268 269 270 271\n",
            " 272 273 274 275 276 277 278 279 280 360 361 362 363 364 365 366 367 368\n",
            " 369 370 371 372 373 374 375 376 377 378 379 380 381 382 383 384 385 386\n",
            " 387 388 389 390 391 392 393 394 395 396 397 398 399 400 401 402 403 404\n",
            " 405 406 407 408 409 410 411 412 413 414 415 416 417 418 419 420 421 422\n",
            " 423 424 425 426 427 428 429 430 431 432 433 434 435 436 437 438 439 440]\n"
          ]
        }
      ]
    },
    {
      "cell_type": "code",
      "source": [
        "#removing duplicates\n",
        "idx_lat_iod, idx_lon_iod = np.unique(idx_lat_iod, return_index=True)"
      ],
      "metadata": {
        "id": "LihWcExffmhN"
      },
      "execution_count": null,
      "outputs": []
    },
    {
      "cell_type": "markdown",
      "source": [
        "* **time**: 1969-1999"
      ],
      "metadata": {
        "id": "Xa6Wy6z1XhGy"
      }
    },
    {
      "cell_type": "code",
      "source": [
        "years = np.array([idx.year for idx in utime])\n",
        "idx_tim_iod = (years>=1979) * (years<=1999)"
      ],
      "metadata": {
        "id": "ZwrYa06jXMwf"
      },
      "execution_count": null,
      "outputs": []
    },
    {
      "cell_type": "code",
      "source": [
        "print(\"years:\\n\", years)"
      ],
      "metadata": {
        "colab": {
          "base_uri": "https://localhost:8080/"
        },
        "id": "Bx-BDgWYYIyC",
        "outputId": "d5a4d40c-4f5e-466f-b936-eea7c856da93"
      },
      "execution_count": null,
      "outputs": [
        {
          "output_type": "stream",
          "name": "stdout",
          "text": [
            "years:\n",
            " [1979 1979 1979 1979 1979 1979 1979 1979 1979 1979 1979 1979 1980 1980\n",
            " 1980 1980 1980 1980 1980 1980 1980 1980 1980 1980 1981 1981 1981 1981\n",
            " 1981 1981 1981 1981 1981 1981 1981 1981 1982 1982 1982 1982 1982 1982\n",
            " 1982 1982 1982 1982 1982 1982 1983 1983 1983 1983 1983 1983 1983 1983\n",
            " 1983 1983 1983 1983 1984 1984 1984 1984 1984 1984 1984 1984 1984 1984\n",
            " 1984 1984 1985 1985 1985 1985 1985 1985 1985 1985 1985 1985 1985 1985\n",
            " 1986 1986 1986 1986 1986 1986 1986 1986 1986 1986 1986 1986 1987 1987\n",
            " 1987 1987 1987 1987 1987 1987 1987 1987 1987 1987 1988 1988 1988 1988\n",
            " 1988 1988 1988 1988 1988 1988 1988 1988 1989 1989 1989 1989 1989 1989\n",
            " 1989 1989 1989 1989 1989 1989 1990 1990 1990 1990 1990 1990 1990 1990\n",
            " 1990 1990 1990 1990 1991 1991 1991 1991 1991 1991 1991 1991 1991 1991\n",
            " 1991 1991 1992 1992 1992 1992 1992 1992 1992 1992 1992 1992 1992 1992\n",
            " 1993 1993 1993 1993 1993 1993 1993 1993 1993 1993 1993 1993 1994 1994\n",
            " 1994 1994 1994 1994 1994 1994 1994 1994 1994 1994 1995 1995 1995 1995\n",
            " 1995 1995 1995 1995 1995 1995 1995 1995 1996 1996 1996 1996 1996 1996\n",
            " 1996 1996 1996 1996 1996 1996 1997 1997 1997 1997 1997 1997 1997 1997\n",
            " 1997 1997 1997 1997 1998 1998 1998 1998 1998 1998 1998 1998 1998 1998\n",
            " 1998 1998 1999 1999 1999 1999 1999 1999 1999 1999 1999 1999 1999 1999\n",
            " 2000 2000 2000 2000 2000 2000 2000 2000 2000 2000 2000 2000 2001 2001\n",
            " 2001 2001 2001 2001 2001 2001 2001 2001 2001 2001 2002 2002 2002 2002\n",
            " 2002 2002 2002 2002 2002 2002 2002 2002 2003 2003 2003 2003 2003 2003\n",
            " 2003 2003 2003 2003 2003 2003 2004 2004 2004 2004 2004 2004 2004 2004\n",
            " 2004 2004 2004 2004 2005 2005 2005 2005 2005 2005 2005 2005 2005 2005\n",
            " 2005 2005 2006 2006 2006 2006 2006 2006 2006 2006 2006 2006 2006 2006\n",
            " 2007 2007 2007 2007 2007 2007 2007 2007 2007 2007 2007 2007 2008 2008\n",
            " 2008 2008 2008 2008 2008 2008 2008 2008 2008 2008 2009 2009 2009 2009\n",
            " 2009 2009 2009 2009 2009 2009 2009 2009 2010 2010 2010 2010 2010 2010\n",
            " 2010 2010 2010 2010 2010 2010 2011 2011 2011 2011 2011 2011 2011 2011\n",
            " 2011 2011 2011 2011 2012 2012 2012 2012 2012 2012 2012 2012 2012 2012\n",
            " 2012 2012 2013 2013 2013 2013 2013 2013 2013 2013 2013 2013 2013 2013\n",
            " 2014 2014 2014 2014 2014 2014 2014 2014 2014 2014 2014 2014 2015 2015\n",
            " 2015 2015 2015 2015 2015 2015 2015 2015 2015 2015 2016 2016 2016 2016\n",
            " 2016 2016 2016 2016 2016 2016 2016 2016 2017 2017 2017 2017 2017 2017\n",
            " 2017 2017 2017 2017 2017 2017 2018 2018 2018 2018 2018 2018 2018 2018\n",
            " 2018 2018 2018 2018 2019 2019 2019 2019 2019 2019 2019 2019 2019 2019\n",
            " 2019 2019 2020 2020 2020 2020 2020 2020 2020 2020 2020 2020 2020 2020\n",
            " 2021 2021 2021 2021 2021 2021 2021 2021 2021 2021 2021 2021 2022 2022\n",
            " 2022 2022 2022 2022 2022 2022 2022 2022 2022 2022]\n"
          ]
        }
      ]
    },
    {
      "cell_type": "markdown",
      "source": [
        "### 3.2 Extract data over IOD area"
      ],
      "metadata": {
        "id": "h1r5H2NKfwWP"
      }
    },
    {
      "cell_type": "code",
      "source": [
        "lat_iod = lat[idx_lat_iod]\n",
        "lon_iod = lon[idx_lon_iod]\n",
        "dates_iod = utime[idx_tim_iod]\n",
        "t2m_iod = t2m[idx_tim_iod, :, :][:,idx_lat_iod,:][:,:,idx_lon_iod]"
      ],
      "metadata": {
        "id": "1iLVl0hhYEg_"
      },
      "execution_count": null,
      "outputs": []
    },
    {
      "cell_type": "code",
      "source": [
        "t2m_iod.shape"
      ],
      "metadata": {
        "colab": {
          "base_uri": "https://localhost:8080/"
        },
        "id": "C5irBISps6OH",
        "outputId": "defa61ab-d1bf-4c6e-ce3e-c62d5e497a6e"
      },
      "execution_count": null,
      "outputs": [
        {
          "output_type": "execute_result",
          "data": {
            "text/plain": [
              "(21, 12, 81, 81)"
            ]
          },
          "metadata": {},
          "execution_count": 34
        }
      ]
    },
    {
      "cell_type": "code",
      "source": [
        "print(t2m_iod.shape)\n",
        "print(dates_iod.shape)"
      ],
      "metadata": {
        "colab": {
          "base_uri": "https://localhost:8080/"
        },
        "id": "6O_j9Z8Uf8Ix",
        "outputId": "1decab1b-d53f-4791-848d-9361737f1a79"
      },
      "execution_count": null,
      "outputs": [
        {
          "output_type": "stream",
          "name": "stdout",
          "text": [
            "(252, 81, 81)\n",
            "(252,)\n"
          ]
        }
      ]
    },
    {
      "cell_type": "markdown",
      "source": [
        "## 4. Calculate region means"
      ],
      "metadata": {
        "id": "dGkmemCjgSAH"
      }
    },
    {
      "cell_type": "markdown",
      "source": [
        "### 4.1 Transform t2m_iod from months|lat|lon => 12|year|lat|lon => year|12|lat|lon"
      ],
      "metadata": {
        "id": "WMlR6BdTgzJg"
      }
    },
    {
      "cell_type": "code",
      "source": [
        "# Reshape the t2m_iod array to a 4D shape: (12, 21, 81, 81)\n",
        "# representing 12 time steps, 21 years, and 81x81 grid points.\n",
        "t2m_iod = np.reshape(t2m_iod, (12, 21, 81, 81), order='F')\n",
        "\n",
        "# Transpose the array to arrange dimensions as: year, time step, latitude, longitude.\n",
        "t2m_iod = np.transpose(t2m_iod, (1, 0, 2, 3))\n",
        "\n",
        "\n",
        "print(t2m_iod.shape)"
      ],
      "metadata": {
        "colab": {
          "base_uri": "https://localhost:8080/"
        },
        "id": "dOz-i_CPgOlc",
        "outputId": "e7888424-1139-4eb9-edeb-22a1b4262518"
      },
      "execution_count": null,
      "outputs": [
        {
          "output_type": "stream",
          "name": "stdout",
          "text": [
            "(21, 12, 81, 81)\n"
          ]
        }
      ]
    },
    {
      "cell_type": "markdown",
      "source": [
        "### 4.2 Calculate monthly climatology"
      ],
      "metadata": {
        "id": "ux6oIRp4iAcK"
      }
    },
    {
      "cell_type": "code",
      "source": [
        "# Calculate the climatological mean of t2m_iod by averaging over\n",
        "clima_t2m_iod = np.mean(t2m_iod, axis=0)\n",
        "print(clima_t2m_iod.shape)"
      ],
      "metadata": {
        "colab": {
          "base_uri": "https://localhost:8080/"
        },
        "id": "OoIrUiZRh9_b",
        "outputId": "8e594376-375c-497e-dc8a-700a2e4ea4f5"
      },
      "execution_count": null,
      "outputs": [
        {
          "output_type": "stream",
          "name": "stdout",
          "text": [
            "(12, 81, 81)\n"
          ]
        }
      ]
    },
    {
      "cell_type": "markdown",
      "source": [
        "### 4.3 Calculate anomaly of SST over IOD area"
      ],
      "metadata": {
        "id": "jmvK4NnaiMSE"
      }
    },
    {
      "cell_type": "code",
      "source": [
        "num_repeats = 21\n",
        "clima_t2m_iod = np.vstack([clima_t2m_iod]*num_repeats)   # Create a new array by vertically stacking the climatological mean data\n",
        "print(clima_t2m_iod.shape)"
      ],
      "metadata": {
        "id": "1U2_gOwbljnn",
        "colab": {
          "base_uri": "https://localhost:8080/"
        },
        "outputId": "17c58479-9487-4289-a7b8-300604605ec0"
      },
      "execution_count": null,
      "outputs": [
        {
          "output_type": "stream",
          "name": "stdout",
          "text": [
            "(252, 81, 81)\n"
          ]
        }
      ]
    },
    {
      "cell_type": "code",
      "source": [
        "clima_t2m_iod = np.reshape(clima_t2m_iod, (12, 21, 81, 81), order='F')  #reshaping\n",
        "clima_t2m_iod = np.transpose(clima_t2m_iod, (1, 0, 2, 3))               #transposing\n",
        "print(clima_t2m_iod.shape)"
      ],
      "metadata": {
        "colab": {
          "base_uri": "https://localhost:8080/"
        },
        "id": "J0XIKBd-imwn",
        "outputId": "c8250570-35e1-415f-cc4b-0c11c23f02b5"
      },
      "execution_count": null,
      "outputs": [
        {
          "output_type": "stream",
          "name": "stdout",
          "text": [
            "(21, 12, 81, 81)\n"
          ]
        }
      ]
    },
    {
      "cell_type": "code",
      "source": [
        "# Calculate sea surface temperature anomaly (SSTA) by subtracting the climatological mean\n",
        "ssta = t2m_iod - clima_t2m_iod\n",
        "ssta2 = np.reshape(ssta, (21,12,81*81), order = 'F')   #reshaping\n",
        "ssta3 = np.mean(ssta2, axis = 2);                      # Calculate the spatial mean of SSTA for each year and time step\n",
        "print(ssra3.shape)"
      ],
      "metadata": {
        "colab": {
          "base_uri": "https://localhost:8080/"
        },
        "id": "c9kVhjBNi6uY",
        "outputId": "62b9d674-8d30-4be3-9156-51a028274e78"
      },
      "execution_count": null,
      "outputs": [
        {
          "output_type": "stream",
          "name": "stdout",
          "text": [
            "(21, 12)\n"
          ]
        }
      ]
    },
    {
      "cell_type": "code",
      "source": [
        "ssta_series = np.reshape(ssta3.T, (12*21,1), order= 'F');   # Reshape the transposed array into a 1D series\n",
        "print(ssta_series.shape)"
      ],
      "metadata": {
        "id": "73QwAsoIjWa8",
        "colab": {
          "base_uri": "https://localhost:8080/"
        },
        "outputId": "bbd9bd4c-402f-4e4a-fdfb-da34f51266bd"
      },
      "execution_count": null,
      "outputs": [
        {
          "output_type": "stream",
          "name": "stdout",
          "text": [
            "(252, 1)\n"
          ]
        }
      ]
    },
    {
      "cell_type": "markdown",
      "source": [
        "## 5. Have a beautiful look"
      ],
      "metadata": {
        "id": "L_HMQ56imvR7"
      }
    },
    {
      "cell_type": "code",
      "source": [
        "import matplotlib.dates as mdates\n",
        "from matplotlib.dates import MonthLocator, WeekdayLocator, DateFormatter\n",
        "import matplotlib.ticker as ticker"
      ],
      "metadata": {
        "id": "L8sYtmv1muLG"
      },
      "execution_count": null,
      "outputs": []
    },
    {
      "cell_type": "code",
      "source": [
        "# Define a function to convert cftime dates to datetime objects\n",
        "from datetime import datetime\n",
        "def cftime_to_datetime(cftime_dates):\n",
        "    return [datetime(year=dt.year, month=dt.month, day=dt.day,\n",
        "                     hour=dt.hour, minute=dt.minute, second=dt.second) for dt in cftime_dates]\n",
        "\n",
        "# Convert cftime dates to datetime\n",
        "dates_iod = cftime_to_datetime(dates_iod)"
      ],
      "metadata": {
        "id": "UCs02rPcnrD4"
      },
      "execution_count": null,
      "outputs": []
    },
    {
      "cell_type": "code",
      "source": [
        "fig, ax = plt.subplots(1, 1 , figsize=(15,5))\n",
        "ax.plot(dates_iod, ssta_series)\n",
        "ax.set_ylim((-4,4))\n",
        "\n",
        "#horiz_line_data = np.array([0 for i in np.arange(len(dates_n3))])\n",
        "#ax.plot(dates_n3, horiz_line_data, 'r--')\n",
        "ax.axhline(0, color='r')\n",
        "\n",
        "ax.set_title('IOD SSTA 1960-1999')\n",
        "ax.set_ylabel(['$^oC$'])\n",
        "ax.set_xlabel('Date')\n",
        "\n",
        "# rotate and align the tick labels so they look better\n",
        "fig.autofmt_xdate()\n",
        "\n",
        "# use a more precise date string for the x axis locations in the toolbar\n",
        "ax.fmt_xdata = mdates.DateFormatter('%Y')"
      ],
      "metadata": {
        "colab": {
          "base_uri": "https://localhost:8080/",
          "height": 458
        },
        "id": "y-qelZMAm1dD",
        "outputId": "2bbcdb1d-38c3-424a-e54c-eb5854b240ae"
      },
      "execution_count": null,
      "outputs": [
        {
          "output_type": "display_data",
          "data": {
            "text/plain": [
              "<Figure size 1500x500 with 1 Axes>"
            ],
            "image/png": "[encoded data removed]"
          },
          "metadata": {}
        }
      ]
    },
    {
      "cell_type": "markdown",
      "source": [
        "The graph shows the time series of Indian Ocean Dipole (IOD) Sea Surface Temperature Anomaly (SSTA) from 1960 to 1999. The x-axis represents the date, while the y-axis represents the SSTA in degrees Celsius (°C).\n",
        "\n",
        "Here are some key observations from the graph:\n",
        "\n",
        "* **Oscillations:** The SSTA exhibits clear oscillations, indicating a periodic variation in temperature.\n",
        "* **Positive and Negative Phases:** The oscillations alternate between positive and negative phases. Positive phases suggest warmer-than-average sea surface temperatures in the western Indian Ocean, while negative phases indicate cooler-than-average temperatures.\n",
        "* **Amplitude:** The amplitude of the oscillations varies over time. Some periods show larger fluctuations in SSTA compared to others.\n",
        "* **Mean:** The overall mean of the SSTA appears to be close to zero, suggesting that the average temperature anomaly over the entire period is relatively small.\n",
        "\n",
        "**Conclusion:**\n",
        "\n",
        "The graph suggests that the IOD SSTA has experienced significant fluctuations over the period 1960-1999. These fluctuations are likely associated with the El Niño-Southern Oscillation (ENSO) and other climate phenomena. Understanding the dynamics of the IOD is crucial for predicting and mitigating the impacts of climate variability and change in the Indian Ocean region.\n",
        "\n",
        "**Additional Notes:**\n",
        "\n",
        "* The red horizontal line at y=0 represents the average SSTA over the entire period.\n",
        "* The x-axis labels are rotated for better readability.\n",
        "* The date format is set to display the year for clarity."
      ],
      "metadata": {
        "id": "naudIh48_ncS"
      }
    },
    {
      "cell_type": "markdown",
      "source": [
        "## 6. Save Data"
      ],
      "metadata": {
        "id": "Xl5yCQQZn3oA"
      }
    },
    {
      "cell_type": "code",
      "source": [
        "np.savez('/content/drive/MyDrive/Project Learnings/Data/ssta.iod.21y.npz', ssta_series=ssta_series)"
      ],
      "metadata": {
        "id": "SKfuMQ3ZnMkR"
      },
      "execution_count": null,
      "outputs": []
    },
    {
      "cell_type": "code",
      "source": [],
      "metadata": {
        "id": "NHPIWeecoQdQ"
      },
      "execution_count": null,
      "outputs": []
    }
  ]
}